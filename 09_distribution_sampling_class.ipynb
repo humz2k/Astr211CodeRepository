{
 "cells": [
  {
   "cell_type": "markdown",
   "id": "e1761c7b",
   "metadata": {
    "slideshow": {
     "slide_type": "slide"
    }
   },
   "source": [
    "# <font color='blue'>ASTR 21100/31200\n",
    "\n",
    "## <font color='blue'>Methods for finding minimum/maximum of a function (aka optimization)\n",
    "## <font color='blue'>Derivative-free methods "
   ]
  },
  {
   "cell_type": "markdown",
   "id": "886c29ca",
   "metadata": {
    "slideshow": {
     "slide_type": "fragment"
    }
   },
   "source": [
    "Optimization is numerical computations of the function parameter values, for which the function has minimum or maximum. \n",
    "\n",
    "Given that any maximum of $f(\\mathbf{x})$ is a minimum of $-f(\\mathbf{x})$, the actual methods focus on minimizing the function."
   ]
  },
  {
   "cell_type": "markdown",
   "id": "82e3d7d6",
   "metadata": {
    "slideshow": {
     "slide_type": "slide"
    }
   },
   "source": [
    "### <font color='blue'>Local minima vs global minimum</font>\n",
    "\n",
    "A multi-dimensional function can have multiple peaks and valleys with minima. Usually, we are interested to find global minimum or maximum, while local extrema are a nuisance as they can fool an algorithm. \n",
    "    \n",
    "<p>\n",
    "<center>\n",
    "<a href=\"http://nelder-mead.s3-website.us-east-2.amazonaws.com/\"><img width=700 src=\"https://astro.uchicago.edu/~andrey/classes/a211/img/local_vs_global_min.PNG\"></img></a>"
   ]
  },
  {
   "cell_type": "markdown",
   "id": "7c40a9f6",
   "metadata": {
    "slideshow": {
     "slide_type": "slide"
    }
   },
   "source": [
    "### <font color='blue'>Other considerations for the optimization methods</font>\n",
    "\n",
    "\n",
    "* Global minimization (find all minima) vs local minimization (find local minimum only) \n",
    "\n",
    "\n",
    "* Is the function discontinuous (discrete)? \n",
    "\n",
    "\n",
    "* Computational efficiency\n",
    "\n",
    "\n",
    "* Robustness of the result: whether true minimum is found regardless of the starting guess\n",
    "\n",
    "\n",
    "* Whether it is easy to impose boundaries on the values of the function parameters during minimum search\n"
   ]
  },
  {
   "cell_type": "markdown",
   "id": "3e775341",
   "metadata": {
    "slideshow": {
     "slide_type": "slide"
    }
   },
   "source": [
    "### <font color='blue'>A test case: sampling of the Rosenbrock \"banana\" distribution</font>\n",
    "\n",
    "Rosenbrock distribution is described by the following equation in 2D (i.e. for two parameters $x$ and $y$): \n",
    "\n",
    "$$p_{\\rm R}(x_1,x_2) = \\exp\\left[-c\\,(b(x_2-x_1^2)^2 -(a-x_1)^2)\\right], $$\n",
    "    \n",
    "\n",
    "which is often used for testing optimization and sampling algorithms, particularly with $a=1$, $b=100$ most often used. It has a global maximum at $(x_1,x_2)=(a,a^2)$ at which $p_{\\rm R}(x_1,x_2)=1$, as is clear from the equation above. "
   ]
  },
  {
   "cell_type": "markdown",
   "id": "1d895607",
   "metadata": {
    "slideshow": {
     "slide_type": "fragment"
    }
   },
   "source": [
    "or logarithm of the function: \n",
    "\n",
    "$$\\ln p_{\\rm R}(x_1, x_2) = -c\\, \\left[b(x_{2}-x_{1}^2)^2 + (a-x_{1})^2\\right]$$"
   ]
  },
  {
   "cell_type": "markdown",
   "id": "00d9fbbd",
   "metadata": {
    "slideshow": {
     "slide_type": "skip"
    }
   },
   "source": [
    "***Note:*** The multi-dimensional extension of the Rosenbrock function for $d$-dimensional space of parameters $\\mathbf{x}=\\{x_0,x_1.\\ldots,x_{d-1}\\}$ is\n",
    "\n",
    "$$p_{\\rm R}(\\vec{x}\\vert a, b,c)=\\exp\\left(-c\\times \\sum\\limits_{i=1}^{d-1}\\left[b(x_{i}-x_{i-1}^2)^2 + (a-x_{i-1})^2\\right]\\right).$$"
   ]
  },
  {
   "cell_type": "markdown",
   "id": "252ef953",
   "metadata": {
    "slideshow": {
     "slide_type": "skip"
    }
   },
   "source": [
    "or\n",
    "\n",
    "$$\\ln p_{\\rm R}(\\vec{x}\\vert a, b,c) = -c\\times \\sum\\limits_{i=1}^{d-1}\\left[b(x_{i}-x_{i-1}^2)^2 + (a-x_{i-1})^2\\right]$$"
   ]
  },
  {
   "cell_type": "markdown",
   "id": "67611b86",
   "metadata": {
    "slideshow": {
     "slide_type": "skip"
    }
   },
   "source": [
    "This function is frequently used for testing of sampling and optimization algorithms  because this function is quite \"difficult\" despite its benign-looking functional form. The function spans a wide range of values over small change of parameters: it has a strongly \"curved\" ridge in the $x-y$ plane which extends  values to large values of $x$ and $y$. \n",
    "\n",
    "The function is named after Howard H. Rosenbrock, who introduced it as a test case for a minimization algorithm he developed in a <a href=\"https://academic.oup.com/comjnl/article/3/3/175/345501\">paper</a> in 1960. "
   ]
  },
  {
   "cell_type": "markdown",
   "id": "0331e05f",
   "metadata": {
    "slideshow": {
     "slide_type": "skip"
    }
   },
   "source": [
    "Note that $-r(\\mathbf{x})$ will be a function with a long curved \"ridge\" instead of \"valley\". Such function is often used in testing sampling algorithm and we will see it again when we talk about MCMC sampling. \n",
    "\n",
    "The routine below that was taken from the SciPy optimize package tutorials uses Python's vector slicing to calculate the function for $a=1$, $b=100$. Note that this implementation does not explicitly deal with dimensionality of the input vector $\\mathbf{x}$, this is done automatically using vector operations. Thus, the same code works for $\\mathbf{x}$ of different dimensions. Below we will use this function as a test case to find its minimum for 2D and 5D cases.    "
   ]
  },
  {
   "cell_type": "markdown",
   "id": "d5e44daf",
   "metadata": {
    "slideshow": {
     "slide_type": "skip"
    }
   },
   "source": [
    "The function below computes $\\ln p_{\\rm R}(\\vec{x})$ and uses Python's vector slicing to calculate the function for $a=1$, $b=100$. Note that this implementation does not explicitly deal with dimensionality of the input vector $\\mathbf{x}$, this is done automatically using NumPy vector operations. Thus, the same code works for $\\mathbf{x}$ of different dimensions.    "
   ]
  },
  {
   "cell_type": "code",
   "execution_count": 361,
   "id": "81e2299e",
   "metadata": {
    "slideshow": {
     "slide_type": "skip"
    }
   },
   "outputs": [],
   "source": [
    "import numpy as np \n",
    "from timeit import default_timer\n",
    "\n",
    "# use jupyter \"magic\" command to tell it to embed plot into the notebook \n",
    "import matplotlib.pyplot as plt\n",
    "%matplotlib inline\n",
    "\n",
    "from codes.plotting import plot_prettier, plot_2d_dist, plot_color_map\n",
    "plot_prettier()"
   ]
  },
  {
   "cell_type": "code",
   "execution_count": 477,
   "id": "34410de5",
   "metadata": {
    "slideshow": {
     "slide_type": "slide"
    }
   },
   "outputs": [],
   "source": [
    "def mlnrosenbrock(x, a=1., b=100., c=1.):\n",
    "    \"\"\"-\\ln of the Rosenbrock \"banana\" distribution\n",
    "    x is a numpy vector of points in 2 or more dimensional space\n",
    "    \"\"\"\n",
    "    return c * sum(b*(x[1:]-x[:-1]**2.0)**2.0 + (a-x[:-1])**2.0)"
   ]
  },
  {
   "cell_type": "code",
   "execution_count": 479,
   "id": "80d7e003",
   "metadata": {
    "slideshow": {
     "slide_type": "skip"
    }
   },
   "outputs": [],
   "source": [
    "# define a grid of x and y for calculations and plotting\n",
    "xmin, xmax, ng = -10, 10, 100\n",
    "ymin, ymax = -50, 100\n",
    "x = np.linspace(xmin, xmax, ng)\n",
    "y = np.linspace(ymin, ymax, ng)\n",
    "\n",
    "# generate a 2d grid of x and y points\n",
    "xg, yg = np.meshgrid(x, y)\n",
    "\n",
    "# form a single array of 2D vectors \n",
    "x = np.vstack([xg.ravel(), yg.ravel()])\n",
    "\n",
    "# compute the Rosenbrock function and reshape the output into ng x ng grid for plotting\n",
    "rg = mlnrosenbrock(x).reshape((ng,ng))\n"
   ]
  },
  {
   "cell_type": "markdown",
   "id": "2bf8eea5",
   "metadata": {
    "slideshow": {
     "slide_type": "slide"
    }
   },
   "source": [
    "The colormap below shows logarithm (base-10) of the 2D Rosenbrock function. The minimum of the function is at $[x,y]=[1,1]$. "
   ]
  },
  {
   "cell_type": "code",
   "execution_count": 480,
   "id": "b3f4ff9b",
   "metadata": {
    "slideshow": {
     "slide_type": "-"
    }
   },
   "outputs": [
    {
     "data": {
      "image/png": "[encoded data removed]",
      "text/plain": [
       "<Figure size 600x600 with 2 Axes>"
      ]
     },
     "metadata": {
      "needs_background": "light"
     },
     "output_type": "display_data"
    }
   ],
   "source": [
    "#xg, yg are 2D \"grids\" of x and y generated by meshgrid\n",
    "# rg is 2D array with values of the Rosenbrock function for xg-yg grid\n",
    "\n",
    "plot_color_map(xg, yg, np.log10(rg), xlim=[xmin,xmax], ylim=[ymin,ymax], \n",
    "                   xlabel = r'$x$', ylabel = '$y$', cmap='plasma', colorbar=True, \n",
    "                   contours=False, contcmap='plasma', cbar_label=r'$\\log_{10} R$',\n",
    "                   figsize=3.0)\n"
   ]
  },
  {
   "cell_type": "markdown",
   "id": "37f5fa65",
   "metadata": {
    "slideshow": {
     "slide_type": "slide"
    }
   },
   "source": [
    "### <font color='darkblue'>One of the simplest methods: Monte Carlo-based random walk minimization\n",
    "\n",
    "Follows a random walk of a \"*walker*\" ($\\mathbf{x}$ below is a vector of length $d$ - dimensionality of the parameter space where we are finding the minimum:\n",
    "\n",
    "1. start at some initial point $\\mathbf{x}=\\mathbf{x}_0$. \n",
    "\n",
    "2. propose a step in a random direction $\\mathbf{x}^\\prime = \\mathbf{x} + \\Delta\\mathbf{x}$\n",
    "\n",
    "3. if $f(\\mathbf{x}^\\prime)< f(\\mathbf{x})$, accept the step $\\mathbf{x}=\\mathbf{x}^\\prime$, else go back to step 2.\n",
    "\n",
    "Steps are terminated when some convergence is reached, for example no new step is accepted after some maximum number of proposed steps (it means that the walker is likely very close to the minimum), or accepted steps are smaller than some threshold. \n"
   ]
  },
  {
   "cell_type": "markdown",
   "id": "ab0e77e4",
   "metadata": {
    "slideshow": {
     "slide_type": "fragment"
    }
   },
   "source": [
    "Choice of convergence criterion. Concept of ***the absolute tolerance*** parameter:\n",
    "\n",
    "$$\\mathtt{atol} > \\max_{i=0,d-1}\\vert x_i^\\prime-x_i\\vert$$ "
   ]
  },
  {
   "cell_type": "markdown",
   "id": "621dc62f",
   "metadata": {
    "slideshow": {
     "slide_type": "slide"
    }
   },
   "source": [
    "Components of the step vector $\\Delta\\mathbf{x}$ are usually chosen to follow Gaussian distribution, i.e. for a component $i$: \n",
    "\n",
    "$$p(\\Delta x_i) = \\frac{1}{\\sqrt{2\\pi}\\,\\sigma}\\,\\exp\\left(-\\frac{1}{2}\\frac{\\Delta x_i^2}{\\sigma_i^2}\\right) $$\n",
    "\n",
    "\n",
    "The method requires choice of an optimal step sizes scale, $\\sigma_i$. Performance and accuracy of the result will depend on this choice. However, this method is simple to implement, it does not require derivatives, and will do much better than the brute force search for a minimum. "
   ]
  },
  {
   "cell_type": "code",
   "execution_count": 375,
   "id": "e5195519",
   "metadata": {
    "slideshow": {
     "slide_type": "-"
    }
   },
   "outputs": [],
   "source": [
    "def minimize_by_random_walk(func, x0, stepsize, *args, atol=1.e-4, maxsteps=100, verbose=False):\n",
    "    assert(atol > 0.) # ensure abs tolerance is positive\n",
    "    nd = np.shape(x0)[0] # number of parameters\n",
    "    xold = x0 + 100.*atol # initialize old location just to get things started\n",
    "    xnew = x0 # initial position\n",
    "    step = stepsize # initial step size\n",
    "    chain = []\n",
    "    nsteps = 0\n",
    "    while np.abs(xnew - xold).max() > atol:\n",
    "        xold = xnew\n",
    "        fold = func(xold, *args)\n",
    "        xtry = xold + np.random.normal(scale=step, size=nd) # generate a random Gaussian-distributed step\n",
    "        while func(xtry, *args) >= fold:\n",
    "            xtry = xold + np.random.normal(scale=step, size=nd)\n",
    "        chain.append(xtry)\n",
    "        xnew = xtry\n",
    "        if verbose:\n",
    "            print(xnew, np.abs(xnew - xold))\n",
    "        nsteps += 1\n",
    "        if nsteps > maxsteps: \n",
    "            print(f'maximum number of steps reached {maxsteps:d}')\n",
    "            break\n",
    "\n",
    "    return xnew, np.array(chain)"
   ]
  },
  {
   "cell_type": "code",
   "execution_count": 486,
   "id": "146da3ef",
   "metadata": {
    "slideshow": {
     "slide_type": "slide"
    }
   },
   "outputs": [
    {
     "ename": "KeyboardInterrupt",
     "evalue": "",
     "output_type": "error",
     "traceback": [
      "\u001b[1;31m---------------------------------------------------------------------------\u001b[0m",
      "\u001b[1;31mKeyboardInterrupt\u001b[0m                         Traceback (most recent call last)",
      "Input \u001b[1;32mIn [486]\u001b[0m, in \u001b[0;36m<cell line: 2>\u001b[1;34m()\u001b[0m\n\u001b[0;32m      1\u001b[0m x0 \u001b[38;5;241m=\u001b[39m np\u001b[38;5;241m.\u001b[39marray([\u001b[38;5;241m-\u001b[39m\u001b[38;5;241m2\u001b[39m,\u001b[38;5;241m2\u001b[39m])\n\u001b[1;32m----> 2\u001b[0m xmin, _ \u001b[38;5;241m=\u001b[39m \u001b[43mminimize_by_random_walk\u001b[49m\u001b[43m(\u001b[49m\u001b[43mmlnrosenbrock\u001b[49m\u001b[43m,\u001b[49m\u001b[43m \u001b[49m\u001b[43mx0\u001b[49m\u001b[43m,\u001b[49m\u001b[43m \u001b[49m\u001b[38;5;241;43m0.1\u001b[39;49m\u001b[43m,\u001b[49m\u001b[43m \u001b[49m\u001b[43mmaxsteps\u001b[49m\u001b[38;5;241;43m=\u001b[39;49m\u001b[38;5;241;43m100\u001b[39;49m\u001b[43m,\u001b[49m\u001b[43m \u001b[49m\u001b[43matol\u001b[49m\u001b[38;5;241;43m=\u001b[39;49m\u001b[38;5;241;43m1.e-4\u001b[39;49m\u001b[43m)\u001b[49m\n\u001b[0;32m      3\u001b[0m \u001b[38;5;28mprint\u001b[39m(xmin)\n",
      "Input \u001b[1;32mIn [375]\u001b[0m, in \u001b[0;36mminimize_by_random_walk\u001b[1;34m(func, x0, stepsize, atol, maxsteps, verbose, *args)\u001b[0m\n\u001b[0;32m     12\u001b[0m xtry \u001b[38;5;241m=\u001b[39m xold \u001b[38;5;241m+\u001b[39m np\u001b[38;5;241m.\u001b[39mrandom\u001b[38;5;241m.\u001b[39mnormal(scale\u001b[38;5;241m=\u001b[39mstep, size\u001b[38;5;241m=\u001b[39mnd) \u001b[38;5;66;03m# generate a random Gaussian-distributed step\u001b[39;00m\n\u001b[0;32m     13\u001b[0m \u001b[38;5;28;01mwhile\u001b[39;00m func(xtry, \u001b[38;5;241m*\u001b[39margs) \u001b[38;5;241m>\u001b[39m\u001b[38;5;241m=\u001b[39m fold:\n\u001b[1;32m---> 14\u001b[0m     xtry \u001b[38;5;241m=\u001b[39m xold \u001b[38;5;241m+\u001b[39m \u001b[43mnp\u001b[49m\u001b[38;5;241;43m.\u001b[39;49m\u001b[43mrandom\u001b[49m\u001b[38;5;241;43m.\u001b[39;49m\u001b[43mnormal\u001b[49m\u001b[43m(\u001b[49m\u001b[43mscale\u001b[49m\u001b[38;5;241;43m=\u001b[39;49m\u001b[43mstep\u001b[49m\u001b[43m,\u001b[49m\u001b[43m \u001b[49m\u001b[43msize\u001b[49m\u001b[38;5;241;43m=\u001b[39;49m\u001b[43mnd\u001b[49m\u001b[43m)\u001b[49m\n\u001b[0;32m     15\u001b[0m chain\u001b[38;5;241m.\u001b[39mappend(xtry)\n\u001b[0;32m     16\u001b[0m xnew \u001b[38;5;241m=\u001b[39m xtry\n",
      "\u001b[1;31mKeyboardInterrupt\u001b[0m: "
     ]
    }
   ],
   "source": [
    "x0 = np.array([-2,2])\n",
    "xmin, _ = minimize_by_random_walk(mlnrosenbrock, x0, 0.1, maxsteps=100, atol=1.e-4)\n",
    "print(xmin)"
   ]
  },
  {
   "cell_type": "markdown",
   "id": "eafbe2b8",
   "metadata": {
    "slideshow": {
     "slide_type": "slide"
    }
   },
   "source": [
    "###  <font color='blue'>The Nelder-Mead (aka simplex) method</font>\n",
    "\n",
    "There is no need for you to understand this algorithm in detail for our purposes. Just get the main idea.  Visual illustration of the algorithm, which can be found <a href=\"https://www.benfrederickson.com/numerical-optimization/\">here</a>, can help with that.\n",
    "\n",
    "The algorithm begins by forming an inital $(D + 1)$-dimensional polyhedron (where $D$ is the number of the minimized function parameters), or *simplex*,\n",
    "of $D + 1$ points, $\\mathbf{x}_i$, $i = 0, 1,\\ldots, D$, that are randomly distributed throughout\n",
    "the problem space domain. Indices of the points are sorted in ascending order of $f(\\mathbf{x})$ so that $f(\\mathbf{x}_0)$ is smallest and\n",
    "$f(\\mathbf{x}_D)$ is largest. It then proceeds as follows: \n",
    "\n",
    "1. To obtain a new trial point, $\\mathbf{x}_r$, the worst point, $\\mathbf{x}_D$, is reflected through the opposite face of the polyhedron using a scaling factor, $s_1$:\n",
    "\n",
    "$$\\mathbf{x}_r=\\mathbf{x}_D + s_1\\,(\\mathbf{x}_m - \\mathbf{x}_D),$$\n",
    "\n",
    "where $\\mathbf{x}_m$ is mean (the centroid) of all $\\mathbf{x}$, excluding $\\mathbf{x}_D$:\n",
    "\n",
    "$$\\mathbf{x}_m = \\frac{1}{D}\\,\\sum\\limits_{i=0}^{D-1}\\mathbf{x}_i.$$"
   ]
  },
  {
   "cell_type": "markdown",
   "id": "8fc111bc",
   "metadata": {
    "slideshow": {
     "slide_type": "skip"
    }
   },
   "source": [
    "For example, when $D = 2$, the simplex is a triangle."
   ]
  },
  {
   "cell_type": "markdown",
   "id": "c46cc3f2",
   "metadata": {
    "slideshow": {
     "slide_type": "slide"
    }
   },
   "source": [
    "###  <font color='darkblue'>Examples of simplex transformations that can occur during algorithm\n",
    "\n",
    "<п>\n",
    "<center>\n",
    "<img width=700 src=\"https://www.researchgate.net/publication/331485312/figure/fig1/AS:732572388712448@1551670276072/Operations-in-the-Nelder-Mead-simplex-algorithm.ppm\"></img>"
   ]
  },
  {
   "cell_type": "markdown",
   "id": "59efd056",
   "metadata": {
    "slideshow": {
     "slide_type": "-"
    }
   },
   "source": [
    "[Visualization](https://www.benfrederickson.com/numerical-optimization/) of how the method works in 1D and 2d. "
   ]
  },
  {
   "cell_type": "markdown",
   "id": "664ce780",
   "metadata": {
    "slideshow": {
     "slide_type": "slide"
    }
   },
   "source": [
    "2. If $f(\\mathbf{x}_r)<f(\\mathbf{x}_0)$, then take another step in the same direction with scaling factor of $s_2$:\n",
    "\n",
    "$$\\mathbf{x}_e=\\mathbf{x}_r + s_2\\,(\\mathbf{x}_m - \\mathbf{x}_D),$$\n",
    "\n",
    "If $f(\\mathbf{x}_e)<f(\\mathbf{x}_0)$, then $\\mathbf{x}_D=\\mathbf{x}_e$ and we go to step 1 above, else\n",
    "    $\\mathbf{x}_D=\\mathbf{x}_r$.\n",
    "    \n",
    "3. Else if $f(\\mathbf{x}_r)>f(\\mathbf{x}_0)$, compare $f(\\mathbf{x}_r)$ to $f(\\mathbf{x}_{D-1})$ and if $f(\\mathbf{x}_r)$ is smaller $\\mathbf{x}_{D-1}=\\mathbf{x}_r$, if not than *shrink the entire simplex* by the scaling factor of $s_3$.\n",
    "\n",
    "This description is not fully complete, as there are a number of checks and choices made in the last step. It is meant to give an idea of how the algorithm works. It'd be easier to examine the pseudo-code for the algorithm given below."
   ]
  },
  {
   "cell_type": "markdown",
   "id": "6cc0706a",
   "metadata": {
    "slideshow": {
     "slide_type": "skip"
    }
   },
   "source": [
    "<img width=500 src=\"http://astro.uchicago.edu/~andrey/classes/a211/img/simplex_pseudo_code.PNG\"></img>"
   ]
  },
  {
   "cell_type": "markdown",
   "id": "590d6e26",
   "metadata": {
    "slideshow": {
     "slide_type": "skip"
    }
   },
   "source": [
    "Using Nelder-Mead (simplex) minimization method that does not rely on function derivatives to find the minimum of the Rosenbrock function.  "
   ]
  },
  {
   "cell_type": "code",
   "execution_count": null,
   "id": "c49ef544",
   "metadata": {
    "slideshow": {
     "slide_type": "slide"
    }
   },
   "outputs": [],
   "source": [
    "from scipy.optimize import minimize\n",
    "\n",
    "x0 = [-10, 10] # 2d version \n",
    "#x0 =  np.array([0.5, 0.5, 0.5, 0.5, 0.5])\n",
    "#x0 = np.array([-10, 10, -5, 10, 5])\n",
    "\n",
    "tstart = default_timer()\n",
    "res = minimize(mlnrosenbrock, x0, method='nelder-mead', tol=1.e-12)\n",
    "print(\"completed in %.3g sec\"%(default_timer() - tstart))\n",
    "\n",
    "print(\"minimum at :\",res.x)"
   ]
  },
  {
   "cell_type": "markdown",
   "id": "41d6124f",
   "metadata": {
    "slideshow": {
     "slide_type": "slide"
    }
   },
   "source": [
    "###  <font color='blue'>The Differential Evolution method</font>\n",
    "\n",
    "Developed by R. Storn and K. Price in 1997 (<a href=\"https://link.springer.com/article/10.1023%2FA%3A1008202821328\">Storn & Price 1997</a>), the <a href=\"https://en.wikipedia.org/wiki/Differential_evolution\">differential evolution algorithm</a> is remarkably simple to implement, works in arbitrary number of dimensions, does not require function derivatives, allows imposing bounds on the domain, and is quite efficient. \n",
    "\n",
    "\n",
    "<p>\n",
    "    \n",
    "<img width=700 src=\"https://pablormier.github.io/assets/img/de/ackley.gif\"></img>"
   ]
  },
  {
   "cell_type": "markdown",
   "id": "5f124997",
   "metadata": {
    "slideshow": {
     "slide_type": "slide"
    }
   },
   "source": [
    "Start with $N_p$ members of the population randomly distributed in the problem domain. Vector of coordinates for each member is indexed from $0$ to $N_p-1$ and collection of all vectors $\\mathbf{X}_{\\rm now}=(\\mathbf{x}_{\\rm now,0},\\mathbf{x}_{\\rm now,1},\\ldots,\\mathbf{x}_{{\\rm now},N_p-1})$ forms the current population, where each $\\mathbf{x}_{\\rm now,i}$ is a $D$-dimensional vector, where $D$ is the number of parameters of the minimized function.   \n",
    "\n",
    "The algorithm then proceeds through iterations (called evolutionary or generational cycles) that lead to evolution of the population towards function minimum."
   ]
  },
  {
   "cell_type": "markdown",
   "id": "42786ba8",
   "metadata": {
    "slideshow": {
     "slide_type": "skip"
    }
   },
   "source": [
    "The reason the method is called \"differential evolution\" is because the initial population of points in $D$ dimensions can be thought of as evolving towards a minimum during algorithm iterations. The evolution is differential because it is driven by scaled differences between member locations. "
   ]
  },
  {
   "cell_type": "markdown",
   "id": "03043349",
   "metadata": {
    "slideshow": {
     "slide_type": "skip"
    }
   },
   "source": [
    "In depth description of the differential algorithm, its variations, tests, and applications can be found in a book by R. Storn, K. Price and J. Lampinen \"*Differential evolution : a practical approach to global optimization*\" <a href=\"https://catalog.lib.uchicago.edu/vufind/Record/8875926\">available online</a> through U.Chicago library. "
   ]
  },
  {
   "cell_type": "markdown",
   "id": "6735f6ef",
   "metadata": {
    "slideshow": {
     "slide_type": "slide"
    }
   },
   "source": [
    " Each iteration (evolution cycle) consists of the \"*mutation*\" and \"*selection*\" stages for each point vector $\\mathbf{x}_i$ in $\\mathbf{X}_{\\rm now}$ (each member of the population) that leads to formation of the new population $\\mathbf{X}_{\\rm next}$:\n",
    "\n",
    "* *Mutation stage for element $i$:*  select three random indices from $0$ to $N_p-1$, $r_1$, $r_2$, $r_3$ *different* from $i$. \n",
    "Perturb element with index $r_3$ by the scaled difference of vectors with indices $r_2$ and $r_1$: \n",
    "$\\mathbf{x}^\\prime_i=\\mathbf{x}_{{\\rm now}, r_3} + s\\,(\\mathbf{x}_{{\\rm now}, r_2}-\\mathbf{x}_{{\\rm now}, r_1})$, where $s$ is a parameter. $s$ is usually a random number. \n",
    "\n",
    "\n",
    "* *Selection stage:* if $f(\\mathbf{x}^\\prime_i)\\leq f(\\mathbf{x}_{{\\rm now},i})$, then $\\mathbf{x}_{{\\rm next},i}=\\mathbf{x}^\\prime_i$, else $\\mathbf{x}_{{\\rm next},i}=\\mathbf{x}_{{\\rm now},i}$ (no mutation). \n",
    "\n",
    "Once all members of the population went through mutation and selection stages go back to the next iteration and $\\mathbf{X}_{\\rm next}$ becomes $\\mathbf{X}_{\\rm now}$ and the cycle repeats. "
   ]
  },
  {
   "cell_type": "markdown",
   "id": "d2d3ed9c",
   "metadata": {
    "slideshow": {
     "slide_type": "skip"
    }
   },
   "source": [
    "Evolutionary cycles continue until some convergence criterion is met. For example, maximum difference between vectors in $\\mathbf{X}_{\\rm next}$ and $X_{\\rm now}$ is smaller than the specified threshold. \n",
    "\n",
    "Differential evolution method is implemented in <a href=\"https://docs.scipy.org/doc/scipy/reference/generated/scipy.optimize.differential_evolution.html#scipy.optimize.differential_evolution\"><tt>scipy.optimize.differential_evolution</tt></a> function. "
   ]
  },
  {
   "cell_type": "markdown",
   "id": "5f610dc6",
   "metadata": {
    "slideshow": {
     "slide_type": "slide"
    }
   },
   "source": [
    "Here is pseudo-code for the simplest version of the differential evolution algorithm, which already should work quite well, but can be further improved by various modifications. \n",
    "\n",
    "<code>\n",
    "    npop = np.size(x0)[0] # the number of population members\n",
    "    fnow = func(xnow)\n",
    "    xnow = np.copy(x0)\n",
    "    xnext = np.zeros_like(xnow)\n",
    "    ....\n",
    "    while some convergence criterion is not met: \n",
    "        # xnow is a vector of coordinate vectors of the current population\n",
    "        # xnext is a vector of coordinate vector of the next gen population\n",
    "        for i in range(npop):\n",
    "            # generate random unique indices  ir1, ir2, ir3 \n",
    "            # where all indices are not equal to each other and not equal to i\n",
    "            # s can be a constant for large npop, but it's more safe to make it a random number\n",
    "            xtry = xnow[ir3] + s * (xnow[ir1] - xnor[ir2])\n",
    "            if func(xtry) <= fnow[i]:\n",
    "                xnext[i] = xtry\n",
    "            else:\n",
    "                xnext[i] = xnow[i]\n",
    "</code>"
   ]
  },
  {
   "cell_type": "code",
   "execution_count": 157,
   "id": "9abb040f",
   "metadata": {
    "slideshow": {
     "slide_type": "slide"
    }
   },
   "outputs": [
    {
     "name": "stdout",
     "output_type": "stream",
     "text": [
      "3 4 8\n"
     ]
    }
   ],
   "source": [
    "inds = np.arange(10)\n",
    "inds = np.delete(inds,7)\n",
    "np.random.shuffle(inds)\n",
    "print(inds[0], inds[1], inds[2])"
   ]
  },
  {
   "cell_type": "markdown",
   "id": "5ed2f206",
   "metadata": {
    "slideshow": {
     "slide_type": "slide"
    }
   },
   "source": [
    "###  <font color='blue'>The Differential Evolution method: initial distribution of members</font>\n",
    "\n",
    "Mutation stage of the algorithm requires that population members are in different locations, otherwise the difference $\\mathbf{x}_{{\\rm now}, r_2}-\\mathbf{x}_{{\\rm now}, r_1}$ will be zero and location of $\\mathbf{x}_{{\\rm now}, r_3}$ will simply be duplicated to location of $\\mathbf{x}^\\prime_i$ in the mutation stage.\n",
    "\n",
    "Thus, initial population members positions must be different. There are different ways to place population members. Assuming that we are searching for a minimum within some rectangular domain defined by the minimum and maximum values along each coordinate axis: $\\mathbf{x}_{\\rm min}$ and $\\mathbf{x}_{\\rm max}$, we can initialize the members as \n",
    "\n",
    "$$\\mathbf{x}_0 = \\mathbf{x}_{\\rm min} + (\\mathbf{x}_{\\rm max}-\\mathbf{x}_{\\rm min}) \\times \\mathrm{rand}(0,1),$$\n",
    "\n",
    "where $\\mathrm{rand}(0,1)$ is a random number uniformly distributed from 0 to 1 (can be produced with <tt>np.random.uniform</tt>, for example). \n"
   ]
  },
  {
   "cell_type": "markdown",
   "id": "0e721fdb",
   "metadata": {
    "slideshow": {
     "slide_type": "skip"
    }
   },
   "source": [
    "This choice makes sense if we do not know the location of the minimum and we are spreading the population members as widely as possible. To make the distribution of members more uniform, certain placement strategies can be used instead of random distribution above, such as <a href=\"https://www.johndcook.com/blog/2009/03/16/quasi-random-sequences-in-art-and-integration/\">quasi-random sequences</a>.\n",
    "\n",
    "Another possibility is to initialize locations of population members around a given point $\\mathbf{x}_{0c}$ by using random numbers drawn from a Gaussian distribution centered at $\\mathbf{x}_{0c}$ with some non-zero dispersion around it. \n",
    "\n",
    " This choice makes sense if we have a good idea where the minimum is roughly, so that we can choose $\\mathbf{x}_{0c}$ to be near the suspected location. "
   ]
  },
  {
   "cell_type": "markdown",
   "id": "3761e5fd",
   "metadata": {
    "slideshow": {
     "slide_type": "slide"
    }
   },
   "source": [
    "### <font color='blue'>Choosing $s$ scaling factor</font>\n",
    "\n",
    "\n",
    "To avoid this different members stepping to the location, $s$ for each population is chosen to be a random number drawn from a distribution. Common choices: \n",
    "\n",
    "\n",
    "    * Gaussian distribution with the mean at some $s_{\\rm mean}$ and dispersion $\\sigma_s$.<p> \n",
    "\n",
    "\n",
    "    * Uniform distribution $U(a,b)$. \n",
    "\n",
    "\n",
    "The choice that seems to work well in practice is $U(s,1)$, where $s\\approx 0.1-0.3$. "
   ]
  },
  {
   "cell_type": "markdown",
   "id": "b9439a99",
   "metadata": {
    "slideshow": {
     "slide_type": "skip"
    }
   },
   "source": [
    "# <font color='blue'>ASTR 21100</font> \n",
    "\n",
    "# <font color='blue'>\"Computational Techniques in Astrophysics\"</font>\n",
    "\n",
    "# <font color='blue'>Methods for sampling from 1-dimensional probability distributions</font>\n"
   ]
  },
  {
   "cell_type": "code",
   "execution_count": 2,
   "id": "53b8f539",
   "metadata": {
    "slideshow": {
     "slide_type": "skip"
    }
   },
   "outputs": [],
   "source": [
    "import numpy as np \n",
    "\n",
    "# use jupyter \"magic\" command to tell it to embed plot into the notebook \n",
    "import matplotlib.pyplot as plt\n",
    "%matplotlib inline\n",
    "\n",
    "from codes.plotting import plot_prettier\n",
    "plot_prettier()"
   ]
  },
  {
   "cell_type": "markdown",
   "id": "4687f955",
   "metadata": {
    "slideshow": {
     "slide_type": "slide"
    }
   },
   "source": [
    "### <font color='blue'>Sampling random numbers from a 1-dimensional probability distribution function (pdf)</font>\n",
    "\n",
    "Such sampling involves two steps: \n",
    "\n",
    "1) a sequence of random, uniformly distributed numbers in the $[0,1]$ interval (this is handled by PRNG codes, see <a href=\"https://drive.google.com/file/d/1x3KUR8vqs-O7DDqJYUaT-0xA8x6Yh5oK/view?usp=sharing\"><tt>08b_prngs.ipynb</tt></a>)\n",
    "\n",
    "2) a transformation of that sequence from the uniform pdf to a desired (target) pdf."
   ]
  },
  {
   "cell_type": "markdown",
   "id": "a332c202",
   "metadata": {
    "slideshow": {
     "slide_type": "slide"
    }
   },
   "source": [
    "### <font color='blue'>Definitions of the pdf and cdf</font>\n",
    "\n",
    "* **Probability distribution function (pdf)** (sometimes called probability density function), $p(x)$, is a ***positive*** function, $p(x)\\geq 0$, defined such that $p(x)dx$ measures probability for $x$ to be in the interval $[x,x+dx)$. \n",
    "\n",
    "If pdf is defined on an interval $x\\in [a,b]$, integral over this interval for a properly normalized pdf is \n",
    "\n",
    "$$\\int\\limits_a^b p(x)dx=1$$\n",
    "\n",
    "because probability of any $x$ should be 1 by definition. So pdf is always 0 or positive and normalized such that integral over the interval for which it is defined is equal to 1.\n"
   ]
  },
  {
   "cell_type": "markdown",
   "id": "acc09a01",
   "metadata": {
    "slideshow": {
     "slide_type": "fragment"
    }
   },
   "source": [
    "* **Cumulative distribution function (cdf)** is defined as \n",
    "\n",
    "$$P(x) = \\int\\limits_b^x p(x^\\prime) dx^\\prime.$$\n",
    "If $p(x)\\geq 0$ and is normalized as above, it is clear that $P$ varies monotonically from $0$ to $1$, as $x$ increases from the lower to the upper limits of the interval on which $p(x)$ is defined. "
   ]
  },
  {
   "cell_type": "markdown",
   "id": "cd5465d2",
   "metadata": {
    "slideshow": {
     "slide_type": "skip"
    }
   },
   "source": [
    "**Note 1.** Whether pdf must be so normalized depends on its application. If we need only ratios such as $p(x_2)/p(x_1)$ then normalization is not relevant. Thus, for certain methods, such as MCMC normalization is not important.  \n",
    "\n",
    "**Note 2.** Given that $p(x)dx$ is probability, which is dimensionless, if $x$ has some dimension (for example, grams), then $p(x)$ also must have dimension of $[x^{-1}]$ (i.e., inverse grams) so that product of $p(x)$ and $dx$ is dimensionless. Remembering that pdf has dimensions inverse of the dimension of its parameter is useful when algebraic operations with pdfs are performed, as we will see later. "
   ]
  },
  {
   "cell_type": "markdown",
   "id": "4b620e11",
   "metadata": {
    "slideshow": {
     "slide_type": "skip"
    }
   },
   "source": [
    "### <font color='blue'>Random sampling from pdfs</font>\n",
    "\n",
    "The two simplest and widely used methods to sample non-uniform 1-dimensional pdfs (or in some cases low-dimensional ones) -- the inverse transform sampling and rejection sampling -- were laid out on one page in a letter by John von Neumann to Stanislaw Ulam written on May 21, 1947. \n",
    "\n",
    "The latter was known previously in a different context (geometric estimates of probability), but it was von Neumann who re-invented rejection sampling and made it popular in the context of Monte Carlo methods. \n",
    "\n",
    "<p>\n",
    "<center><img width=400 src=\"https://astro.uchicago.edu/~andrey/classes/a211/img/John_von_Neumann-LosAlamos.gif\"></img></center>\n",
    "</p>"
   ]
  },
  {
   "cell_type": "markdown",
   "id": "1e0d8901",
   "metadata": {
    "slideshow": {
     "slide_type": "slide"
    }
   },
   "source": [
    "### <font color='blue'>Random sampling from 1d pdf $p(x)$</font>\n",
    "\n",
    "\n",
    "<center><img width=600 src=\"https://astro.uchicago.edu/~andrey/classes/a211/img/von_neumann_letter1.png\"></img></center>"
   ]
  },
  {
   "cell_type": "markdown",
   "id": "23746247",
   "metadata": {
    "slideshow": {
     "slide_type": "skip"
    }
   },
   "source": [
    "The inverse transform sampling is the most useful method in practice and is discussed in detail below. Rejection method is conceptually simpler, but is not as useful due to its inefficiency in general cases, especially for pdfs with a wide range of values, such as exponential or power law pdfs. "
   ]
  },
  {
   "cell_type": "markdown",
   "id": "3850c059",
   "metadata": {
    "slideshow": {
     "slide_type": "slide"
    }
   },
   "source": [
    "### <font color='blue'> Rejection method</font>\n",
    "\n",
    "If we know maximum value of $p(x)$, $p_{\\rm max}=\\max\\limits_{x\\in[a,b]} p(x)$ at the interval $[a,b]$ in which we are sampling, we can get sample of $x$ values that follow $p(x)$ distribution using a simple procedure. \n",
    "\n",
    "We can draw $x$ randomly in $[a,b]$ and accept or reject it with probability $p(x)$. To do this we draw a random number $y$ uniformly distributed in $[0,p_{\\rm max}]$ and if $y\\leq p(x)$ we accept it, otherwise we reject it and draw another $x$ value. "
   ]
  },
  {
   "cell_type": "code",
   "execution_count": 160,
   "id": "0e62883c",
   "metadata": {
    "slideshow": {
     "slide_type": "-"
    }
   },
   "outputs": [
    {
     "name": "stdout",
     "output_type": "stream",
     "text": [
      "selected randomly 5.18 percent of the sample\n"
     ]
    }
   ],
   "source": [
    "n = 10000\n",
    "prob = 0.05\n",
    "f = np.random.normal(size=n)\n",
    "x = np.random.uniform(size=n)\n",
    "fsel = f[x<prob]\n",
    "print(f'selected randomly {fsel.size*100/n:.2f} percent of the sample')"
   ]
  },
  {
   "cell_type": "markdown",
   "id": "b0b4372b",
   "metadata": {
    "slideshow": {
     "slide_type": "slide"
    }
   },
   "source": [
    "### <font color='blue'> Inverse transform sampling (ITS) method</font>\n",
    "\n",
    "For a sample of $x_i$ values drawn from $p(x)$ pdf which has cdf $P(x)$, we expect that $y_i = P(x_i)$ are uniformly distributed in $y\\in [0,1]$. \n",
    "\n",
    "This method uses this statement in the reverse order: if I have samples $y_i$ drawn from the uniform pdf defined in $y\\in [0,1]$, then $x_i$ values defined by equation \n",
    "\n",
    "$$y_i=P(x_i)$$\n",
    "\n",
    "will follow $p(x)$ pdf. That's all there is to this method. All we need to handle is how to solve this equation for $x_i$ values. \n"
   ]
  },
  {
   "cell_type": "markdown",
   "id": "4440817e",
   "metadata": {
    "slideshow": {
     "slide_type": "slide"
    }
   },
   "source": [
    "### <font color='blue'> Illustration: sampling from $p(x)=e^{-x}$ defined at $x\\in [0,\\infty)$</font>\n"
   ]
  },
  {
   "cell_type": "code",
   "execution_count": 126,
   "id": "e093ed54",
   "metadata": {
    "slideshow": {
     "slide_type": "fragment"
    }
   },
   "outputs": [],
   "source": [
    "def pdf_exp(x, beta=1.):\n",
    "    return beta*np.exp(-beta*x)\n",
    "\n",
    "def cdf_exp(x, beta=1.):\n",
    "    return 1.-np.exp(-beta*x)\n",
    "\n",
    "def cdf_exp_inv(x, beta=1):\n",
    "    return -beta*np.log(1-x)\n"
   ]
  },
  {
   "cell_type": "code",
   "execution_count": 122,
   "id": "c3a464bd",
   "metadata": {},
   "outputs": [],
   "source": [
    "%matplotlib notebook\n",
    "from matplotlib import pyplot as plt\n",
    "from matplotlib.animation import FuncAnimation\n",
    "from matplotlib.gridspec import GridSpec\n",
    "\n",
    "plot_prettier()"
   ]
  },
  {
   "cell_type": "code",
   "execution_count": 127,
   "id": "8732d0e2",
   "metadata": {},
   "outputs": [],
   "source": [
    "def its_demo(figsize=(3,3), xlims=[0,7], cdf=None, cdfi=None, nl=10):\n",
    "    fig = plt.figure(figsize=figsize)\n",
    "    ax = fig.add_subplot(1,1,1)\n",
    "    ax.set_xlabel(r'$x$')\n",
    "    ax.set_ylabel(r'cdf   $P(x)$')\n",
    "    ax.set_xlim(xlims)\n",
    "    ax.set_ylim(0, 1)\n",
    "    ax_b.set_xlim(xlims)\n",
    "    ax_l.set_ylim(0.,1)\n",
    "    x = np.linspace(xlims[0], xlims[1],100)\n",
    "    ax.plot(x, cdf(x), lw=2, c='slateblue', label='cdf')\n",
    "    yl = np.linspace(0.,1., nl)\n",
    "    xl = cdfi(yl)\n",
    "    for i in range(nl):\n",
    "        ax.plot([0, xl[i]], [yl[i], yl[i]], ls='--', c='gray', lw=0.5)\n",
    "        ax.plot([xl[i], xl[i]], [0, yl[i]], ls='--', c='gray', lw=0.5)\n",
    "    #ax.legend(frameon=False, loc='lower right')\n",
    "    plt.show()\n",
    "\n"
   ]
  },
  {
   "cell_type": "code",
   "execution_count": 128,
   "id": "dc28c946",
   "metadata": {},
   "outputs": [
    {
     "data": {
      "application/javascript": [
       "/* Put everything inside the global mpl namespace */\n",
       "/* global mpl */\n",
       "window.mpl = {};\n",
       "\n",
       "mpl.get_websocket_type = function () {\n",
       "    if (typeof WebSocket !== 'undefined') {\n",
       "        return WebSocket;\n",
       "    } else if (typeof MozWebSocket !== 'undefined') {\n",
       "        return MozWebSocket;\n",
       "    } else {\n",
       "        alert(\n",
       "            'Your browser does not have WebSocket support. ' +\n",
       "                'Please try Chrome, Safari or Firefox ≥ 6. ' +\n",
       "                'Firefox 4 and 5 are also supported but you ' +\n",
       "                'have to enable WebSockets in about:config.'\n",
       "        );\n",
       "    }\n",
       "};\n",
       "\n",
       "mpl.figure = function (figure_id, websocket, ondownload, parent_element) {\n",
       "    this.id = figure_id;\n",
       "\n",
       "    this.ws = websocket;\n",
       "\n",
       "    this.supports_binary = this.ws.binaryType !== undefined;\n",
       "\n",
       "    if (!this.supports_binary) {\n",
       "        var warnings = document.getElementById('mpl-warnings');\n",
       "        if (warnings) {\n",
       "            warnings.style.display = 'block';\n",
       "            warnings.textContent =\n",
       "                'This browser does not support binary websocket messages. ' +\n",
       "                'Performance may be slow.';\n",
       "        }\n",
       "    }\n",
       "\n",
       "    this.imageObj = new Image();\n",
       "\n",
       "    this.context = undefined;\n",
       "    this.message = undefined;\n",
       "    this.canvas = undefined;\n",
       "    this.rubberband_canvas = undefined;\n",
       "    this.rubberband_context = undefined;\n",
       "    this.format_dropdown = undefined;\n",
       "\n",
       "    this.image_mode = 'full';\n",
       "\n",
       "    this.root = document.createElement('div');\n",
       "    this.root.setAttribute('style', 'display: inline-block');\n",
       "    this._root_extra_style(this.root);\n",
       "\n",
       "    parent_element.appendChild(this.root);\n",
       "\n",
       "    this._init_header(this);\n",
       "    this._init_canvas(this);\n",
       "    this._init_toolbar(this);\n",
       "\n",
       "    var fig = this;\n",
       "\n",
       "    this.waiting = false;\n",
       "\n",
       "    this.ws.onopen = function () {\n",
       "        fig.send_message('supports_binary', { value: fig.supports_binary });\n",
       "        fig.send_message('send_image_mode', {});\n",
       "        if (fig.ratio !== 1) {\n",
       "            fig.send_message('set_device_pixel_ratio', {\n",
       "                device_pixel_ratio: fig.ratio,\n",
       "            });\n",
       "        }\n",
       "        fig.send_message('refresh', {});\n",
       "    };\n",
       "\n",
       "    this.imageObj.onload = function () {\n",
       "        if (fig.image_mode === 'full') {\n",
       "            // Full images could contain transparency (where diff images\n",
       "            // almost always do), so we need to clear the canvas so that\n",
       "            // there is no ghosting.\n",
       "            fig.context.clearRect(0, 0, fig.canvas.width, fig.canvas.height);\n",
       "        }\n",
       "        fig.context.drawImage(fig.imageObj, 0, 0);\n",
       "    };\n",
       "\n",
       "    this.imageObj.onunload = function () {\n",
       "        fig.ws.close();\n",
       "    };\n",
       "\n",
       "    this.ws.onmessage = this._make_on_message_function(this);\n",
       "\n",
       "    this.ondownload = ondownload;\n",
       "};\n",
       "\n",
       "mpl.figure.prototype._init_header = function () {\n",
       "    var titlebar = document.createElement('div');\n",
       "    titlebar.classList =\n",
       "        'ui-dialog-titlebar ui-widget-header ui-corner-all ui-helper-clearfix';\n",
       "    var titletext = document.createElement('div');\n",
       "    titletext.classList = 'ui-dialog-title';\n",
       "    titletext.setAttribute(\n",
       "        'style',\n",
       "        'width: 100%; text-align: center; padding: 3px;'\n",
       "    );\n",
       "    titlebar.appendChild(titletext);\n",
       "    this.root.appendChild(titlebar);\n",
       "    this.header = titletext;\n",
       "};\n",
       "\n",
       "mpl.figure.prototype._canvas_extra_style = function (_canvas_div) {};\n",
       "\n",
       "mpl.figure.prototype._root_extra_style = function (_canvas_div) {};\n",
       "\n",
       "mpl.figure.prototype._init_canvas = function () {\n",
       "    var fig = this;\n",
       "\n",
       "    var canvas_div = (this.canvas_div = document.createElement('div'));\n",
       "    canvas_div.setAttribute(\n",
       "        'style',\n",
       "        'border: 1px solid #ddd;' +\n",
       "            'box-sizing: content-box;' +\n",
       "            'clear: both;' +\n",
       "            'min-height: 1px;' +\n",
       "            'min-width: 1px;' +\n",
       "            'outline: 0;' +\n",
       "            'overflow: hidden;' +\n",
       "            'position: relative;' +\n",
       "            'resize: both;'\n",
       "    );\n",
       "\n",
       "    function on_keyboard_event_closure(name) {\n",
       "        return function (event) {\n",
       "            return fig.key_event(event, name);\n",
       "        };\n",
       "    }\n",
       "\n",
       "    canvas_div.addEventListener(\n",
       "        'keydown',\n",
       "        on_keyboard_event_closure('key_press')\n",
       "    );\n",
       "    canvas_div.addEventListener(\n",
       "        'keyup',\n",
       "        on_keyboard_event_closure('key_release')\n",
       "    );\n",
       "\n",
       "    this._canvas_extra_style(canvas_div);\n",
       "    this.root.appendChild(canvas_div);\n",
       "\n",
       "    var canvas = (this.canvas = document.createElement('canvas'));\n",
       "    canvas.classList.add('mpl-canvas');\n",
       "    canvas.setAttribute('style', 'box-sizing: content-box;');\n",
       "\n",
       "    this.context = canvas.getContext('2d');\n",
       "\n",
       "    var backingStore =\n",
       "        this.context.backingStorePixelRatio ||\n",
       "        this.context.webkitBackingStorePixelRatio ||\n",
       "        this.context.mozBackingStorePixelRatio ||\n",
       "        this.context.msBackingStorePixelRatio ||\n",
       "        this.context.oBackingStorePixelRatio ||\n",
       "        this.context.backingStorePixelRatio ||\n",
       "        1;\n",
       "\n",
       "    this.ratio = (window.devicePixelRatio || 1) / backingStore;\n",
       "\n",
       "    var rubberband_canvas = (this.rubberband_canvas = document.createElement(\n",
       "        'canvas'\n",
       "    ));\n",
       "    rubberband_canvas.setAttribute(\n",
       "        'style',\n",
       "        'box-sizing: content-box; position: absolute; left: 0; top: 0; z-index: 1;'\n",
       "    );\n",
       "\n",
       "    // Apply a ponyfill if ResizeObserver is not implemented by browser.\n",
       "    if (this.ResizeObserver === undefined) {\n",
       "        if (window.ResizeObserver !== undefined) {\n",
       "            this.ResizeObserver = window.ResizeObserver;\n",
       "        } else {\n",
       "            var obs = _JSXTOOLS_RESIZE_OBSERVER({});\n",
       "            this.ResizeObserver = obs.ResizeObserver;\n",
       "        }\n",
       "    }\n",
       "\n",
       "    this.resizeObserverInstance = new this.ResizeObserver(function (entries) {\n",
       "        var nentries = entries.length;\n",
       "        for (var i = 0; i < nentries; i++) {\n",
       "            var entry = entries[i];\n",
       "            var width, height;\n",
       "            if (entry.contentBoxSize) {\n",
       "                if (entry.contentBoxSize instanceof Array) {\n",
       "                    // Chrome 84 implements new version of spec.\n",
       "                    width = entry.contentBoxSize[0].inlineSize;\n",
       "                    height = entry.contentBoxSize[0].blockSize;\n",
       "                } else {\n",
       "                    // Firefox implements old version of spec.\n",
       "                    width = entry.contentBoxSize.inlineSize;\n",
       "                    height = entry.contentBoxSize.blockSize;\n",
       "                }\n",
       "            } else {\n",
       "                // Chrome <84 implements even older version of spec.\n",
       "                width = entry.contentRect.width;\n",
       "                height = entry.contentRect.height;\n",
       "            }\n",
       "\n",
       "            // Keep the size of the canvas and rubber band canvas in sync with\n",
       "            // the canvas container.\n",
       "            if (entry.devicePixelContentBoxSize) {\n",
       "                // Chrome 84 implements new version of spec.\n",
       "                canvas.setAttribute(\n",
       "                    'width',\n",
       "                    entry.devicePixelContentBoxSize[0].inlineSize\n",
       "                );\n",
       "                canvas.setAttribute(\n",
       "                    'height',\n",
       "                    entry.devicePixelContentBoxSize[0].blockSize\n",
       "                );\n",
       "            } else {\n",
       "                canvas.setAttribute('width', width * fig.ratio);\n",
       "                canvas.setAttribute('height', height * fig.ratio);\n",
       "            }\n",
       "            canvas.setAttribute(\n",
       "                'style',\n",
       "                'width: ' + width + 'px; height: ' + height + 'px;'\n",
       "            );\n",
       "\n",
       "            rubberband_canvas.setAttribute('width', width);\n",
       "            rubberband_canvas.setAttribute('height', height);\n",
       "\n",
       "            // And update the size in Python. We ignore the initial 0/0 size\n",
       "            // that occurs as the element is placed into the DOM, which should\n",
       "            // otherwise not happen due to the minimum size styling.\n",
       "            if (fig.ws.readyState == 1 && width != 0 && height != 0) {\n",
       "                fig.request_resize(width, height);\n",
       "            }\n",
       "        }\n",
       "    });\n",
       "    this.resizeObserverInstance.observe(canvas_div);\n",
       "\n",
       "    function on_mouse_event_closure(name) {\n",
       "        return function (event) {\n",
       "            return fig.mouse_event(event, name);\n",
       "        };\n",
       "    }\n",
       "\n",
       "    rubberband_canvas.addEventListener(\n",
       "        'mousedown',\n",
       "        on_mouse_event_closure('button_press')\n",
       "    );\n",
       "    rubberband_canvas.addEventListener(\n",
       "        'mouseup',\n",
       "        on_mouse_event_closure('button_release')\n",
       "    );\n",
       "    rubberband_canvas.addEventListener(\n",
       "        'dblclick',\n",
       "        on_mouse_event_closure('dblclick')\n",
       "    );\n",
       "    // Throttle sequential mouse events to 1 every 20ms.\n",
       "    rubberband_canvas.addEventListener(\n",
       "        'mousemove',\n",
       "        on_mouse_event_closure('motion_notify')\n",
       "    );\n",
       "\n",
       "    rubberband_canvas.addEventListener(\n",
       "        'mouseenter',\n",
       "        on_mouse_event_closure('figure_enter')\n",
       "    );\n",
       "    rubberband_canvas.addEventListener(\n",
       "        'mouseleave',\n",
       "        on_mouse_event_closure('figure_leave')\n",
       "    );\n",
       "\n",
       "    canvas_div.addEventListener('wheel', function (event) {\n",
       "        if (event.deltaY < 0) {\n",
       "            event.step = 1;\n",
       "        } else {\n",
       "            event.step = -1;\n",
       "        }\n",
       "        on_mouse_event_closure('scroll')(event);\n",
       "    });\n",
       "\n",
       "    canvas_div.appendChild(canvas);\n",
       "    canvas_div.appendChild(rubberband_canvas);\n",
       "\n",
       "    this.rubberband_context = rubberband_canvas.getContext('2d');\n",
       "    this.rubberband_context.strokeStyle = '#000000';\n",
       "\n",
       "    this._resize_canvas = function (width, height, forward) {\n",
       "        if (forward) {\n",
       "            canvas_div.style.width = width + 'px';\n",
       "            canvas_div.style.height = height + 'px';\n",
       "        }\n",
       "    };\n",
       "\n",
       "    // Disable right mouse context menu.\n",
       "    this.rubberband_canvas.addEventListener('contextmenu', function (_e) {\n",
       "        event.preventDefault();\n",
       "        return false;\n",
       "    });\n",
       "\n",
       "    function set_focus() {\n",
       "        canvas.focus();\n",
       "        canvas_div.focus();\n",
       "    }\n",
       "\n",
       "    window.setTimeout(set_focus, 100);\n",
       "};\n",
       "\n",
       "mpl.figure.prototype._init_toolbar = function () {\n",
       "    var fig = this;\n",
       "\n",
       "    var toolbar = document.createElement('div');\n",
       "    toolbar.classList = 'mpl-toolbar';\n",
       "    this.root.appendChild(toolbar);\n",
       "\n",
       "    function on_click_closure(name) {\n",
       "        return function (_event) {\n",
       "            return fig.toolbar_button_onclick(name);\n",
       "        };\n",
       "    }\n",
       "\n",
       "    function on_mouseover_closure(tooltip) {\n",
       "        return function (event) {\n",
       "            if (!event.currentTarget.disabled) {\n",
       "                return fig.toolbar_button_onmouseover(tooltip);\n",
       "            }\n",
       "        };\n",
       "    }\n",
       "\n",
       "    fig.buttons = {};\n",
       "    var buttonGroup = document.createElement('div');\n",
       "    buttonGroup.classList = 'mpl-button-group';\n",
       "    for (var toolbar_ind in mpl.toolbar_items) {\n",
       "        var name = mpl.toolbar_items[toolbar_ind][0];\n",
       "        var tooltip = mpl.toolbar_items[toolbar_ind][1];\n",
       "        var image = mpl.toolbar_items[toolbar_ind][2];\n",
       "        var method_name = mpl.toolbar_items[toolbar_ind][3];\n",
       "\n",
       "        if (!name) {\n",
       "            /* Instead of a spacer, we start a new button group. */\n",
       "            if (buttonGroup.hasChildNodes()) {\n",
       "                toolbar.appendChild(buttonGroup);\n",
       "            }\n",
       "            buttonGroup = document.createElement('div');\n",
       "            buttonGroup.classList = 'mpl-button-group';\n",
       "            continue;\n",
       "        }\n",
       "\n",
       "        var button = (fig.buttons[name] = document.createElement('button'));\n",
       "        button.classList = 'mpl-widget';\n",
       "        button.setAttribute('role', 'button');\n",
       "        button.setAttribute('aria-disabled', 'false');\n",
       "        button.addEventListener('click', on_click_closure(method_name));\n",
       "        button.addEventListener('mouseover', on_mouseover_closure(tooltip));\n",
       "\n",
       "        var icon_img = document.createElement('img');\n",
       "        icon_img.src = '_images/' + image + '.png';\n",
       "        icon_img.srcset = '_images/' + image + '_large.png 2x';\n",
       "        icon_img.alt = tooltip;\n",
       "        button.appendChild(icon_img);\n",
       "\n",
       "        buttonGroup.appendChild(button);\n",
       "    }\n",
       "\n",
       "    if (buttonGroup.hasChildNodes()) {\n",
       "        toolbar.appendChild(buttonGroup);\n",
       "    }\n",
       "\n",
       "    var fmt_picker = document.createElement('select');\n",
       "    fmt_picker.classList = 'mpl-widget';\n",
       "    toolbar.appendChild(fmt_picker);\n",
       "    this.format_dropdown = fmt_picker;\n",
       "\n",
       "    for (var ind in mpl.extensions) {\n",
       "        var fmt = mpl.extensions[ind];\n",
       "        var option = document.createElement('option');\n",
       "        option.selected = fmt === mpl.default_extension;\n",
       "        option.innerHTML = fmt;\n",
       "        fmt_picker.appendChild(option);\n",
       "    }\n",
       "\n",
       "    var status_bar = document.createElement('span');\n",
       "    status_bar.classList = 'mpl-message';\n",
       "    toolbar.appendChild(status_bar);\n",
       "    this.message = status_bar;\n",
       "};\n",
       "\n",
       "mpl.figure.prototype.request_resize = function (x_pixels, y_pixels) {\n",
       "    // Request matplotlib to resize the figure. Matplotlib will then trigger a resize in the client,\n",
       "    // which will in turn request a refresh of the image.\n",
       "    this.send_message('resize', { width: x_pixels, height: y_pixels });\n",
       "};\n",
       "\n",
       "mpl.figure.prototype.send_message = function (type, properties) {\n",
       "    properties['type'] = type;\n",
       "    properties['figure_id'] = this.id;\n",
       "    this.ws.send(JSON.stringify(properties));\n",
       "};\n",
       "\n",
       "mpl.figure.prototype.send_draw_message = function () {\n",
       "    if (!this.waiting) {\n",
       "        this.waiting = true;\n",
       "        this.ws.send(JSON.stringify({ type: 'draw', figure_id: this.id }));\n",
       "    }\n",
       "};\n",
       "\n",
       "mpl.figure.prototype.handle_save = function (fig, _msg) {\n",
       "    var format_dropdown = fig.format_dropdown;\n",
       "    var format = format_dropdown.options[format_dropdown.selectedIndex].value;\n",
       "    fig.ondownload(fig, format);\n",
       "};\n",
       "\n",
       "mpl.figure.prototype.handle_resize = function (fig, msg) {\n",
       "    var size = msg['size'];\n",
       "    if (size[0] !== fig.canvas.width || size[1] !== fig.canvas.height) {\n",
       "        fig._resize_canvas(size[0], size[1], msg['forward']);\n",
       "        fig.send_message('refresh', {});\n",
       "    }\n",
       "};\n",
       "\n",
       "mpl.figure.prototype.handle_rubberband = function (fig, msg) {\n",
       "    var x0 = msg['x0'] / fig.ratio;\n",
       "    var y0 = (fig.canvas.height - msg['y0']) / fig.ratio;\n",
       "    var x1 = msg['x1'] / fig.ratio;\n",
       "    var y1 = (fig.canvas.height - msg['y1']) / fig.ratio;\n",
       "    x0 = Math.floor(x0) + 0.5;\n",
       "    y0 = Math.floor(y0) + 0.5;\n",
       "    x1 = Math.floor(x1) + 0.5;\n",
       "    y1 = Math.floor(y1) + 0.5;\n",
       "    var min_x = Math.min(x0, x1);\n",
       "    var min_y = Math.min(y0, y1);\n",
       "    var width = Math.abs(x1 - x0);\n",
       "    var height = Math.abs(y1 - y0);\n",
       "\n",
       "    fig.rubberband_context.clearRect(\n",
       "        0,\n",
       "        0,\n",
       "        fig.canvas.width / fig.ratio,\n",
       "        fig.canvas.height / fig.ratio\n",
       "    );\n",
       "\n",
       "    fig.rubberband_context.strokeRect(min_x, min_y, width, height);\n",
       "};\n",
       "\n",
       "mpl.figure.prototype.handle_figure_label = function (fig, msg) {\n",
       "    // Updates the figure title.\n",
       "    fig.header.textContent = msg['label'];\n",
       "};\n",
       "\n",
       "mpl.figure.prototype.handle_cursor = function (fig, msg) {\n",
       "    fig.rubberband_canvas.style.cursor = msg['cursor'];\n",
       "};\n",
       "\n",
       "mpl.figure.prototype.handle_message = function (fig, msg) {\n",
       "    fig.message.textContent = msg['message'];\n",
       "};\n",
       "\n",
       "mpl.figure.prototype.handle_draw = function (fig, _msg) {\n",
       "    // Request the server to send over a new figure.\n",
       "    fig.send_draw_message();\n",
       "};\n",
       "\n",
       "mpl.figure.prototype.handle_image_mode = function (fig, msg) {\n",
       "    fig.image_mode = msg['mode'];\n",
       "};\n",
       "\n",
       "mpl.figure.prototype.handle_history_buttons = function (fig, msg) {\n",
       "    for (var key in msg) {\n",
       "        if (!(key in fig.buttons)) {\n",
       "            continue;\n",
       "        }\n",
       "        fig.buttons[key].disabled = !msg[key];\n",
       "        fig.buttons[key].setAttribute('aria-disabled', !msg[key]);\n",
       "    }\n",
       "};\n",
       "\n",
       "mpl.figure.prototype.handle_navigate_mode = function (fig, msg) {\n",
       "    if (msg['mode'] === 'PAN') {\n",
       "        fig.buttons['Pan'].classList.add('active');\n",
       "        fig.buttons['Zoom'].classList.remove('active');\n",
       "    } else if (msg['mode'] === 'ZOOM') {\n",
       "        fig.buttons['Pan'].classList.remove('active');\n",
       "        fig.buttons['Zoom'].classList.add('active');\n",
       "    } else {\n",
       "        fig.buttons['Pan'].classList.remove('active');\n",
       "        fig.buttons['Zoom'].classList.remove('active');\n",
       "    }\n",
       "};\n",
       "\n",
       "mpl.figure.prototype.updated_canvas_event = function () {\n",
       "    // Called whenever the canvas gets updated.\n",
       "    this.send_message('ack', {});\n",
       "};\n",
       "\n",
       "// A function to construct a web socket function for onmessage handling.\n",
       "// Called in the figure constructor.\n",
       "mpl.figure.prototype._make_on_message_function = function (fig) {\n",
       "    return function socket_on_message(evt) {\n",
       "        if (evt.data instanceof Blob) {\n",
       "            var img = evt.data;\n",
       "            if (img.type !== 'image/png') {\n",
       "                /* FIXME: We get \"Resource interpreted as Image but\n",
       "                 * transferred with MIME type text/plain:\" errors on\n",
       "                 * Chrome.  But how to set the MIME type?  It doesn't seem\n",
       "                 * to be part of the websocket stream */\n",
       "                img.type = 'image/png';\n",
       "            }\n",
       "\n",
       "            /* Free the memory for the previous frames */\n",
       "            if (fig.imageObj.src) {\n",
       "                (window.URL || window.webkitURL).revokeObjectURL(\n",
       "                    fig.imageObj.src\n",
       "                );\n",
       "            }\n",
       "\n",
       "            fig.imageObj.src = (window.URL || window.webkitURL).createObjectURL(\n",
       "                img\n",
       "            );\n",
       "            fig.updated_canvas_event();\n",
       "            fig.waiting = false;\n",
       "            return;\n",
       "        } else if (\n",
       "            typeof evt.data === 'string' &&\n",
       "            evt.data.slice(0, 21) === 'data:image/png;base64'\n",
       "        ) {\n",
       "            fig.imageObj.src = evt.data;\n",
       "            fig.updated_canvas_event();\n",
       "            fig.waiting = false;\n",
       "            return;\n",
       "        }\n",
       "\n",
       "        var msg = JSON.parse(evt.data);\n",
       "        var msg_type = msg['type'];\n",
       "\n",
       "        // Call the  \"handle_{type}\" callback, which takes\n",
       "        // the figure and JSON message as its only arguments.\n",
       "        try {\n",
       "            var callback = fig['handle_' + msg_type];\n",
       "        } catch (e) {\n",
       "            console.log(\n",
       "                \"No handler for the '\" + msg_type + \"' message type: \",\n",
       "                msg\n",
       "            );\n",
       "            return;\n",
       "        }\n",
       "\n",
       "        if (callback) {\n",
       "            try {\n",
       "                // console.log(\"Handling '\" + msg_type + \"' message: \", msg);\n",
       "                callback(fig, msg);\n",
       "            } catch (e) {\n",
       "                console.log(\n",
       "                    \"Exception inside the 'handler_\" + msg_type + \"' callback:\",\n",
       "                    e,\n",
       "                    e.stack,\n",
       "                    msg\n",
       "                );\n",
       "            }\n",
       "        }\n",
       "    };\n",
       "};\n",
       "\n",
       "// from https://stackoverflow.com/questions/1114465/getting-mouse-location-in-canvas\n",
       "mpl.findpos = function (e) {\n",
       "    //this section is from http://www.quirksmode.org/js/events_properties.html\n",
       "    var targ;\n",
       "    if (!e) {\n",
       "        e = window.event;\n",
       "    }\n",
       "    if (e.target) {\n",
       "        targ = e.target;\n",
       "    } else if (e.srcElement) {\n",
       "        targ = e.srcElement;\n",
       "    }\n",
       "    if (targ.nodeType === 3) {\n",
       "        // defeat Safari bug\n",
       "        targ = targ.parentNode;\n",
       "    }\n",
       "\n",
       "    // pageX,Y are the mouse positions relative to the document\n",
       "    var boundingRect = targ.getBoundingClientRect();\n",
       "    var x = e.pageX - (boundingRect.left + document.body.scrollLeft);\n",
       "    var y = e.pageY - (boundingRect.top + document.body.scrollTop);\n",
       "\n",
       "    return { x: x, y: y };\n",
       "};\n",
       "\n",
       "/*\n",
       " * return a copy of an object with only non-object keys\n",
       " * we need this to avoid circular references\n",
       " * https://stackoverflow.com/a/24161582/3208463\n",
       " */\n",
       "function simpleKeys(original) {\n",
       "    return Object.keys(original).reduce(function (obj, key) {\n",
       "        if (typeof original[key] !== 'object') {\n",
       "            obj[key] = original[key];\n",
       "        }\n",
       "        return obj;\n",
       "    }, {});\n",
       "}\n",
       "\n",
       "mpl.figure.prototype.mouse_event = function (event, name) {\n",
       "    var canvas_pos = mpl.findpos(event);\n",
       "\n",
       "    if (name === 'button_press') {\n",
       "        this.canvas.focus();\n",
       "        this.canvas_div.focus();\n",
       "    }\n",
       "\n",
       "    var x = canvas_pos.x * this.ratio;\n",
       "    var y = canvas_pos.y * this.ratio;\n",
       "\n",
       "    this.send_message(name, {\n",
       "        x: x,\n",
       "        y: y,\n",
       "        button: event.button,\n",
       "        step: event.step,\n",
       "        guiEvent: simpleKeys(event),\n",
       "    });\n",
       "\n",
       "    /* This prevents the web browser from automatically changing to\n",
       "     * the text insertion cursor when the button is pressed.  We want\n",
       "     * to control all of the cursor setting manually through the\n",
       "     * 'cursor' event from matplotlib */\n",
       "    event.preventDefault();\n",
       "    return false;\n",
       "};\n",
       "\n",
       "mpl.figure.prototype._key_event_extra = function (_event, _name) {\n",
       "    // Handle any extra behaviour associated with a key event\n",
       "};\n",
       "\n",
       "mpl.figure.prototype.key_event = function (event, name) {\n",
       "    // Prevent repeat events\n",
       "    if (name === 'key_press') {\n",
       "        if (event.key === this._key) {\n",
       "            return;\n",
       "        } else {\n",
       "            this._key = event.key;\n",
       "        }\n",
       "    }\n",
       "    if (name === 'key_release') {\n",
       "        this._key = null;\n",
       "    }\n",
       "\n",
       "    var value = '';\n",
       "    if (event.ctrlKey && event.key !== 'Control') {\n",
       "        value += 'ctrl+';\n",
       "    }\n",
       "    else if (event.altKey && event.key !== 'Alt') {\n",
       "        value += 'alt+';\n",
       "    }\n",
       "    else if (event.shiftKey && event.key !== 'Shift') {\n",
       "        value += 'shift+';\n",
       "    }\n",
       "\n",
       "    value += 'k' + event.key;\n",
       "\n",
       "    this._key_event_extra(event, name);\n",
       "\n",
       "    this.send_message(name, { key: value, guiEvent: simpleKeys(event) });\n",
       "    return false;\n",
       "};\n",
       "\n",
       "mpl.figure.prototype.toolbar_button_onclick = function (name) {\n",
       "    if (name === 'download') {\n",
       "        this.handle_save(this, null);\n",
       "    } else {\n",
       "        this.send_message('toolbar_button', { name: name });\n",
       "    }\n",
       "};\n",
       "\n",
       "mpl.figure.prototype.toolbar_button_onmouseover = function (tooltip) {\n",
       "    this.message.textContent = tooltip;\n",
       "};\n",
       "\n",
       "///////////////// REMAINING CONTENT GENERATED BY embed_js.py /////////////////\n",
       "// prettier-ignore\n",
       "var _JSXTOOLS_RESIZE_OBSERVER=function(A){var t,i=new WeakMap,n=new WeakMap,a=new WeakMap,r=new WeakMap,o=new Set;function s(e){if(!(this instanceof s))throw new TypeError(\"Constructor requires 'new' operator\");i.set(this,e)}function h(){throw new TypeError(\"Function is not a constructor\")}function c(e,t,i,n){e=0 in arguments?Number(arguments[0]):0,t=1 in arguments?Number(arguments[1]):0,i=2 in arguments?Number(arguments[2]):0,n=3 in arguments?Number(arguments[3]):0,this.right=(this.x=this.left=e)+(this.width=i),this.bottom=(this.y=this.top=t)+(this.height=n),Object.freeze(this)}function d(){t=requestAnimationFrame(d);var s=new WeakMap,p=new Set;o.forEach((function(t){r.get(t).forEach((function(i){var r=t instanceof window.SVGElement,o=a.get(t),d=r?0:parseFloat(o.paddingTop),f=r?0:parseFloat(o.paddingRight),l=r?0:parseFloat(o.paddingBottom),u=r?0:parseFloat(o.paddingLeft),g=r?0:parseFloat(o.borderTopWidth),m=r?0:parseFloat(o.borderRightWidth),w=r?0:parseFloat(o.borderBottomWidth),b=u+f,F=d+l,v=(r?0:parseFloat(o.borderLeftWidth))+m,W=g+w,y=r?0:t.offsetHeight-W-t.clientHeight,E=r?0:t.offsetWidth-v-t.clientWidth,R=b+v,z=F+W,M=r?t.width:parseFloat(o.width)-R-E,O=r?t.height:parseFloat(o.height)-z-y;if(n.has(t)){var k=n.get(t);if(k[0]===M&&k[1]===O)return}n.set(t,[M,O]);var S=Object.create(h.prototype);S.target=t,S.contentRect=new c(u,d,M,O),s.has(i)||(s.set(i,[]),p.add(i)),s.get(i).push(S)}))})),p.forEach((function(e){i.get(e).call(e,s.get(e),e)}))}return s.prototype.observe=function(i){if(i instanceof window.Element){r.has(i)||(r.set(i,new Set),o.add(i),a.set(i,window.getComputedStyle(i)));var n=r.get(i);n.has(this)||n.add(this),cancelAnimationFrame(t),t=requestAnimationFrame(d)}},s.prototype.unobserve=function(i){if(i instanceof window.Element&&r.has(i)){var n=r.get(i);n.has(this)&&(n.delete(this),n.size||(r.delete(i),o.delete(i))),n.size||r.delete(i),o.size||cancelAnimationFrame(t)}},A.DOMRectReadOnly=c,A.ResizeObserver=s,A.ResizeObserverEntry=h,A}; // eslint-disable-line\n",
       "mpl.toolbar_items = [[\"Home\", \"Reset original view\", \"fa fa-home icon-home\", \"home\"], [\"Back\", \"Back to previous view\", \"fa fa-arrow-left icon-arrow-left\", \"back\"], [\"Forward\", \"Forward to next view\", \"fa fa-arrow-right icon-arrow-right\", \"forward\"], [\"\", \"\", \"\", \"\"], [\"Pan\", \"Left button pans, Right button zooms\\nx/y fixes axis, CTRL fixes aspect\", \"fa fa-arrows icon-move\", \"pan\"], [\"Zoom\", \"Zoom to rectangle\\nx/y fixes axis\", \"fa fa-square-o icon-check-empty\", \"zoom\"], [\"\", \"\", \"\", \"\"], [\"Download\", \"Download plot\", \"fa fa-floppy-o icon-save\", \"download\"]];\n",
       "\n",
       "mpl.extensions = [\"eps\", \"jpeg\", \"pgf\", \"pdf\", \"png\", \"ps\", \"raw\", \"svg\", \"tif\"];\n",
       "\n",
       "mpl.default_extension = \"png\";/* global mpl */\n",
       "\n",
       "var comm_websocket_adapter = function (comm) {\n",
       "    // Create a \"websocket\"-like object which calls the given IPython comm\n",
       "    // object with the appropriate methods. Currently this is a non binary\n",
       "    // socket, so there is still some room for performance tuning.\n",
       "    var ws = {};\n",
       "\n",
       "    ws.binaryType = comm.kernel.ws.binaryType;\n",
       "    ws.readyState = comm.kernel.ws.readyState;\n",
       "    function updateReadyState(_event) {\n",
       "        if (comm.kernel.ws) {\n",
       "            ws.readyState = comm.kernel.ws.readyState;\n",
       "        } else {\n",
       "            ws.readyState = 3; // Closed state.\n",
       "        }\n",
       "    }\n",
       "    comm.kernel.ws.addEventListener('open', updateReadyState);\n",
       "    comm.kernel.ws.addEventListener('close', updateReadyState);\n",
       "    comm.kernel.ws.addEventListener('error', updateReadyState);\n",
       "\n",
       "    ws.close = function () {\n",
       "        comm.close();\n",
       "    };\n",
       "    ws.send = function (m) {\n",
       "        //console.log('sending', m);\n",
       "        comm.send(m);\n",
       "    };\n",
       "    // Register the callback with on_msg.\n",
       "    comm.on_msg(function (msg) {\n",
       "        //console.log('receiving', msg['content']['data'], msg);\n",
       "        var data = msg['content']['data'];\n",
       "        if (data['blob'] !== undefined) {\n",
       "            data = {\n",
       "                data: new Blob(msg['buffers'], { type: data['blob'] }),\n",
       "            };\n",
       "        }\n",
       "        // Pass the mpl event to the overridden (by mpl) onmessage function.\n",
       "        ws.onmessage(data);\n",
       "    });\n",
       "    return ws;\n",
       "};\n",
       "\n",
       "mpl.mpl_figure_comm = function (comm, msg) {\n",
       "    // This is the function which gets called when the mpl process\n",
       "    // starts-up an IPython Comm through the \"matplotlib\" channel.\n",
       "\n",
       "    var id = msg.content.data.id;\n",
       "    // Get hold of the div created by the display call when the Comm\n",
       "    // socket was opened in Python.\n",
       "    var element = document.getElementById(id);\n",
       "    var ws_proxy = comm_websocket_adapter(comm);\n",
       "\n",
       "    function ondownload(figure, _format) {\n",
       "        window.open(figure.canvas.toDataURL());\n",
       "    }\n",
       "\n",
       "    var fig = new mpl.figure(id, ws_proxy, ondownload, element);\n",
       "\n",
       "    // Call onopen now - mpl needs it, as it is assuming we've passed it a real\n",
       "    // web socket which is closed, not our websocket->open comm proxy.\n",
       "    ws_proxy.onopen();\n",
       "\n",
       "    fig.parent_element = element;\n",
       "    fig.cell_info = mpl.find_output_cell(\"<div id='\" + id + \"'></div>\");\n",
       "    if (!fig.cell_info) {\n",
       "        console.error('Failed to find cell for figure', id, fig);\n",
       "        return;\n",
       "    }\n",
       "    fig.cell_info[0].output_area.element.on(\n",
       "        'cleared',\n",
       "        { fig: fig },\n",
       "        fig._remove_fig_handler\n",
       "    );\n",
       "};\n",
       "\n",
       "mpl.figure.prototype.handle_close = function (fig, msg) {\n",
       "    var width = fig.canvas.width / fig.ratio;\n",
       "    fig.cell_info[0].output_area.element.off(\n",
       "        'cleared',\n",
       "        fig._remove_fig_handler\n",
       "    );\n",
       "    fig.resizeObserverInstance.unobserve(fig.canvas_div);\n",
       "\n",
       "    // Update the output cell to use the data from the current canvas.\n",
       "    fig.push_to_output();\n",
       "    var dataURL = fig.canvas.toDataURL();\n",
       "    // Re-enable the keyboard manager in IPython - without this line, in FF,\n",
       "    // the notebook keyboard shortcuts fail.\n",
       "    IPython.keyboard_manager.enable();\n",
       "    fig.parent_element.innerHTML =\n",
       "        '<img src=\"' + dataURL + '\" width=\"' + width + '\">';\n",
       "    fig.close_ws(fig, msg);\n",
       "};\n",
       "\n",
       "mpl.figure.prototype.close_ws = function (fig, msg) {\n",
       "    fig.send_message('closing', msg);\n",
       "    // fig.ws.close()\n",
       "};\n",
       "\n",
       "mpl.figure.prototype.push_to_output = function (_remove_interactive) {\n",
       "    // Turn the data on the canvas into data in the output cell.\n",
       "    var width = this.canvas.width / this.ratio;\n",
       "    var dataURL = this.canvas.toDataURL();\n",
       "    this.cell_info[1]['text/html'] =\n",
       "        '<img src=\"' + dataURL + '\" width=\"' + width + '\">';\n",
       "};\n",
       "\n",
       "mpl.figure.prototype.updated_canvas_event = function () {\n",
       "    // Tell IPython that the notebook contents must change.\n",
       "    IPython.notebook.set_dirty(true);\n",
       "    this.send_message('ack', {});\n",
       "    var fig = this;\n",
       "    // Wait a second, then push the new image to the DOM so\n",
       "    // that it is saved nicely (might be nice to debounce this).\n",
       "    setTimeout(function () {\n",
       "        fig.push_to_output();\n",
       "    }, 1000);\n",
       "};\n",
       "\n",
       "mpl.figure.prototype._init_toolbar = function () {\n",
       "    var fig = this;\n",
       "\n",
       "    var toolbar = document.createElement('div');\n",
       "    toolbar.classList = 'btn-toolbar';\n",
       "    this.root.appendChild(toolbar);\n",
       "\n",
       "    function on_click_closure(name) {\n",
       "        return function (_event) {\n",
       "            return fig.toolbar_button_onclick(name);\n",
       "        };\n",
       "    }\n",
       "\n",
       "    function on_mouseover_closure(tooltip) {\n",
       "        return function (event) {\n",
       "            if (!event.currentTarget.disabled) {\n",
       "                return fig.toolbar_button_onmouseover(tooltip);\n",
       "            }\n",
       "        };\n",
       "    }\n",
       "\n",
       "    fig.buttons = {};\n",
       "    var buttonGroup = document.createElement('div');\n",
       "    buttonGroup.classList = 'btn-group';\n",
       "    var button;\n",
       "    for (var toolbar_ind in mpl.toolbar_items) {\n",
       "        var name = mpl.toolbar_items[toolbar_ind][0];\n",
       "        var tooltip = mpl.toolbar_items[toolbar_ind][1];\n",
       "        var image = mpl.toolbar_items[toolbar_ind][2];\n",
       "        var method_name = mpl.toolbar_items[toolbar_ind][3];\n",
       "\n",
       "        if (!name) {\n",
       "            /* Instead of a spacer, we start a new button group. */\n",
       "            if (buttonGroup.hasChildNodes()) {\n",
       "                toolbar.appendChild(buttonGroup);\n",
       "            }\n",
       "            buttonGroup = document.createElement('div');\n",
       "            buttonGroup.classList = 'btn-group';\n",
       "            continue;\n",
       "        }\n",
       "\n",
       "        button = fig.buttons[name] = document.createElement('button');\n",
       "        button.classList = 'btn btn-default';\n",
       "        button.href = '#';\n",
       "        button.title = name;\n",
       "        button.innerHTML = '<i class=\"fa ' + image + ' fa-lg\"></i>';\n",
       "        button.addEventListener('click', on_click_closure(method_name));\n",
       "        button.addEventListener('mouseover', on_mouseover_closure(tooltip));\n",
       "        buttonGroup.appendChild(button);\n",
       "    }\n",
       "\n",
       "    if (buttonGroup.hasChildNodes()) {\n",
       "        toolbar.appendChild(buttonGroup);\n",
       "    }\n",
       "\n",
       "    // Add the status bar.\n",
       "    var status_bar = document.createElement('span');\n",
       "    status_bar.classList = 'mpl-message pull-right';\n",
       "    toolbar.appendChild(status_bar);\n",
       "    this.message = status_bar;\n",
       "\n",
       "    // Add the close button to the window.\n",
       "    var buttongrp = document.createElement('div');\n",
       "    buttongrp.classList = 'btn-group inline pull-right';\n",
       "    button = document.createElement('button');\n",
       "    button.classList = 'btn btn-mini btn-primary';\n",
       "    button.href = '#';\n",
       "    button.title = 'Stop Interaction';\n",
       "    button.innerHTML = '<i class=\"fa fa-power-off icon-remove icon-large\"></i>';\n",
       "    button.addEventListener('click', function (_evt) {\n",
       "        fig.handle_close(fig, {});\n",
       "    });\n",
       "    button.addEventListener(\n",
       "        'mouseover',\n",
       "        on_mouseover_closure('Stop Interaction')\n",
       "    );\n",
       "    buttongrp.appendChild(button);\n",
       "    var titlebar = this.root.querySelector('.ui-dialog-titlebar');\n",
       "    titlebar.insertBefore(buttongrp, titlebar.firstChild);\n",
       "};\n",
       "\n",
       "mpl.figure.prototype._remove_fig_handler = function (event) {\n",
       "    var fig = event.data.fig;\n",
       "    if (event.target !== this) {\n",
       "        // Ignore bubbled events from children.\n",
       "        return;\n",
       "    }\n",
       "    fig.close_ws(fig, {});\n",
       "};\n",
       "\n",
       "mpl.figure.prototype._root_extra_style = function (el) {\n",
       "    el.style.boxSizing = 'content-box'; // override notebook setting of border-box.\n",
       "};\n",
       "\n",
       "mpl.figure.prototype._canvas_extra_style = function (el) {\n",
       "    // this is important to make the div 'focusable\n",
       "    el.setAttribute('tabindex', 0);\n",
       "    // reach out to IPython and tell the keyboard manager to turn it's self\n",
       "    // off when our div gets focus\n",
       "\n",
       "    // location in version 3\n",
       "    if (IPython.notebook.keyboard_manager) {\n",
       "        IPython.notebook.keyboard_manager.register_events(el);\n",
       "    } else {\n",
       "        // location in version 2\n",
       "        IPython.keyboard_manager.register_events(el);\n",
       "    }\n",
       "};\n",
       "\n",
       "mpl.figure.prototype._key_event_extra = function (event, _name) {\n",
       "    // Check for shift+enter\n",
       "    if (event.shiftKey && event.which === 13) {\n",
       "        this.canvas_div.blur();\n",
       "        // select the cell after this one\n",
       "        var index = IPython.notebook.find_cell_index(this.cell_info[0]);\n",
       "        IPython.notebook.select(index + 1);\n",
       "    }\n",
       "};\n",
       "\n",
       "mpl.figure.prototype.handle_save = function (fig, _msg) {\n",
       "    fig.ondownload(fig, null);\n",
       "};\n",
       "\n",
       "mpl.find_output_cell = function (html_output) {\n",
       "    // Return the cell and output element which can be found *uniquely* in the notebook.\n",
       "    // Note - this is a bit hacky, but it is done because the \"notebook_saving.Notebook\"\n",
       "    // IPython event is triggered only after the cells have been serialised, which for\n",
       "    // our purposes (turning an active figure into a static one), is too late.\n",
       "    var cells = IPython.notebook.get_cells();\n",
       "    var ncells = cells.length;\n",
       "    for (var i = 0; i < ncells; i++) {\n",
       "        var cell = cells[i];\n",
       "        if (cell.cell_type === 'code') {\n",
       "            for (var j = 0; j < cell.output_area.outputs.length; j++) {\n",
       "                var data = cell.output_area.outputs[j];\n",
       "                if (data.data) {\n",
       "                    // IPython >= 3 moved mimebundle to data attribute of output\n",
       "                    data = data.data;\n",
       "                }\n",
       "                if (data['text/html'] === html_output) {\n",
       "                    return [cell, data, j];\n",
       "                }\n",
       "            }\n",
       "        }\n",
       "    }\n",
       "};\n",
       "\n",
       "// Register the function which deals with the matplotlib target/channel.\n",
       "// The kernel may be null if the page has been refreshed.\n",
       "if (IPython.notebook.kernel !== null) {\n",
       "    IPython.notebook.kernel.comm_manager.register_target(\n",
       "        'matplotlib',\n",
       "        mpl.mpl_figure_comm\n",
       "    );\n",
       "}\n"
      ],
      "text/plain": [
       "<IPython.core.display.Javascript object>"
      ]
     },
     "metadata": {},
     "output_type": "display_data"
    },
    {
     "data": {
      "text/html": [
       "<img src=\"data:image/png;base64,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\" width=\"599.9999821186071\">"
      ],
      "text/plain": [
       "<IPython.core.display.HTML object>"
      ]
     },
     "metadata": {},
     "output_type": "display_data"
    },
    {
     "name": "stderr",
     "output_type": "stream",
     "text": [
      "C:\\Users\\akrav\\AppData\\Local\\Temp\\ipykernel_22228\\4072937399.py:8: RuntimeWarning: divide by zero encountered in log\n",
      "  return -beta*np.log(1-x)\n"
     ]
    }
   ],
   "source": [
    "its_demo(cdf=cdf_exp, cdfi=cdf_exp_inv, nl=20)"
   ]
  },
  {
   "cell_type": "code",
   "execution_count": 146,
   "id": "1ee6a1d6",
   "metadata": {},
   "outputs": [
    {
     "data": {
      "application/javascript": [
       "/* Put everything inside the global mpl namespace */\n",
       "/* global mpl */\n",
       "window.mpl = {};\n",
       "\n",
       "mpl.get_websocket_type = function () {\n",
       "    if (typeof WebSocket !== 'undefined') {\n",
       "        return WebSocket;\n",
       "    } else if (typeof MozWebSocket !== 'undefined') {\n",
       "        return MozWebSocket;\n",
       "    } else {\n",
       "        alert(\n",
       "            'Your browser does not have WebSocket support. ' +\n",
       "                'Please try Chrome, Safari or Firefox ≥ 6. ' +\n",
       "                'Firefox 4 and 5 are also supported but you ' +\n",
       "                'have to enable WebSockets in about:config.'\n",
       "        );\n",
       "    }\n",
       "};\n",
       "\n",
       "mpl.figure = function (figure_id, websocket, ondownload, parent_element) {\n",
       "    this.id = figure_id;\n",
       "\n",
       "    this.ws = websocket;\n",
       "\n",
       "    this.supports_binary = this.ws.binaryType !== undefined;\n",
       "\n",
       "    if (!this.supports_binary) {\n",
       "        var warnings = document.getElementById('mpl-warnings');\n",
       "        if (warnings) {\n",
       "            warnings.style.display = 'block';\n",
       "            warnings.textContent =\n",
       "                'This browser does not support binary websocket messages. ' +\n",
       "                'Performance may be slow.';\n",
       "        }\n",
       "    }\n",
       "\n",
       "    this.imageObj = new Image();\n",
       "\n",
       "    this.context = undefined;\n",
       "    this.message = undefined;\n",
       "    this.canvas = undefined;\n",
       "    this.rubberband_canvas = undefined;\n",
       "    this.rubberband_context = undefined;\n",
       "    this.format_dropdown = undefined;\n",
       "\n",
       "    this.image_mode = 'full';\n",
       "\n",
       "    this.root = document.createElement('div');\n",
       "    this.root.setAttribute('style', 'display: inline-block');\n",
       "    this._root_extra_style(this.root);\n",
       "\n",
       "    parent_element.appendChild(this.root);\n",
       "\n",
       "    this._init_header(this);\n",
       "    this._init_canvas(this);\n",
       "    this._init_toolbar(this);\n",
       "\n",
       "    var fig = this;\n",
       "\n",
       "    this.waiting = false;\n",
       "\n",
       "    this.ws.onopen = function () {\n",
       "        fig.send_message('supports_binary', { value: fig.supports_binary });\n",
       "        fig.send_message('send_image_mode', {});\n",
       "        if (fig.ratio !== 1) {\n",
       "            fig.send_message('set_device_pixel_ratio', {\n",
       "                device_pixel_ratio: fig.ratio,\n",
       "            });\n",
       "        }\n",
       "        fig.send_message('refresh', {});\n",
       "    };\n",
       "\n",
       "    this.imageObj.onload = function () {\n",
       "        if (fig.image_mode === 'full') {\n",
       "            // Full images could contain transparency (where diff images\n",
       "            // almost always do), so we need to clear the canvas so that\n",
       "            // there is no ghosting.\n",
       "            fig.context.clearRect(0, 0, fig.canvas.width, fig.canvas.height);\n",
       "        }\n",
       "        fig.context.drawImage(fig.imageObj, 0, 0);\n",
       "    };\n",
       "\n",
       "    this.imageObj.onunload = function () {\n",
       "        fig.ws.close();\n",
       "    };\n",
       "\n",
       "    this.ws.onmessage = this._make_on_message_function(this);\n",
       "\n",
       "    this.ondownload = ondownload;\n",
       "};\n",
       "\n",
       "mpl.figure.prototype._init_header = function () {\n",
       "    var titlebar = document.createElement('div');\n",
       "    titlebar.classList =\n",
       "        'ui-dialog-titlebar ui-widget-header ui-corner-all ui-helper-clearfix';\n",
       "    var titletext = document.createElement('div');\n",
       "    titletext.classList = 'ui-dialog-title';\n",
       "    titletext.setAttribute(\n",
       "        'style',\n",
       "        'width: 100%; text-align: center; padding: 3px;'\n",
       "    );\n",
       "    titlebar.appendChild(titletext);\n",
       "    this.root.appendChild(titlebar);\n",
       "    this.header = titletext;\n",
       "};\n",
       "\n",
       "mpl.figure.prototype._canvas_extra_style = function (_canvas_div) {};\n",
       "\n",
       "mpl.figure.prototype._root_extra_style = function (_canvas_div) {};\n",
       "\n",
       "mpl.figure.prototype._init_canvas = function () {\n",
       "    var fig = this;\n",
       "\n",
       "    var canvas_div = (this.canvas_div = document.createElement('div'));\n",
       "    canvas_div.setAttribute(\n",
       "        'style',\n",
       "        'border: 1px solid #ddd;' +\n",
       "            'box-sizing: content-box;' +\n",
       "            'clear: both;' +\n",
       "            'min-height: 1px;' +\n",
       "            'min-width: 1px;' +\n",
       "            'outline: 0;' +\n",
       "            'overflow: hidden;' +\n",
       "            'position: relative;' +\n",
       "            'resize: both;'\n",
       "    );\n",
       "\n",
       "    function on_keyboard_event_closure(name) {\n",
       "        return function (event) {\n",
       "            return fig.key_event(event, name);\n",
       "        };\n",
       "    }\n",
       "\n",
       "    canvas_div.addEventListener(\n",
       "        'keydown',\n",
       "        on_keyboard_event_closure('key_press')\n",
       "    );\n",
       "    canvas_div.addEventListener(\n",
       "        'keyup',\n",
       "        on_keyboard_event_closure('key_release')\n",
       "    );\n",
       "\n",
       "    this._canvas_extra_style(canvas_div);\n",
       "    this.root.appendChild(canvas_div);\n",
       "\n",
       "    var canvas = (this.canvas = document.createElement('canvas'));\n",
       "    canvas.classList.add('mpl-canvas');\n",
       "    canvas.setAttribute('style', 'box-sizing: content-box;');\n",
       "\n",
       "    this.context = canvas.getContext('2d');\n",
       "\n",
       "    var backingStore =\n",
       "        this.context.backingStorePixelRatio ||\n",
       "        this.context.webkitBackingStorePixelRatio ||\n",
       "        this.context.mozBackingStorePixelRatio ||\n",
       "        this.context.msBackingStorePixelRatio ||\n",
       "        this.context.oBackingStorePixelRatio ||\n",
       "        this.context.backingStorePixelRatio ||\n",
       "        1;\n",
       "\n",
       "    this.ratio = (window.devicePixelRatio || 1) / backingStore;\n",
       "\n",
       "    var rubberband_canvas = (this.rubberband_canvas = document.createElement(\n",
       "        'canvas'\n",
       "    ));\n",
       "    rubberband_canvas.setAttribute(\n",
       "        'style',\n",
       "        'box-sizing: content-box; position: absolute; left: 0; top: 0; z-index: 1;'\n",
       "    );\n",
       "\n",
       "    // Apply a ponyfill if ResizeObserver is not implemented by browser.\n",
       "    if (this.ResizeObserver === undefined) {\n",
       "        if (window.ResizeObserver !== undefined) {\n",
       "            this.ResizeObserver = window.ResizeObserver;\n",
       "        } else {\n",
       "            var obs = _JSXTOOLS_RESIZE_OBSERVER({});\n",
       "            this.ResizeObserver = obs.ResizeObserver;\n",
       "        }\n",
       "    }\n",
       "\n",
       "    this.resizeObserverInstance = new this.ResizeObserver(function (entries) {\n",
       "        var nentries = entries.length;\n",
       "        for (var i = 0; i < nentries; i++) {\n",
       "            var entry = entries[i];\n",
       "            var width, height;\n",
       "            if (entry.contentBoxSize) {\n",
       "                if (entry.contentBoxSize instanceof Array) {\n",
       "                    // Chrome 84 implements new version of spec.\n",
       "                    width = entry.contentBoxSize[0].inlineSize;\n",
       "                    height = entry.contentBoxSize[0].blockSize;\n",
       "                } else {\n",
       "                    // Firefox implements old version of spec.\n",
       "                    width = entry.contentBoxSize.inlineSize;\n",
       "                    height = entry.contentBoxSize.blockSize;\n",
       "                }\n",
       "            } else {\n",
       "                // Chrome <84 implements even older version of spec.\n",
       "                width = entry.contentRect.width;\n",
       "                height = entry.contentRect.height;\n",
       "            }\n",
       "\n",
       "            // Keep the size of the canvas and rubber band canvas in sync with\n",
       "            // the canvas container.\n",
       "            if (entry.devicePixelContentBoxSize) {\n",
       "                // Chrome 84 implements new version of spec.\n",
       "                canvas.setAttribute(\n",
       "                    'width',\n",
       "                    entry.devicePixelContentBoxSize[0].inlineSize\n",
       "                );\n",
       "                canvas.setAttribute(\n",
       "                    'height',\n",
       "                    entry.devicePixelContentBoxSize[0].blockSize\n",
       "                );\n",
       "            } else {\n",
       "                canvas.setAttribute('width', width * fig.ratio);\n",
       "                canvas.setAttribute('height', height * fig.ratio);\n",
       "            }\n",
       "            canvas.setAttribute(\n",
       "                'style',\n",
       "                'width: ' + width + 'px; height: ' + height + 'px;'\n",
       "            );\n",
       "\n",
       "            rubberband_canvas.setAttribute('width', width);\n",
       "            rubberband_canvas.setAttribute('height', height);\n",
       "\n",
       "            // And update the size in Python. We ignore the initial 0/0 size\n",
       "            // that occurs as the element is placed into the DOM, which should\n",
       "            // otherwise not happen due to the minimum size styling.\n",
       "            if (fig.ws.readyState == 1 && width != 0 && height != 0) {\n",
       "                fig.request_resize(width, height);\n",
       "            }\n",
       "        }\n",
       "    });\n",
       "    this.resizeObserverInstance.observe(canvas_div);\n",
       "\n",
       "    function on_mouse_event_closure(name) {\n",
       "        return function (event) {\n",
       "            return fig.mouse_event(event, name);\n",
       "        };\n",
       "    }\n",
       "\n",
       "    rubberband_canvas.addEventListener(\n",
       "        'mousedown',\n",
       "        on_mouse_event_closure('button_press')\n",
       "    );\n",
       "    rubberband_canvas.addEventListener(\n",
       "        'mouseup',\n",
       "        on_mouse_event_closure('button_release')\n",
       "    );\n",
       "    rubberband_canvas.addEventListener(\n",
       "        'dblclick',\n",
       "        on_mouse_event_closure('dblclick')\n",
       "    );\n",
       "    // Throttle sequential mouse events to 1 every 20ms.\n",
       "    rubberband_canvas.addEventListener(\n",
       "        'mousemove',\n",
       "        on_mouse_event_closure('motion_notify')\n",
       "    );\n",
       "\n",
       "    rubberband_canvas.addEventListener(\n",
       "        'mouseenter',\n",
       "        on_mouse_event_closure('figure_enter')\n",
       "    );\n",
       "    rubberband_canvas.addEventListener(\n",
       "        'mouseleave',\n",
       "        on_mouse_event_closure('figure_leave')\n",
       "    );\n",
       "\n",
       "    canvas_div.addEventListener('wheel', function (event) {\n",
       "        if (event.deltaY < 0) {\n",
       "            event.step = 1;\n",
       "        } else {\n",
       "            event.step = -1;\n",
       "        }\n",
       "        on_mouse_event_closure('scroll')(event);\n",
       "    });\n",
       "\n",
       "    canvas_div.appendChild(canvas);\n",
       "    canvas_div.appendChild(rubberband_canvas);\n",
       "\n",
       "    this.rubberband_context = rubberband_canvas.getContext('2d');\n",
       "    this.rubberband_context.strokeStyle = '#000000';\n",
       "\n",
       "    this._resize_canvas = function (width, height, forward) {\n",
       "        if (forward) {\n",
       "            canvas_div.style.width = width + 'px';\n",
       "            canvas_div.style.height = height + 'px';\n",
       "        }\n",
       "    };\n",
       "\n",
       "    // Disable right mouse context menu.\n",
       "    this.rubberband_canvas.addEventListener('contextmenu', function (_e) {\n",
       "        event.preventDefault();\n",
       "        return false;\n",
       "    });\n",
       "\n",
       "    function set_focus() {\n",
       "        canvas.focus();\n",
       "        canvas_div.focus();\n",
       "    }\n",
       "\n",
       "    window.setTimeout(set_focus, 100);\n",
       "};\n",
       "\n",
       "mpl.figure.prototype._init_toolbar = function () {\n",
       "    var fig = this;\n",
       "\n",
       "    var toolbar = document.createElement('div');\n",
       "    toolbar.classList = 'mpl-toolbar';\n",
       "    this.root.appendChild(toolbar);\n",
       "\n",
       "    function on_click_closure(name) {\n",
       "        return function (_event) {\n",
       "            return fig.toolbar_button_onclick(name);\n",
       "        };\n",
       "    }\n",
       "\n",
       "    function on_mouseover_closure(tooltip) {\n",
       "        return function (event) {\n",
       "            if (!event.currentTarget.disabled) {\n",
       "                return fig.toolbar_button_onmouseover(tooltip);\n",
       "            }\n",
       "        };\n",
       "    }\n",
       "\n",
       "    fig.buttons = {};\n",
       "    var buttonGroup = document.createElement('div');\n",
       "    buttonGroup.classList = 'mpl-button-group';\n",
       "    for (var toolbar_ind in mpl.toolbar_items) {\n",
       "        var name = mpl.toolbar_items[toolbar_ind][0];\n",
       "        var tooltip = mpl.toolbar_items[toolbar_ind][1];\n",
       "        var image = mpl.toolbar_items[toolbar_ind][2];\n",
       "        var method_name = mpl.toolbar_items[toolbar_ind][3];\n",
       "\n",
       "        if (!name) {\n",
       "            /* Instead of a spacer, we start a new button group. */\n",
       "            if (buttonGroup.hasChildNodes()) {\n",
       "                toolbar.appendChild(buttonGroup);\n",
       "            }\n",
       "            buttonGroup = document.createElement('div');\n",
       "            buttonGroup.classList = 'mpl-button-group';\n",
       "            continue;\n",
       "        }\n",
       "\n",
       "        var button = (fig.buttons[name] = document.createElement('button'));\n",
       "        button.classList = 'mpl-widget';\n",
       "        button.setAttribute('role', 'button');\n",
       "        button.setAttribute('aria-disabled', 'false');\n",
       "        button.addEventListener('click', on_click_closure(method_name));\n",
       "        button.addEventListener('mouseover', on_mouseover_closure(tooltip));\n",
       "\n",
       "        var icon_img = document.createElement('img');\n",
       "        icon_img.src = '_images/' + image + '.png';\n",
       "        icon_img.srcset = '_images/' + image + '_large.png 2x';\n",
       "        icon_img.alt = tooltip;\n",
       "        button.appendChild(icon_img);\n",
       "\n",
       "        buttonGroup.appendChild(button);\n",
       "    }\n",
       "\n",
       "    if (buttonGroup.hasChildNodes()) {\n",
       "        toolbar.appendChild(buttonGroup);\n",
       "    }\n",
       "\n",
       "    var fmt_picker = document.createElement('select');\n",
       "    fmt_picker.classList = 'mpl-widget';\n",
       "    toolbar.appendChild(fmt_picker);\n",
       "    this.format_dropdown = fmt_picker;\n",
       "\n",
       "    for (var ind in mpl.extensions) {\n",
       "        var fmt = mpl.extensions[ind];\n",
       "        var option = document.createElement('option');\n",
       "        option.selected = fmt === mpl.default_extension;\n",
       "        option.innerHTML = fmt;\n",
       "        fmt_picker.appendChild(option);\n",
       "    }\n",
       "\n",
       "    var status_bar = document.createElement('span');\n",
       "    status_bar.classList = 'mpl-message';\n",
       "    toolbar.appendChild(status_bar);\n",
       "    this.message = status_bar;\n",
       "};\n",
       "\n",
       "mpl.figure.prototype.request_resize = function (x_pixels, y_pixels) {\n",
       "    // Request matplotlib to resize the figure. Matplotlib will then trigger a resize in the client,\n",
       "    // which will in turn request a refresh of the image.\n",
       "    this.send_message('resize', { width: x_pixels, height: y_pixels });\n",
       "};\n",
       "\n",
       "mpl.figure.prototype.send_message = function (type, properties) {\n",
       "    properties['type'] = type;\n",
       "    properties['figure_id'] = this.id;\n",
       "    this.ws.send(JSON.stringify(properties));\n",
       "};\n",
       "\n",
       "mpl.figure.prototype.send_draw_message = function () {\n",
       "    if (!this.waiting) {\n",
       "        this.waiting = true;\n",
       "        this.ws.send(JSON.stringify({ type: 'draw', figure_id: this.id }));\n",
       "    }\n",
       "};\n",
       "\n",
       "mpl.figure.prototype.handle_save = function (fig, _msg) {\n",
       "    var format_dropdown = fig.format_dropdown;\n",
       "    var format = format_dropdown.options[format_dropdown.selectedIndex].value;\n",
       "    fig.ondownload(fig, format);\n",
       "};\n",
       "\n",
       "mpl.figure.prototype.handle_resize = function (fig, msg) {\n",
       "    var size = msg['size'];\n",
       "    if (size[0] !== fig.canvas.width || size[1] !== fig.canvas.height) {\n",
       "        fig._resize_canvas(size[0], size[1], msg['forward']);\n",
       "        fig.send_message('refresh', {});\n",
       "    }\n",
       "};\n",
       "\n",
       "mpl.figure.prototype.handle_rubberband = function (fig, msg) {\n",
       "    var x0 = msg['x0'] / fig.ratio;\n",
       "    var y0 = (fig.canvas.height - msg['y0']) / fig.ratio;\n",
       "    var x1 = msg['x1'] / fig.ratio;\n",
       "    var y1 = (fig.canvas.height - msg['y1']) / fig.ratio;\n",
       "    x0 = Math.floor(x0) + 0.5;\n",
       "    y0 = Math.floor(y0) + 0.5;\n",
       "    x1 = Math.floor(x1) + 0.5;\n",
       "    y1 = Math.floor(y1) + 0.5;\n",
       "    var min_x = Math.min(x0, x1);\n",
       "    var min_y = Math.min(y0, y1);\n",
       "    var width = Math.abs(x1 - x0);\n",
       "    var height = Math.abs(y1 - y0);\n",
       "\n",
       "    fig.rubberband_context.clearRect(\n",
       "        0,\n",
       "        0,\n",
       "        fig.canvas.width / fig.ratio,\n",
       "        fig.canvas.height / fig.ratio\n",
       "    );\n",
       "\n",
       "    fig.rubberband_context.strokeRect(min_x, min_y, width, height);\n",
       "};\n",
       "\n",
       "mpl.figure.prototype.handle_figure_label = function (fig, msg) {\n",
       "    // Updates the figure title.\n",
       "    fig.header.textContent = msg['label'];\n",
       "};\n",
       "\n",
       "mpl.figure.prototype.handle_cursor = function (fig, msg) {\n",
       "    fig.rubberband_canvas.style.cursor = msg['cursor'];\n",
       "};\n",
       "\n",
       "mpl.figure.prototype.handle_message = function (fig, msg) {\n",
       "    fig.message.textContent = msg['message'];\n",
       "};\n",
       "\n",
       "mpl.figure.prototype.handle_draw = function (fig, _msg) {\n",
       "    // Request the server to send over a new figure.\n",
       "    fig.send_draw_message();\n",
       "};\n",
       "\n",
       "mpl.figure.prototype.handle_image_mode = function (fig, msg) {\n",
       "    fig.image_mode = msg['mode'];\n",
       "};\n",
       "\n",
       "mpl.figure.prototype.handle_history_buttons = function (fig, msg) {\n",
       "    for (var key in msg) {\n",
       "        if (!(key in fig.buttons)) {\n",
       "            continue;\n",
       "        }\n",
       "        fig.buttons[key].disabled = !msg[key];\n",
       "        fig.buttons[key].setAttribute('aria-disabled', !msg[key]);\n",
       "    }\n",
       "};\n",
       "\n",
       "mpl.figure.prototype.handle_navigate_mode = function (fig, msg) {\n",
       "    if (msg['mode'] === 'PAN') {\n",
       "        fig.buttons['Pan'].classList.add('active');\n",
       "        fig.buttons['Zoom'].classList.remove('active');\n",
       "    } else if (msg['mode'] === 'ZOOM') {\n",
       "        fig.buttons['Pan'].classList.remove('active');\n",
       "        fig.buttons['Zoom'].classList.add('active');\n",
       "    } else {\n",
       "        fig.buttons['Pan'].classList.remove('active');\n",
       "        fig.buttons['Zoom'].classList.remove('active');\n",
       "    }\n",
       "};\n",
       "\n",
       "mpl.figure.prototype.updated_canvas_event = function () {\n",
       "    // Called whenever the canvas gets updated.\n",
       "    this.send_message('ack', {});\n",
       "};\n",
       "\n",
       "// A function to construct a web socket function for onmessage handling.\n",
       "// Called in the figure constructor.\n",
       "mpl.figure.prototype._make_on_message_function = function (fig) {\n",
       "    return function socket_on_message(evt) {\n",
       "        if (evt.data instanceof Blob) {\n",
       "            var img = evt.data;\n",
       "            if (img.type !== 'image/png') {\n",
       "                /* FIXME: We get \"Resource interpreted as Image but\n",
       "                 * transferred with MIME type text/plain:\" errors on\n",
       "                 * Chrome.  But how to set the MIME type?  It doesn't seem\n",
       "                 * to be part of the websocket stream */\n",
       "                img.type = 'image/png';\n",
       "            }\n",
       "\n",
       "            /* Free the memory for the previous frames */\n",
       "            if (fig.imageObj.src) {\n",
       "                (window.URL || window.webkitURL).revokeObjectURL(\n",
       "                    fig.imageObj.src\n",
       "                );\n",
       "            }\n",
       "\n",
       "            fig.imageObj.src = (window.URL || window.webkitURL).createObjectURL(\n",
       "                img\n",
       "            );\n",
       "            fig.updated_canvas_event();\n",
       "            fig.waiting = false;\n",
       "            return;\n",
       "        } else if (\n",
       "            typeof evt.data === 'string' &&\n",
       "            evt.data.slice(0, 21) === 'data:image/png;base64'\n",
       "        ) {\n",
       "            fig.imageObj.src = evt.data;\n",
       "            fig.updated_canvas_event();\n",
       "            fig.waiting = false;\n",
       "            return;\n",
       "        }\n",
       "\n",
       "        var msg = JSON.parse(evt.data);\n",
       "        var msg_type = msg['type'];\n",
       "\n",
       "        // Call the  \"handle_{type}\" callback, which takes\n",
       "        // the figure and JSON message as its only arguments.\n",
       "        try {\n",
       "            var callback = fig['handle_' + msg_type];\n",
       "        } catch (e) {\n",
       "            console.log(\n",
       "                \"No handler for the '\" + msg_type + \"' message type: \",\n",
       "                msg\n",
       "            );\n",
       "            return;\n",
       "        }\n",
       "\n",
       "        if (callback) {\n",
       "            try {\n",
       "                // console.log(\"Handling '\" + msg_type + \"' message: \", msg);\n",
       "                callback(fig, msg);\n",
       "            } catch (e) {\n",
       "                console.log(\n",
       "                    \"Exception inside the 'handler_\" + msg_type + \"' callback:\",\n",
       "                    e,\n",
       "                    e.stack,\n",
       "                    msg\n",
       "                );\n",
       "            }\n",
       "        }\n",
       "    };\n",
       "};\n",
       "\n",
       "// from https://stackoverflow.com/questions/1114465/getting-mouse-location-in-canvas\n",
       "mpl.findpos = function (e) {\n",
       "    //this section is from http://www.quirksmode.org/js/events_properties.html\n",
       "    var targ;\n",
       "    if (!e) {\n",
       "        e = window.event;\n",
       "    }\n",
       "    if (e.target) {\n",
       "        targ = e.target;\n",
       "    } else if (e.srcElement) {\n",
       "        targ = e.srcElement;\n",
       "    }\n",
       "    if (targ.nodeType === 3) {\n",
       "        // defeat Safari bug\n",
       "        targ = targ.parentNode;\n",
       "    }\n",
       "\n",
       "    // pageX,Y are the mouse positions relative to the document\n",
       "    var boundingRect = targ.getBoundingClientRect();\n",
       "    var x = e.pageX - (boundingRect.left + document.body.scrollLeft);\n",
       "    var y = e.pageY - (boundingRect.top + document.body.scrollTop);\n",
       "\n",
       "    return { x: x, y: y };\n",
       "};\n",
       "\n",
       "/*\n",
       " * return a copy of an object with only non-object keys\n",
       " * we need this to avoid circular references\n",
       " * https://stackoverflow.com/a/24161582/3208463\n",
       " */\n",
       "function simpleKeys(original) {\n",
       "    return Object.keys(original).reduce(function (obj, key) {\n",
       "        if (typeof original[key] !== 'object') {\n",
       "            obj[key] = original[key];\n",
       "        }\n",
       "        return obj;\n",
       "    }, {});\n",
       "}\n",
       "\n",
       "mpl.figure.prototype.mouse_event = function (event, name) {\n",
       "    var canvas_pos = mpl.findpos(event);\n",
       "\n",
       "    if (name === 'button_press') {\n",
       "        this.canvas.focus();\n",
       "        this.canvas_div.focus();\n",
       "    }\n",
       "\n",
       "    var x = canvas_pos.x * this.ratio;\n",
       "    var y = canvas_pos.y * this.ratio;\n",
       "\n",
       "    this.send_message(name, {\n",
       "        x: x,\n",
       "        y: y,\n",
       "        button: event.button,\n",
       "        step: event.step,\n",
       "        guiEvent: simpleKeys(event),\n",
       "    });\n",
       "\n",
       "    /* This prevents the web browser from automatically changing to\n",
       "     * the text insertion cursor when the button is pressed.  We want\n",
       "     * to control all of the cursor setting manually through the\n",
       "     * 'cursor' event from matplotlib */\n",
       "    event.preventDefault();\n",
       "    return false;\n",
       "};\n",
       "\n",
       "mpl.figure.prototype._key_event_extra = function (_event, _name) {\n",
       "    // Handle any extra behaviour associated with a key event\n",
       "};\n",
       "\n",
       "mpl.figure.prototype.key_event = function (event, name) {\n",
       "    // Prevent repeat events\n",
       "    if (name === 'key_press') {\n",
       "        if (event.key === this._key) {\n",
       "            return;\n",
       "        } else {\n",
       "            this._key = event.key;\n",
       "        }\n",
       "    }\n",
       "    if (name === 'key_release') {\n",
       "        this._key = null;\n",
       "    }\n",
       "\n",
       "    var value = '';\n",
       "    if (event.ctrlKey && event.key !== 'Control') {\n",
       "        value += 'ctrl+';\n",
       "    }\n",
       "    else if (event.altKey && event.key !== 'Alt') {\n",
       "        value += 'alt+';\n",
       "    }\n",
       "    else if (event.shiftKey && event.key !== 'Shift') {\n",
       "        value += 'shift+';\n",
       "    }\n",
       "\n",
       "    value += 'k' + event.key;\n",
       "\n",
       "    this._key_event_extra(event, name);\n",
       "\n",
       "    this.send_message(name, { key: value, guiEvent: simpleKeys(event) });\n",
       "    return false;\n",
       "};\n",
       "\n",
       "mpl.figure.prototype.toolbar_button_onclick = function (name) {\n",
       "    if (name === 'download') {\n",
       "        this.handle_save(this, null);\n",
       "    } else {\n",
       "        this.send_message('toolbar_button', { name: name });\n",
       "    }\n",
       "};\n",
       "\n",
       "mpl.figure.prototype.toolbar_button_onmouseover = function (tooltip) {\n",
       "    this.message.textContent = tooltip;\n",
       "};\n",
       "\n",
       "///////////////// REMAINING CONTENT GENERATED BY embed_js.py /////////////////\n",
       "// prettier-ignore\n",
       "var _JSXTOOLS_RESIZE_OBSERVER=function(A){var t,i=new WeakMap,n=new WeakMap,a=new WeakMap,r=new WeakMap,o=new Set;function s(e){if(!(this instanceof s))throw new TypeError(\"Constructor requires 'new' operator\");i.set(this,e)}function h(){throw new TypeError(\"Function is not a constructor\")}function c(e,t,i,n){e=0 in arguments?Number(arguments[0]):0,t=1 in arguments?Number(arguments[1]):0,i=2 in arguments?Number(arguments[2]):0,n=3 in arguments?Number(arguments[3]):0,this.right=(this.x=this.left=e)+(this.width=i),this.bottom=(this.y=this.top=t)+(this.height=n),Object.freeze(this)}function d(){t=requestAnimationFrame(d);var s=new WeakMap,p=new Set;o.forEach((function(t){r.get(t).forEach((function(i){var r=t instanceof window.SVGElement,o=a.get(t),d=r?0:parseFloat(o.paddingTop),f=r?0:parseFloat(o.paddingRight),l=r?0:parseFloat(o.paddingBottom),u=r?0:parseFloat(o.paddingLeft),g=r?0:parseFloat(o.borderTopWidth),m=r?0:parseFloat(o.borderRightWidth),w=r?0:parseFloat(o.borderBottomWidth),b=u+f,F=d+l,v=(r?0:parseFloat(o.borderLeftWidth))+m,W=g+w,y=r?0:t.offsetHeight-W-t.clientHeight,E=r?0:t.offsetWidth-v-t.clientWidth,R=b+v,z=F+W,M=r?t.width:parseFloat(o.width)-R-E,O=r?t.height:parseFloat(o.height)-z-y;if(n.has(t)){var k=n.get(t);if(k[0]===M&&k[1]===O)return}n.set(t,[M,O]);var S=Object.create(h.prototype);S.target=t,S.contentRect=new c(u,d,M,O),s.has(i)||(s.set(i,[]),p.add(i)),s.get(i).push(S)}))})),p.forEach((function(e){i.get(e).call(e,s.get(e),e)}))}return s.prototype.observe=function(i){if(i instanceof window.Element){r.has(i)||(r.set(i,new Set),o.add(i),a.set(i,window.getComputedStyle(i)));var n=r.get(i);n.has(this)||n.add(this),cancelAnimationFrame(t),t=requestAnimationFrame(d)}},s.prototype.unobserve=function(i){if(i instanceof window.Element&&r.has(i)){var n=r.get(i);n.has(this)&&(n.delete(this),n.size||(r.delete(i),o.delete(i))),n.size||r.delete(i),o.size||cancelAnimationFrame(t)}},A.DOMRectReadOnly=c,A.ResizeObserver=s,A.ResizeObserverEntry=h,A}; // eslint-disable-line\n",
       "mpl.toolbar_items = [[\"Home\", \"Reset original view\", \"fa fa-home icon-home\", \"home\"], [\"Back\", \"Back to previous view\", \"fa fa-arrow-left icon-arrow-left\", \"back\"], [\"Forward\", \"Forward to next view\", \"fa fa-arrow-right icon-arrow-right\", \"forward\"], [\"\", \"\", \"\", \"\"], [\"Pan\", \"Left button pans, Right button zooms\\nx/y fixes axis, CTRL fixes aspect\", \"fa fa-arrows icon-move\", \"pan\"], [\"Zoom\", \"Zoom to rectangle\\nx/y fixes axis\", \"fa fa-square-o icon-check-empty\", \"zoom\"], [\"\", \"\", \"\", \"\"], [\"Download\", \"Download plot\", \"fa fa-floppy-o icon-save\", \"download\"]];\n",
       "\n",
       "mpl.extensions = [\"eps\", \"jpeg\", \"pgf\", \"pdf\", \"png\", \"ps\", \"raw\", \"svg\", \"tif\"];\n",
       "\n",
       "mpl.default_extension = \"png\";/* global mpl */\n",
       "\n",
       "var comm_websocket_adapter = function (comm) {\n",
       "    // Create a \"websocket\"-like object which calls the given IPython comm\n",
       "    // object with the appropriate methods. Currently this is a non binary\n",
       "    // socket, so there is still some room for performance tuning.\n",
       "    var ws = {};\n",
       "\n",
       "    ws.binaryType = comm.kernel.ws.binaryType;\n",
       "    ws.readyState = comm.kernel.ws.readyState;\n",
       "    function updateReadyState(_event) {\n",
       "        if (comm.kernel.ws) {\n",
       "            ws.readyState = comm.kernel.ws.readyState;\n",
       "        } else {\n",
       "            ws.readyState = 3; // Closed state.\n",
       "        }\n",
       "    }\n",
       "    comm.kernel.ws.addEventListener('open', updateReadyState);\n",
       "    comm.kernel.ws.addEventListener('close', updateReadyState);\n",
       "    comm.kernel.ws.addEventListener('error', updateReadyState);\n",
       "\n",
       "    ws.close = function () {\n",
       "        comm.close();\n",
       "    };\n",
       "    ws.send = function (m) {\n",
       "        //console.log('sending', m);\n",
       "        comm.send(m);\n",
       "    };\n",
       "    // Register the callback with on_msg.\n",
       "    comm.on_msg(function (msg) {\n",
       "        //console.log('receiving', msg['content']['data'], msg);\n",
       "        var data = msg['content']['data'];\n",
       "        if (data['blob'] !== undefined) {\n",
       "            data = {\n",
       "                data: new Blob(msg['buffers'], { type: data['blob'] }),\n",
       "            };\n",
       "        }\n",
       "        // Pass the mpl event to the overridden (by mpl) onmessage function.\n",
       "        ws.onmessage(data);\n",
       "    });\n",
       "    return ws;\n",
       "};\n",
       "\n",
       "mpl.mpl_figure_comm = function (comm, msg) {\n",
       "    // This is the function which gets called when the mpl process\n",
       "    // starts-up an IPython Comm through the \"matplotlib\" channel.\n",
       "\n",
       "    var id = msg.content.data.id;\n",
       "    // Get hold of the div created by the display call when the Comm\n",
       "    // socket was opened in Python.\n",
       "    var element = document.getElementById(id);\n",
       "    var ws_proxy = comm_websocket_adapter(comm);\n",
       "\n",
       "    function ondownload(figure, _format) {\n",
       "        window.open(figure.canvas.toDataURL());\n",
       "    }\n",
       "\n",
       "    var fig = new mpl.figure(id, ws_proxy, ondownload, element);\n",
       "\n",
       "    // Call onopen now - mpl needs it, as it is assuming we've passed it a real\n",
       "    // web socket which is closed, not our websocket->open comm proxy.\n",
       "    ws_proxy.onopen();\n",
       "\n",
       "    fig.parent_element = element;\n",
       "    fig.cell_info = mpl.find_output_cell(\"<div id='\" + id + \"'></div>\");\n",
       "    if (!fig.cell_info) {\n",
       "        console.error('Failed to find cell for figure', id, fig);\n",
       "        return;\n",
       "    }\n",
       "    fig.cell_info[0].output_area.element.on(\n",
       "        'cleared',\n",
       "        { fig: fig },\n",
       "        fig._remove_fig_handler\n",
       "    );\n",
       "};\n",
       "\n",
       "mpl.figure.prototype.handle_close = function (fig, msg) {\n",
       "    var width = fig.canvas.width / fig.ratio;\n",
       "    fig.cell_info[0].output_area.element.off(\n",
       "        'cleared',\n",
       "        fig._remove_fig_handler\n",
       "    );\n",
       "    fig.resizeObserverInstance.unobserve(fig.canvas_div);\n",
       "\n",
       "    // Update the output cell to use the data from the current canvas.\n",
       "    fig.push_to_output();\n",
       "    var dataURL = fig.canvas.toDataURL();\n",
       "    // Re-enable the keyboard manager in IPython - without this line, in FF,\n",
       "    // the notebook keyboard shortcuts fail.\n",
       "    IPython.keyboard_manager.enable();\n",
       "    fig.parent_element.innerHTML =\n",
       "        '<img src=\"' + dataURL + '\" width=\"' + width + '\">';\n",
       "    fig.close_ws(fig, msg);\n",
       "};\n",
       "\n",
       "mpl.figure.prototype.close_ws = function (fig, msg) {\n",
       "    fig.send_message('closing', msg);\n",
       "    // fig.ws.close()\n",
       "};\n",
       "\n",
       "mpl.figure.prototype.push_to_output = function (_remove_interactive) {\n",
       "    // Turn the data on the canvas into data in the output cell.\n",
       "    var width = this.canvas.width / this.ratio;\n",
       "    var dataURL = this.canvas.toDataURL();\n",
       "    this.cell_info[1]['text/html'] =\n",
       "        '<img src=\"' + dataURL + '\" width=\"' + width + '\">';\n",
       "};\n",
       "\n",
       "mpl.figure.prototype.updated_canvas_event = function () {\n",
       "    // Tell IPython that the notebook contents must change.\n",
       "    IPython.notebook.set_dirty(true);\n",
       "    this.send_message('ack', {});\n",
       "    var fig = this;\n",
       "    // Wait a second, then push the new image to the DOM so\n",
       "    // that it is saved nicely (might be nice to debounce this).\n",
       "    setTimeout(function () {\n",
       "        fig.push_to_output();\n",
       "    }, 1000);\n",
       "};\n",
       "\n",
       "mpl.figure.prototype._init_toolbar = function () {\n",
       "    var fig = this;\n",
       "\n",
       "    var toolbar = document.createElement('div');\n",
       "    toolbar.classList = 'btn-toolbar';\n",
       "    this.root.appendChild(toolbar);\n",
       "\n",
       "    function on_click_closure(name) {\n",
       "        return function (_event) {\n",
       "            return fig.toolbar_button_onclick(name);\n",
       "        };\n",
       "    }\n",
       "\n",
       "    function on_mouseover_closure(tooltip) {\n",
       "        return function (event) {\n",
       "            if (!event.currentTarget.disabled) {\n",
       "                return fig.toolbar_button_onmouseover(tooltip);\n",
       "            }\n",
       "        };\n",
       "    }\n",
       "\n",
       "    fig.buttons = {};\n",
       "    var buttonGroup = document.createElement('div');\n",
       "    buttonGroup.classList = 'btn-group';\n",
       "    var button;\n",
       "    for (var toolbar_ind in mpl.toolbar_items) {\n",
       "        var name = mpl.toolbar_items[toolbar_ind][0];\n",
       "        var tooltip = mpl.toolbar_items[toolbar_ind][1];\n",
       "        var image = mpl.toolbar_items[toolbar_ind][2];\n",
       "        var method_name = mpl.toolbar_items[toolbar_ind][3];\n",
       "\n",
       "        if (!name) {\n",
       "            /* Instead of a spacer, we start a new button group. */\n",
       "            if (buttonGroup.hasChildNodes()) {\n",
       "                toolbar.appendChild(buttonGroup);\n",
       "            }\n",
       "            buttonGroup = document.createElement('div');\n",
       "            buttonGroup.classList = 'btn-group';\n",
       "            continue;\n",
       "        }\n",
       "\n",
       "        button = fig.buttons[name] = document.createElement('button');\n",
       "        button.classList = 'btn btn-default';\n",
       "        button.href = '#';\n",
       "        button.title = name;\n",
       "        button.innerHTML = '<i class=\"fa ' + image + ' fa-lg\"></i>';\n",
       "        button.addEventListener('click', on_click_closure(method_name));\n",
       "        button.addEventListener('mouseover', on_mouseover_closure(tooltip));\n",
       "        buttonGroup.appendChild(button);\n",
       "    }\n",
       "\n",
       "    if (buttonGroup.hasChildNodes()) {\n",
       "        toolbar.appendChild(buttonGroup);\n",
       "    }\n",
       "\n",
       "    // Add the status bar.\n",
       "    var status_bar = document.createElement('span');\n",
       "    status_bar.classList = 'mpl-message pull-right';\n",
       "    toolbar.appendChild(status_bar);\n",
       "    this.message = status_bar;\n",
       "\n",
       "    // Add the close button to the window.\n",
       "    var buttongrp = document.createElement('div');\n",
       "    buttongrp.classList = 'btn-group inline pull-right';\n",
       "    button = document.createElement('button');\n",
       "    button.classList = 'btn btn-mini btn-primary';\n",
       "    button.href = '#';\n",
       "    button.title = 'Stop Interaction';\n",
       "    button.innerHTML = '<i class=\"fa fa-power-off icon-remove icon-large\"></i>';\n",
       "    button.addEventListener('click', function (_evt) {\n",
       "        fig.handle_close(fig, {});\n",
       "    });\n",
       "    button.addEventListener(\n",
       "        'mouseover',\n",
       "        on_mouseover_closure('Stop Interaction')\n",
       "    );\n",
       "    buttongrp.appendChild(button);\n",
       "    var titlebar = this.root.querySelector('.ui-dialog-titlebar');\n",
       "    titlebar.insertBefore(buttongrp, titlebar.firstChild);\n",
       "};\n",
       "\n",
       "mpl.figure.prototype._remove_fig_handler = function (event) {\n",
       "    var fig = event.data.fig;\n",
       "    if (event.target !== this) {\n",
       "        // Ignore bubbled events from children.\n",
       "        return;\n",
       "    }\n",
       "    fig.close_ws(fig, {});\n",
       "};\n",
       "\n",
       "mpl.figure.prototype._root_extra_style = function (el) {\n",
       "    el.style.boxSizing = 'content-box'; // override notebook setting of border-box.\n",
       "};\n",
       "\n",
       "mpl.figure.prototype._canvas_extra_style = function (el) {\n",
       "    // this is important to make the div 'focusable\n",
       "    el.setAttribute('tabindex', 0);\n",
       "    // reach out to IPython and tell the keyboard manager to turn it's self\n",
       "    // off when our div gets focus\n",
       "\n",
       "    // location in version 3\n",
       "    if (IPython.notebook.keyboard_manager) {\n",
       "        IPython.notebook.keyboard_manager.register_events(el);\n",
       "    } else {\n",
       "        // location in version 2\n",
       "        IPython.keyboard_manager.register_events(el);\n",
       "    }\n",
       "};\n",
       "\n",
       "mpl.figure.prototype._key_event_extra = function (event, _name) {\n",
       "    // Check for shift+enter\n",
       "    if (event.shiftKey && event.which === 13) {\n",
       "        this.canvas_div.blur();\n",
       "        // select the cell after this one\n",
       "        var index = IPython.notebook.find_cell_index(this.cell_info[0]);\n",
       "        IPython.notebook.select(index + 1);\n",
       "    }\n",
       "};\n",
       "\n",
       "mpl.figure.prototype.handle_save = function (fig, _msg) {\n",
       "    fig.ondownload(fig, null);\n",
       "};\n",
       "\n",
       "mpl.find_output_cell = function (html_output) {\n",
       "    // Return the cell and output element which can be found *uniquely* in the notebook.\n",
       "    // Note - this is a bit hacky, but it is done because the \"notebook_saving.Notebook\"\n",
       "    // IPython event is triggered only after the cells have been serialised, which for\n",
       "    // our purposes (turning an active figure into a static one), is too late.\n",
       "    var cells = IPython.notebook.get_cells();\n",
       "    var ncells = cells.length;\n",
       "    for (var i = 0; i < ncells; i++) {\n",
       "        var cell = cells[i];\n",
       "        if (cell.cell_type === 'code') {\n",
       "            for (var j = 0; j < cell.output_area.outputs.length; j++) {\n",
       "                var data = cell.output_area.outputs[j];\n",
       "                if (data.data) {\n",
       "                    // IPython >= 3 moved mimebundle to data attribute of output\n",
       "                    data = data.data;\n",
       "                }\n",
       "                if (data['text/html'] === html_output) {\n",
       "                    return [cell, data, j];\n",
       "                }\n",
       "            }\n",
       "        }\n",
       "    }\n",
       "};\n",
       "\n",
       "// Register the function which deals with the matplotlib target/channel.\n",
       "// The kernel may be null if the page has been refreshed.\n",
       "if (IPython.notebook.kernel !== null) {\n",
       "    IPython.notebook.kernel.comm_manager.register_target(\n",
       "        'matplotlib',\n",
       "        mpl.mpl_figure_comm\n",
       "    );\n",
       "}\n"
      ],
      "text/plain": [
       "<IPython.core.display.Javascript object>"
      ]
     },
     "metadata": {},
     "output_type": "display_data"
    },
    {
     "data": {
      "text/html": [
       "<img src=\"data:image/png;base64,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\" width=\"799.4999761730439\">"
      ],
      "text/plain": [
       "<IPython.core.display.HTML object>"
      ]
     },
     "metadata": {},
     "output_type": "display_data"
    }
   ],
   "source": [
    "nr = 1000\n",
    "d = np.random.uniform(size=nr)\n",
    "xlims=[0,7]\n",
    "cdf = cdf_exp\n",
    "cdfi = cdf_exp_inv\n",
    "pdf = pdf_exp\n",
    "\n",
    "fig = plt.figure(figsize=(4,4))\n",
    "gs = GridSpec(8,9, wspace=1, hspace=1)\n",
    "ax_l = fig.add_subplot(gs[:6,:2])\n",
    "ax = fig.add_subplot(gs[:6,2:])\n",
    "ax_b = fig.add_subplot(gs[6:,2:])\n",
    "#ax_l.axes.yaxis.set_visible(False)\n",
    "ax_l.axes.xaxis.set_visible(False)\n",
    "ax.axes.xaxis.set_visible(False)\n",
    "ax.axes.yaxis.set_visible(False)\n",
    "ax_b.axes.yaxis.set_visible(False)\n",
    "\n",
    "ax.set_xlim(xlims)\n",
    "ax.set_ylim(0, 1)\n",
    "ax_b.set_xlim(xlims)\n",
    "ax_l.set_ylim(0.,1)\n",
    "x = np.linspace(xlims[0], xlims[1],100)\n",
    "ax.plot(x, cdf(x), lw=2, c='slateblue', label='cdf')\n",
    "ax.legend(frameon=False, loc='lower right')\n",
    "ax_b.set_xlabel('$x$')\n",
    "\n",
    "def its_anim(i, savefig=False):\n",
    "    ci = cdfi(d[i])\n",
    "    di = d[i]\n",
    "\n",
    "    ax.lines.remove(its_anim.l1)\n",
    "    ax.lines.remove(its_anim.l2)\n",
    "    ax.plot(ci, 0., '|k', ms=15, markeredgewidth=0.75)\n",
    "    its_anim.l1, = ax.plot([0, ci], [di, di], ls='--', c='gray', lw=0.5)\n",
    "    its_anim.l2, = ax.plot([ci, ci], [0, di], ls='--', c='gray', lw=0.5)\n",
    "    ax.plot(0.0, di, '_k', ms=15, markeredgewidth=0.75)\n",
    "    _, bins, _ = ax_b.hist(cdfi(d[:i]), bins=30, color='slateblue');\n",
    "    xl = np.linspace(xlims[0], xlims[1], 100)\n",
    "    _, ybins, _ = ax_l.hist(d[:i], bins=20, orientation=\"horizontal\", color='slateblue');\n",
    "    ax.set_title(f'N={d[:i].size:d}')\n",
    "    if savefig: fig.savefig(f'its_frames/f{i:04d}.png')\n",
    "\n",
    "its_anim.l1, = ax.plot([0, 0], [0, 0], ls='--', c='gray', lw=0.5)\n",
    "its_anim.l2, = ax.plot([0, 0], [0, 0], ls='--', c='gray', lw=0.5)\n",
    "\n",
    "animation = FuncAnimation(fig, its_anim, interval = 200)\n",
    "\n",
    "plt.show()"
   ]
  },
  {
   "cell_type": "markdown",
   "id": "7eb0ef1e",
   "metadata": {
    "slideshow": {
     "slide_type": "skip"
    }
   },
   "source": [
    "### <font color='blue'>  Example of using the ITS method: sampling an exponential pdf</font>\n",
    "\n",
    "Application of the method is pretty straightforward if the equation can be solved for $x_i$ explicitly. For example, consider exponential pdf $p(x) = Ae^{-\\beta x}$ for $\\beta>0$ and $x\\in [0,\\infty)$.\n",
    "\n",
    "$A$ is normalization factor ensuring that $p(x)$ is pdf: \n",
    "\n",
    "$$A\\int\\limits_0^\\infty e^{-\\beta x}dx = 1; \\ \\ \\ {\\rm i.e.}\\ \\ \\rightarrow\\ \\ A = \\frac{1}{\\int_0^\\infty e^{-\\beta x}dx} = [x\\rightarrow\\tilde{x}=-\\beta x]=\\frac{1}{-(1/\\beta)\\int_0^{-\\infty} e^{\\tilde{x}}d\\tilde{x}}=\\frac{\\beta}{\\int^0_{-\\infty} e^{\\tilde{x}}d\\tilde{x}}=\\beta$$\n"
   ]
  },
  {
   "cell_type": "markdown",
   "id": "389adef4",
   "metadata": {
    "slideshow": {
     "slide_type": "skip"
    }
   },
   "source": [
    "So our pdf is $p(x) = \\beta\\, e^{-\\beta x}$ and its cdf is \n",
    "\n",
    "$$P(x) = \\beta\\,\\int\\limits_0^x e^{-\\beta x}dx = [x\\rightarrow\\tilde{x}=-\\beta x]=-{\\beta\\over\\beta}\\,\\int\\limits_0^{\\tilde{x}} e^{\\tilde{x}}d\\tilde{x} = \\int\\limits^0_{\\tilde{x}} e^{\\tilde{x}}d\\tilde{x} = 1- e^{-\\beta x}$$\n",
    "\n",
    "and we can simply solve for $x$ algebraically: \n",
    "\n",
    "$$x(P) = -\\frac{1}{\\beta}\\,\\ln[1-P]$$"
   ]
  },
  {
   "cell_type": "markdown",
   "id": "2008b00f",
   "metadata": {
    "slideshow": {
     "slide_type": "skip"
    }
   },
   "source": [
    "Now all we need to do to draw $n$ random numbers from the exponential distribution $p(x)=\\beta\\,e^{-\\beta x}$ is to: \n",
    "\n",
    "* generate $n$ samples $y_i$ uniformly distributed in $[0,1]$\n",
    "\n",
    "\n",
    "* transform them into $x_i = -1/\\beta\\ln[1-y_i]$.\n"
   ]
  },
  {
   "cell_type": "markdown",
   "id": "e2ad8eef",
   "metadata": {
    "slideshow": {
     "slide_type": "skip"
    }
   },
   "source": [
    "Note that $x_i = -1/\\beta\\ln[1-y_i]=-1/\\beta\\ln\\,y_i$ because if $y_i$ is a number uniformly distributed in $[0,1]$, so is $1-y_i$. "
   ]
  },
  {
   "cell_type": "code",
   "execution_count": 161,
   "id": "299cdc6d",
   "metadata": {
    "slideshow": {
     "slide_type": "skip"
    }
   },
   "outputs": [],
   "source": [
    "def exp_pdf(x, beta):\n",
    "    \"\"\"\n",
    "    normalized exponential PDF p(x)= e^{-x\\beta}\\beta\n",
    "    \n",
    "    Parameters:\n",
    "    -----------\n",
    "    x: 1d numpy array of real numbers \n",
    "    beta: a real non-zero number\n",
    "        \n",
    "    Returns:\n",
    "    --------\n",
    "    a 1d numpy vector of real numbers equal to the PDF values at input x values\n",
    "    \"\"\"\n",
    "    return np.exp(-x*beta) * beta\n"
   ]
  },
  {
   "cell_type": "code",
   "execution_count": 162,
   "id": "4588d074",
   "metadata": {
    "slideshow": {
     "slide_type": "skip"
    }
   },
   "outputs": [],
   "source": [
    "def invcdf_exp(y, beta):\n",
    "    \"\"\"\n",
    "    analytic inverse of the exponential CDF\n",
    "    \"\"\"\n",
    "    assert(beta != 0.)\n",
    "    \n",
    "    return -np.log(1.-y) / beta\n",
    "\n",
    "nr = 1000000\n",
    "# generate a vector of nr uniformly distributed numbers over [0.,1.]\n",
    "yrnd = np.random.uniform(0., 1., nr)\n",
    "\n",
    "beta = 3.0\n",
    "xexp = invcdf_exp(yrnd, beta)"
   ]
  },
  {
   "cell_type": "code",
   "execution_count": 163,
   "id": "03705904",
   "metadata": {
    "slideshow": {
     "slide_type": "skip"
    }
   },
   "outputs": [],
   "source": [
    "def plot_pdf(xr, plot_pdf=True, func=None, args=None,\n",
    "             xlabel='$x$', ylabel='$p(x)$',  label='samples', \n",
    "             bins = 50, xlog=False, ylog=True, \n",
    "             xlims=[0.,30.], ylims=[1.e-6, 0.4], figsize=5):\n",
    "    \"\"\"\n",
    "    a utility function to plot samples from a pdf as a histogram and compare\n",
    "    the histogram to the analytical form of the pdf plotted as a line, if needed\n",
    "    \n",
    "    Parameters:\n",
    "    -----------\n",
    "    xr:           1d numpy array of float numbers: vector of samples\n",
    "    plot_pdf:     boolean, determines whether to plot a line of the target pdf\n",
    "                  if True, func needs to be supplied\n",
    "    func:         Python function object: function that returns analytic pdf for a given vector xr\n",
    "    args:         list of possible arguments to func, if any\n",
    "    xlabel, ylabel: strings, labels for x and y axes\n",
    "    label:        string, label for the samples histogram for the legend\n",
    "    bins:         integer or string (e.g., 'auto'), passed on as bins parameter to Pylab's histogram function\n",
    "    xlog, ylog:   boolean, determine whether x or y axis is to be plotted on logarithmic scale\n",
    "    xlims, ylims: lists of 2 float elements defining plot limits for x and y axes\n",
    "    figsize:      float, parameter controlling plot size \n",
    "    \n",
    "    Returns:\n",
    "    --------\n",
    "    Nada\n",
    "    \"\"\"\n",
    "    plt.figure(figsize=(figsize,figsize))\n",
    "    plt.xlabel(xlabel); plt.ylabel(ylabel)\n",
    "    if xlog: plt.xscale('log') # plot y-values on a logarithmic scale\n",
    "    if ylog: plt.yscale('log') # plot y-values on a logarithmic scale\n",
    "    plt.xlim(xlims); plt.ylim(ylims) # set axis limits \n",
    "\n",
    "    # compute histogram values; \n",
    "    # density='True' normalizes histogram properly so it can be compared to pdf\n",
    "    hist, bins, patches = plt.hist(xr, density='True', color='slateblue', bins=bins, label=label)\n",
    "    # compute bin centers using numpy slicing \n",
    "    binc = 0.5*(bins[1:] + bins[:-1])\n",
    "    if plot_pdf: \n",
    "        plt.plot(binc, func(binc, *args), lw=1.25, c='orangered', label='target pdf')\n",
    "    plt.ylabel(r'$p(x)$') # label axis \n",
    "    plt.xlabel(r'$x$')\n",
    "    plt.legend(loc='best', frameon=False, fontsize=3*figsize)\n",
    "    plt.show()"
   ]
  },
  {
   "cell_type": "code",
   "execution_count": 165,
   "id": "190c550d",
   "metadata": {
    "slideshow": {
     "slide_type": "slide"
    }
   },
   "outputs": [
    {
     "data": {
      "image/png": "[encoded data removed]",
      "text/plain": [
       "<Figure size 600x600 with 1 Axes>"
      ]
     },
     "metadata": {
      "needs_background": "light"
     },
     "output_type": "display_data"
    }
   ],
   "source": [
    "%matplotlib inline\n",
    "plot_prettier()\n",
    "\n",
    "plot_pdf(xexp, func=exp_pdf, args=[beta], xlims=[0,5], ylims=[1.e-6,5], \n",
    "         bins='auto', xlabel=r'$x$', ylabel=r'$p(x)$', figsize=3)"
   ]
  },
  {
   "cell_type": "markdown",
   "id": "ad6447a5",
   "metadata": {
    "slideshow": {
     "slide_type": "slide"
    }
   },
   "source": [
    "### <font color='blue'>Why does the inverse transform method work? geometric interpretation</font>\n",
    "\n",
    "The meaning of the method can be grasped by visualizing the cumulative pdf, $y=P(x)$ in the $x-y$ plane. Suppose we draw samples from the uniform distribution along $y$: i.e., $u_{[0,1]}=1$ for $y\\in[0,1]$. The probability of a sample to fall within some interval $dy$ is $u_{[0,1]}dy=dy$ for $y\\in [0,1]$. What will be the corresponding interval $dx$ along $x=P^{-1}(y)$ axis that corresponds to $dy$? "
   ]
  },
  {
   "cell_type": "markdown",
   "id": "e1c94d2d",
   "metadata": {
    "slideshow": {
     "slide_type": "fragment"
    }
   },
   "source": [
    "Geometrically, $dx = dy/\\tan\\alpha= dy/(dP/dx) = dy/p(x)$, where $\\alpha$ is the local slope of the cdf,  $\\tan\\alpha(x) = dP/dx=p(x)$, where the latter identity holds by the definition of cdf:\n",
    "\n",
    "$$\\frac{dP(x)}{dx} = \\frac{d}{dx}\\int\\limits_{-\\infty}^x p(x)dx = p(x)$$\n",
    "\n",
    "\n",
    "Thus, uniform distribution of points in the vertical $y$ axis will turn into distribution of points in the horizonthal $x$ axis with density function $p(x)$, because $dy = p(x)dx$, which is precisely what we want."
   ]
  },
  {
   "cell_type": "markdown",
   "id": "5a97e84d",
   "metadata": {
    "slideshow": {
     "slide_type": "skip"
    }
   },
   "source": [
    "### <font color='blue'>Why does the inverse transform method work? formal proof (read if you care)</font>\n"
   ]
  },
  {
   "cell_type": "markdown",
   "id": "b5dc8059",
   "metadata": {
    "slideshow": {
     "slide_type": "skip"
    }
   },
   "source": [
    "**Theorem.** if samples $x_i$ are drawn from pdf $p(x)$, the distribution of $P(x_i)$ will be uniform in the range $[0,1]$.\n",
    "\n",
    "**Proof.**  Let's examine what kind of transformation $y(x)$ will convert these numbers into uniformly distributed  $y_i=y(x_i)$ in the interval $[0,1]$  "
   ]
  },
  {
   "cell_type": "markdown",
   "id": "f855f4dc",
   "metadata": {
    "slideshow": {
     "slide_type": "skip"
    }
   },
   "source": [
    "\n",
    "We know that pdfs are transformed using \"conservation of probability equation\": \n",
    "\n",
    "$$p(x)dx = g(y)dy,$$ \n",
    "\n",
    "so for a given transformation $y(x)$, the pdf of $y$ will be \n",
    "\n",
    "$$g(y) = p(x)\\, {dx\\over dy} = {p(x)\\over y^\\prime},$$ \n",
    "\n",
    "where $y^\\prime=dy/dx$ is derivative of $y(x)$ wrt $x$. "
   ]
  },
  {
   "cell_type": "markdown",
   "id": "d60c3161",
   "metadata": {
    "slideshow": {
     "slide_type": "skip"
    }
   },
   "source": [
    "Thus, if $y^\\prime = p(x)$, then $g(y)=1$, which is a uniform pdf in the interval $y\\in[0,1]$. "
   ]
  },
  {
   "cell_type": "markdown",
   "id": "da3ae694",
   "metadata": {
    "slideshow": {
     "slide_type": "skip"
    }
   },
   "source": [
    "However, the function derivative of which wrt $x$ is $p(x)$ is its cdf $P(x)$ by definition: \n",
    "\n",
    "$$\\frac{dP(x)}{dx} = \\frac{d}{dx}\\int\\limits_{-\\infty}^x p(x)dx = p(x),\\ \\ \\ {\\rm and\\ thus}\\ \\rightarrow\\ y(x)=P(x).$$"
   ]
  },
  {
   "cell_type": "markdown",
   "id": "97654c19",
   "metadata": {
    "slideshow": {
     "slide_type": "skip"
    }
   },
   "source": [
    "Thus, this result tells thus that for $x_i$ drawn from pdf $p(x)$, which has cdf $P(x)$, $y_i=P(x_i)$ will be distributed uniformly in the interval $y\\in [0,1]$. "
   ]
  },
  {
   "cell_type": "markdown",
   "id": "def3fec5",
   "metadata": {
    "slideshow": {
     "slide_type": "slide"
    }
   },
   "source": [
    "## <font color='blue'>Sampling special case pdfs: drawing Gaussian random numbers and distributions symmetric around zero (optional material)</blue>\n",
    "\n",
    "The Gaussian numbers can be drawn using the inverse transform, but this is computationally expensive due to a relatively complicated cdf of the Gaussian distribution (error function). Thus, a more efficient method is usually used: most commonly used is the <a href=\"https://en.wikipedia.org/wiki/Box%E2%80%93Muller_transform\">Box-Mueller method.</a>. \n",
    "\n",
    "If $u_1$ and $u_2$ are uniformly distributed random numbers in the interval $[0,1)$, the following two numbers are drawn from the Gaussian pdf of zero mean and variance $\\sigma^2=1$:\n",
    "\n",
    "\n",
    "$$g_1=\\sqrt{-2\\ln u_1}\\cos 2\\pi u_2;\\ \\ \\ g_2=\\sqrt{-2\\ln u_1}\\sin 2\\pi u_2 $$\n",
    "\n",
    "\n",
    "If we want Gaussian numbers that sample Gaussian pdf with a given mean $\\mu$ and standard deviation $\\sigma$, we can rescale the above numbers as (where $g$ is either $g_1$ or $g_2$):\n",
    "\n",
    "$$\\tilde{g}=\\mu + \\sigma\\,g$$\n",
    "\n",
    "\n",
    "Let's check this empirically. "
   ]
  },
  {
   "cell_type": "markdown",
   "id": "b756f835",
   "metadata": {
    "slideshow": {
     "slide_type": "skip"
    }
   },
   "source": [
    "The method is named after George Edward Pelham Box and Mervin Edgar Muller, who <a href=\"https://projecteuclid.org/euclid.aoms/1177706645\">proposed it in 1958</a>, although the method was previously developed by Raymond E. A. C. Paley and Norbert Wiener in 1934."
   ]
  },
  {
   "cell_type": "code",
   "execution_count": 166,
   "id": "c4cc6d53",
   "metadata": {
    "slideshow": {
     "slide_type": "slide"
    }
   },
   "outputs": [],
   "source": [
    "# generate two vectors of nr pseudo-random numbers uniformly distributed in [0,1] (default)\n",
    "nr = 100000\n",
    "u1 = np.random.uniform(size=nr)\n",
    "u2 = np.random.uniform(size=nr)\n",
    "\n",
    "# transform uniformly distributed numbers in u1 and u2 into Gaussian pdf samples\n",
    "mu, sigma = 10, 10 \n",
    "g1 = 10. + 10.*np.sqrt(-2.*np.log(u1)) * np.cos(2.*np.pi*u2)\n",
    "# g2 will stay with mu=0 and sigma=1\n",
    "g2 = np.sqrt(-2.*np.log(u1)) * np.sin(2.*np.pi*u2)"
   ]
  },
  {
   "cell_type": "code",
   "execution_count": 167,
   "id": "7812661d",
   "metadata": {
    "slideshow": {
     "slide_type": "skip"
    }
   },
   "outputs": [],
   "source": [
    "def gaussian_pdf(x, mu=0., sigma=1.):\n",
    "    \"\"\"\n",
    "    returns value of the Gaussian pdf with input mu, sigma for input x \n",
    "\n",
    "    Parameters:\n",
    "    -----------\n",
    "    x:     a float or a 1d numpy array of floats, input x value(s)\n",
    "    mu:    a float, mean of the Gaussian (default 0)\n",
    "    sigma: a float, st. deviation of the Gaussian (default 1.0)\n",
    "    \n",
    "    Returns:\n",
    "    --------\n",
    "    \n",
    "    g(x): a float or a 1d numpy array of floats, \n",
    "          value(s) of the Gaussian pdf for input x value(s)\n",
    "    \"\"\"\n",
    "    assert(sigma !=0.)\n",
    "\n",
    "    return 1./np.sqrt(2.*np.pi)/sigma * np.exp(-0.5*((x-mu)/sigma)**2)"
   ]
  },
  {
   "cell_type": "code",
   "execution_count": 168,
   "id": "fef8d29c",
   "metadata": {
    "slideshow": {
     "slide_type": "slide"
    }
   },
   "outputs": [
    {
     "data": {
      "image/png": "[encoded data removed]",
      "text/plain": [
       "<Figure size 600x600 with 1 Axes>"
      ]
     },
     "metadata": {
      "needs_background": "light"
     },
     "output_type": "display_data"
    }
   ],
   "source": [
    "g = np.random.normal(size=nr)\n",
    "plot_pdf(g1, func=gaussian_pdf, args=[mu, sigma], xlims=[-30,50],\n",
    "         ylims=[1.e-6,0.05], ylog=False, \n",
    "         bins='auto', xlabel=r'$x$', ylabel=r'$p(x)$', figsize=3)"
   ]
  },
  {
   "cell_type": "markdown",
   "id": "3befd3ed",
   "metadata": {
    "slideshow": {
     "slide_type": "skip"
    }
   },
   "source": [
    "Using Gaussian samples you can also create samples of some other distributions, such as $\\chi^2$ and Student $t$ distribution.\n",
    "\n",
    "When a large number of samples is needed and computational time is an issue, there is a more efficient <a href=\"https://en.wikipedia.org/wiki/Ziggurat_algorithm\">*ziggurat algorithm*</a> of Marsaglia & Tang (2000) to sample symmetric unimodal distributions such as Gaussian and Student $t$. However, this algorithm won't work for assymetric distributions such as $\\chi^2$.  "
   ]
  },
  {
   "cell_type": "markdown",
   "id": "f0775496",
   "metadata": {
    "slideshow": {
     "slide_type": "skip"
    }
   },
   "source": [
    "## <font color='blue'>Generating correlated random samples (optional for undergraduate students)</font>\n",
    "\n",
    "In practical applications one often needs to generate correlated random numbers reflecting correlations in the underlying model. \n",
    "\n",
    "Suppose we have a sequence of $N$ ($N\\geq 2$) *uncorrelated* random numbers with zero mean and unit variance, $\\vec{x}=\\{x_i\\}$, $\\langle \\vec{x}\\rangle=0$ and $\\langle\\vec{x}\\cdot\\vec{x}^T\\rangle = I,$\n",
    "where $I$ is a unitary matrix and angle brackets denote averaging. \n",
    "\n",
    "We want to generate a sequence of $N$ correlated random numbers, $\\vec{y}=\\{y_i\\}$, with correlations given by *covariance matrix*, $C\\equiv \\langle \\vec{y}\\cdot\\vec{y}^T\\rangle$, with elements \n",
    "\\begin{equation}\n",
    "C_{ij}=\\frac{1}{N_s-1}\\sum\\limits_{k=1}^{N_s}(y_{ik}-\\langle{y}_i\\rangle)(y_{jk}-\\langle{y}_j\\rangle),\n",
    "\\end{equation}\n",
    "where averaging is done over some number $N_s$ of sample realizations of $\\vec{y}$."
   ]
  },
  {
   "cell_type": "markdown",
   "id": "a49fb1b6",
   "metadata": {
    "slideshow": {
     "slide_type": "skip"
    }
   },
   "source": [
    "Thus, given a vector of uncorrelated random numbers $\\vec{x}$ to generate a vector of random samples $\\vec{y}$ correlated among each other with correlations given by the covariance matrix $C$, we need to find a transformation matrix $M$ that satisfies the following two equations:\n",
    "\\begin{equation}\n",
    "\\vec{y}=M\\cdot \\vec{x},\\ \\ \\ C=\\langle\\vec{y}\\cdot\\vec{y}^T\\rangle.\n",
    "\\end{equation}\n",
    "\n",
    "Substituting the left equation into the right one and taking into account that $\\vec{x}$ has unit variance, we have:\n",
    "\\begin{equation}\n",
    "C=\\langle M\\cdot \\vec{x}\\cdot\\vec{x}^T\\cdot M^T\\rangle = M\\cdot\\langle\\vec{x}\\cdot\\vec{x}^T\\rangle\\cdot M^T=M\\cdot M^T.\n",
    "\\end{equation}\n",
    "\n",
    "In other words, $M$ is the result of a decomposition of $C$ into a product of a matrix and its transpose. "
   ]
  },
  {
   "cell_type": "markdown",
   "id": "c399af79",
   "metadata": {
    "slideshow": {
     "slide_type": "skip"
    }
   },
   "source": [
    "### <font color='blue'>Computing $M$ using Cholesky decomposition</font>\n",
    "\n",
    "For a covariance matrix that is by its definition symmetric and positive-definite, the most efficient way to achieve this is to use the *Cholesky decomposition*: $C=L\\cdot L^T$, where  $L$ is the lower triangular matrix. \n",
    "\n",
    "So the matrix $M$ we are seeking is the lower rectangular matrix resulting from the Cholesky decomposition of the covariance matrix $C$.\n",
    "Standard linear algebra libraries always include a Cholesky decomposition function (e.g., <a href=\"https://numpy.org/doc/stable/reference/generated/numpy.linalg.cholesky.html\"><tt>numpy.linalg.cholesky</tt></a> in numpy).\n",
    "\n",
    "The required correlated numbers drawn from the same distribution as $\\{x_i\\}$ but which have the required covariance matrix and mean $\\langle\\vec{y}\\rangle$ are then given by \n",
    "\\begin{equation}\n",
    "\\vec{y}=\\langle\\vec{y}\\rangle + L\\cdot\\vec{x},\\ \\ \\ \\mathrm{or}\\ \\ \\ \\ y_i=\\langle y_i\\rangle + \\sum\\limits_{j=1}^N L_{ij} x_j.\n",
    "\\end{equation}"
   ]
  },
  {
   "cell_type": "markdown",
   "id": "d78cfad6",
   "metadata": {
    "slideshow": {
     "slide_type": "skip"
    }
   },
   "source": [
    "### <font color='blue'>Importance sampling (optional for everyone)</font>\n",
    "\n",
    "Often we are interested not in the samples from a given distribution $p(x)$ themselves, but rather in averages of various quantities over that distribution. For example, average of function $g(x)$ over $p(x)$ distribution:\n",
    "\n",
    "$$\n",
    "\\bar{g}_{p} = \\int\\limits_a^{b}g(x)p(x)dx \\approx \\frac{1}{N_s}\\sum\\limits_{i=1}^{N_s} g(x_{i,p}),\\ \\ \\mathrm{where}\\ \\ x_{i,p}\\sim p(x),\n",
    "$$\n",
    "where the last part indicates that $x_{i,p}$ are samples drawn from $p(x)$.\n",
    "\n",
    "If this is the case and $p(x)$ is a distribution that's difficult to sample from, we can choose a function, $q(x)$, called the *importance* function, that's easy to sample from, and re-write the expression for $\\bar{g}_p$ as\n",
    "\n",
    "$$\n",
    "\\bar{g}_{p} = \\int\\limits_a^{b}g(x)\\,\\frac{p(x)}{q(x)}\\, q(x)dx \\approx \\frac{1}{N_s}\\sum\\limits_{i=1}^{N_s} g(x_{i,q})\\,\\frac{p(x_{i,q})}{q(x_{i,q})},\\ \\ \\mathrm{where}\\ \\ x_{i,q}\\sim q(x).\n",
    "$$\n",
    "\n",
    "Thus, we can get an estimate of an average (or any other moment) over a given distribution, by sampling from a different distribution. Note that for numerical stability reasons, $p/q$ ratio should never be overly large. Thus $q(x)$ is chosen in such a way that $p(x)/q(x)$ goes to zero or varies mildly as $p(x)$ goes to zero. \n",
    "\n",
    "The importance sampling is useful not only because it allows to compute averages over distribution by sampling an easier to sample distribution, but also because\n",
    "such averages can be more accurate than the straightforward average over $p(x)$. This is because sampling from $q(x)$ can concentrate the samples into *important* regions that contribute the most to the integral. "
   ]
  }
 ],
 "metadata": {
  "celltoolbar": "Slideshow",
  "kernelspec": {
   "display_name": "Python 3 (ipykernel)",
   "language": "python",
   "name": "python3"
  },
  "language_info": {
   "codemirror_mode": {
    "name": "ipython",
    "version": 3
   },
   "file_extension": ".py",
   "mimetype": "text/x-python",
   "name": "python",
   "nbconvert_exporter": "python",
   "pygments_lexer": "ipython3",
   "version": "3.9.7"
  }
 },
 "nbformat": 4,
 "nbformat_minor": 5
}
