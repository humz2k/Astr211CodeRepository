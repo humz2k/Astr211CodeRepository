{
 "cells": [
  {
   "cell_type": "markdown",
   "id": "f0ed5edb",
   "metadata": {
    "id": "1HRBtoZW0iym"
   },
   "source": [
    "<center>\n",
    "\n",
    "## <font color='darkblue'>ASTR 21100/ASTR 31200\n",
    "<center>\n",
    "\n",
    "### <font color='darkblue'>\"Computational Techniques in Astrophysics\"\n",
    "    \n",
    "<center>\n",
    "    \n",
    "### <font color='darkblue'> Reading assignment 4 questionnaire answers"
   ]
  },
  {
   "cell_type": "markdown",
   "id": "9a2d2e06",
   "metadata": {},
   "source": [
    "**1. 1. In the spline approximation, function f(x) is approximated at every interval between subsequent training points x_i and x_{i+1} as a 3rd order (cubic) polynomial: a + b*x + c*x**2 + d*x**3.  If we have N intervals (for N+1 training points), we need 4N equations to get 4N parameters of the spline, while we only have N+1 function values . What is used to derive extra equations?** \n",
    "\n",
    "Answer: Continuity conditions on the first and second derivative of f(x) at the edges of the interval\n",
    "\n",
    "**2. In the 05 notebook it was shown that polynomial interpolation and regression do not work for P(k) function tabulated with ~3000 points. Why does the spline interpolation can be used to get an accurate approximation for this function, while global polynomial fails?**\n",
    "\n",
    "Answer: Spline uses low order polynomials for local piecewise approximation, which are not subject to severe roundoff errors\n",
    "\n",
    "Smoothness conditions result in a smooth approximation, but do not reduce roundoff errors. \n",
    "\n",
    "**3. Which methods can approximate the 2D function shown in the image below accurately? **\n",
    "\n",
    "Answer: both 2d polynomial and 2d spline can approximate such smooth function, as it does not require a high order polynomial for accurate approximation. \n",
    "\n",
    "**4. Which methods can approximate the 2D function shown in the image below accurately?**\n",
    "\n",
    "Answer: 2d spline. \n",
    "\n",
    "The function has distinct small scale structure, which can only be approximated by a high order polynomial, which will be impossible to construct due to roundoff errors. \n",
    "\n",
    "**5. What is the main motivation for derivative-free optimization methods?**\n",
    "\n",
    "Answer: They don't rely on derivatives, because they may not be computable for discontinuous or sharply changing functions\n",
    "\n",
    "Derivative-free are not necessarily computationally less expensive, but the fact that they don't rely on derivatives offers unique advantage for many optimization problems. \n",
    "\n",
    "**6. Why Differential Evolution (DE) method uses population of many members to find function minimum? Check all that apply**\n",
    "\n",
    "\n",
    "* Using multiple members allows algorithm to avoid getting stuck at a local minimum\n",
    "\n",
    "\n",
    "* Use of location of other randomly chosen members during evolution steps helps to coordinate motion of members and steer wayward members towards global minimum\n",
    "\n",
    "\n",
    "* To explore structure of multivariate more effectively\n",
    "\n",
    "\n",
    "\n",
    "\n",
    "**7. Watch the video below and think about similarities/differences of what you see with how the Differential Evolution (DE) optimization method works. In the space below list at least 3 similarities and 3 differences that you notice.**\n",
    "\n",
    "Similarities: \n",
    "\n",
    "1. \"landscape\" is explored by an ensemble of skiers and population members\n",
    "\n",
    "2. Even if some skiers get stuck in a local minimum, other skiers continue down the function gradient to the global minimum.\n",
    "\n",
    "3. Different skiers move at different speeds, different population also move at different speed, as their location after each evolution step is determined by coordinates of 3 other randomly chosen members. The speed of motion slows down when all members converge to the minimum. \n",
    "\n",
    "Differences:\n",
    "\n",
    "1. Population members can only go down in function values, skiers can go a bit up the slope, not only down. \n",
    "\n",
    "2. Paths of 2 randomly chosen skiers do not necessarily know about each other, while paths of any two population members can be related via \"evolution step\" because coordinates of other members are used to determine evolution of a given member. \n",
    "\n",
    "3. Skiers almost always move in the direction of local gradient of height, while population members direction of motion is determined by coordinates of 3 other randomly chosen members. \n",
    "\n",
    "\n",
    "**8. This question is for graduate students:  what is the main disadvantage of the RBF method?**\n",
    "\n",
    "Answer: The number of operations to construct RBF approximation scales as ~O(N^3), which limits applications of this method to small N. \n",
    "\n",
    "\n",
    "Kernel needs to be chosen, but certain choices need to be made in all computational methods. RBF method works in more dimensions than 2. In fact, it is one of the most useful methods for moderate number of dimensions because it is reliable and works for any distribution of training points (not necessarily gridded). "
   ]
  }
 ],
 "metadata": {
  "kernelspec": {
   "display_name": "Python 3 (ipykernel)",
   "language": "python",
   "name": "python3"
  },
  "language_info": {
   "codemirror_mode": {
    "name": "ipython",
    "version": 3
   },
   "file_extension": ".py",
   "mimetype": "text/x-python",
   "name": "python",
   "nbconvert_exporter": "python",
   "pygments_lexer": "ipython3",
   "version": "3.9.7"
  }
 },
 "nbformat": 4,
 "nbformat_minor": 5
}
