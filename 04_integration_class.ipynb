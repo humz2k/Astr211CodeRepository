{
 "cells": [
  {
   "cell_type": "markdown",
   "id": "617cb539",
   "metadata": {
    "slideshow": {
     "slide_type": "slide"
    }
   },
   "source": [
    "<center>\n",
    "    \n",
    "## <font color='maroon'>ASTR 21100/31200</font>\n",
    "## <font color='maroon'>Computational techniques in astrophysics<br></font>\n",
    "\n",
    "## <font color='maroon'>Numerical computation of integrals<br></font>\n",
    "</center>\n"
   ]
  },
  {
   "cell_type": "markdown",
   "id": "87b3bfc8",
   "metadata": {
    "slideshow": {
     "slide_type": "slide"
    }
   },
   "source": [
    "### <font color='darkblue'>What is integration?\n",
    "\n",
    "Numerical integration of a function, $f(x,\\ldots)$ over a single variable, $x$ (1d integration) over interval $[a,b]$:\n",
    "\n",
    "$$\\int\\limits_a^b f(x) dx,$$\n",
    "\n",
    "is evaluation of the area under $f(x)$, in which regions of $f(x)<0$ contribute negative areas and regions of $f(x)>0$ contribute positive areas. For example, $\\int_0^{2\\pi}\\cos x\\,dx = 0$ because it includes equal contributions from the negative and positive values of cosine. "
   ]
  },
  {
   "cell_type": "markdown",
   "id": "75953c19",
   "metadata": {
    "slideshow": {
     "slide_type": "slide"
    }
   },
   "source": [
    "### <font color='darkblue'>Numerical integration is often called numerical quadrature\n",
    "\n",
    "<p>\n",
    "<center>\n",
    "    \n",
    "<img width=700 src=\"https://www.thefamouspeople.com/profiles/images/anaxagoras-4.jpg\"></img>"
   ]
  },
  {
   "cell_type": "code",
   "execution_count": 4,
   "id": "d962441b",
   "metadata": {
    "slideshow": {
     "slide_type": "skip"
    }
   },
   "outputs": [],
   "source": [
    "# check using numerical integration\n",
    "import numpy as np\n",
    "from matplotlib import pylab as plt\n",
    "from codes.plotting import plot_prettier\n",
    "\n",
    "plot_prettier()"
   ]
  },
  {
   "cell_type": "markdown",
   "id": "ec1ebb16",
   "metadata": {
    "slideshow": {
     "slide_type": "skip"
    }
   },
   "source": [
    "### <font color='darkblue'>Numerical integration is often called numerical *quadrature*\n",
    "\n",
    "The origin of this term goes back to the Greek philosopher/mathematician <a href=\"https://plato.stanford.edu/entries/anaxagoras/\">Anaxagoras</a>, who lived in the 5th century BC and was inprisoned for claiming that the Sun is not a god, but a hot, flowing stone in space and occupied his time in prison trying to solve the problem of finding a side length of a square that had the same area as a circle (i.e. he was trying <a href=\"https://en.wikipedia.org/wiki/Squaring_the_circle\">\"to square a circle\"</a> - the problem that occupied many mathematicians after Anaxagoras). \n",
    "\n",
    "More generally, one can think of computing $\\int_a^b f(x)dx$ as finding side lengths of quadrangle that has the same area as the area under the curve $f(x)$ for $x\\in [a,b]$. Hence, the term *quadrature* and <tt>QUAD</tt> in the name of <tt>QUADPACK</tt> library. \n",
    "\n",
    "If we take one of the quadrangle sides to be $(b-a)$, then the integration is the problem of finding the length of the other side, which can be thought of some sort of weighted average of $f(x)$ over the interval $[a,b]$. "
   ]
  },
  {
   "cell_type": "markdown",
   "id": "eefc3824",
   "metadata": {
    "slideshow": {
     "slide_type": "skip"
    }
   },
   "source": [
    "In the plot below the area of the rectangle is an approximation of the area under the blue curve over the interval $[a,b]=[0,1]$. "
   ]
  },
  {
   "cell_type": "markdown",
   "id": "38b010d8",
   "metadata": {},
   "source": [
    "Example: integral of $f(x)=e^x$ over $[a,b]=[0,1]$ "
   ]
  },
  {
   "cell_type": "code",
   "execution_count": 5,
   "id": "ada001d1",
   "metadata": {
    "slideshow": {
     "slide_type": "skip"
    }
   },
   "outputs": [],
   "source": [
    "def quad_illustration(a,b, func=np.exp, nsteps=100, figsize=(3,3)):\n",
    "    xg = np.linspace(a, b, nsteps) # generate a finer grid of evenly spaced values\n",
    "\n",
    "    plt.figure(figsize=(3,3))\n",
    "    plt.xlabel('$x$'); plt.ylabel('$f(x)$')\n",
    "    plt.plot(xg, func(xg), lw=2., color='indigo') # plot sin(x)\n",
    "    # fill_between function creates a shaded area\n",
    "    plt.fill_between(xg, np.zeros_like(xg), func(xg), color='darkslateblue', alpha=0.9) # shade area under sin(x)\n",
    "    integral = np.average(func(xg))\n",
    "    # shade area under <f> over [a, b] interval\n",
    "    plt.fill_between(xg, np.zeros_like(xg), (integral)*np.ones_like(xg), color='slateblue', alpha=0.5)\n",
    "    plt.show()\n",
    "    return"
   ]
  },
  {
   "cell_type": "code",
   "execution_count": 6,
   "id": "cad8accb",
   "metadata": {
    "slideshow": {
     "slide_type": "slide"
    }
   },
   "outputs": [
    {
     "data": {
      "image/png": "[encoded data removed]",
      "text/plain": [
       "<Figure size 600x600 with 1 Axes>"
      ]
     },
     "metadata": {
      "needs_background": "light"
     },
     "output_type": "display_data"
    }
   ],
   "source": [
    "a, b = 0, 1\n",
    "quad_illustration(a,b, func=np.exp, nsteps=10)"
   ]
  },
  {
   "cell_type": "markdown",
   "id": "b84b44b5",
   "metadata": {
    "slideshow": {
     "slide_type": "slide"
    }
   },
   "source": [
    "The simplest approach: approximate the integral as area under the rectangle with vertices $[a,0]$, $[a, \\bar{f}]$, $[b,\\bar{f}]$, $[b,0]$ where \n",
    "\n",
    "$$\\bar{f}=\\frac{1}{N}\\,\\sum\\limits_{i=0}^{N-1}f(x_i)$$\n",
    "is approximation for the function average over the interval\n",
    "\n",
    "$$\\int_a^b f(x) dx\\approx \\bar{f}(b-a)=\\frac{b-a}{N}\\,\\sum\\limits_{i=0}^{N-1}f(x_i)=h\\,\\sum\\limits_{i=0}^{N-1}f_i.$$\n",
    "\n",
    "$x_i$ are evenly spaced  $N$ values of the function."
   ]
  },
  {
   "cell_type": "code",
   "execution_count": 7,
   "id": "1f7d6aae",
   "metadata": {
    "slideshow": {
     "slide_type": "slide"
    }
   },
   "outputs": [
    {
     "name": "stdout",
     "output_type": "stream",
     "text": [
      "fractional error = 8.19767e-09\n"
     ]
    }
   ],
   "source": [
    "a, b = 0, 1\n",
    "N = 10000000\n",
    "xg = np.linspace(a, b, N) # generate a finer grid of evenly spaced values\n",
    "\n",
    "# integral = average of f(x) * (b-a)\n",
    "aint = np.average(np.exp(xg)) * (b-a)\n",
    "exact = np.exp(b) - np.exp(a) # exact value\n",
    "fracerr = aint/exact - 1.0 \n",
    "\n",
    "print(f'fractional error = {fracerr:.5e}')"
   ]
  },
  {
   "cell_type": "markdown",
   "id": "49f68d19",
   "metadata": {
    "slideshow": {
     "slide_type": "slide"
    }
   },
   "source": [
    "Geometrically, what we are doing here is approximating the function with $N-1$ *piecewise-constant* bins \n",
    "(i.e. with a histogram of $N-1$ bins)"
   ]
  },
  {
   "cell_type": "code",
   "execution_count": 8,
   "id": "f6d9ef08",
   "metadata": {
    "slideshow": {
     "slide_type": "skip"
    }
   },
   "outputs": [
    {
     "name": "stdout",
     "output_type": "stream",
     "text": [
      "fractional error = -1.19797e-01\n"
     ]
    }
   ],
   "source": [
    "a, b = 0, 1\n",
    "N = 5 \n",
    "xi = np.linspace(a, b, N) # generate a finer grid of evenly spaced values\n",
    "\n",
    "# integral = average of f(x) * (b-a)\n",
    "aint = np.sum(np.exp(xi[:-1])) / (N-1) * (b-a)\n",
    "exact = np.exp(b) - np.exp(a) # exact value\n",
    "fracerr = aint/exact - 1.0 \n",
    "\n",
    "print(f'fractional error = {fracerr:.5e}')"
   ]
  },
  {
   "cell_type": "code",
   "execution_count": 10,
   "id": "73cfc046",
   "metadata": {
    "slideshow": {
     "slide_type": "skip"
    }
   },
   "outputs": [],
   "source": [
    "#\n",
    "# prepare a step-wise function for illustration\n",
    "#\n",
    "xir = np.repeat(xi,2) # repeat each xi value in the array \n",
    "fxir = np.zeros_like(xir)\n",
    "fxir[::2] = np.exp(xir[::2])\n",
    "fxir[1::2] = fxir[::2]\n",
    "dx = (b-a) / (N-1) \n",
    "dxhalf = dx * 0.5"
   ]
  },
  {
   "cell_type": "code",
   "execution_count": 11,
   "id": "f348a73f",
   "metadata": {
    "slideshow": {
     "slide_type": "-"
    }
   },
   "outputs": [
    {
     "data": {
      "image/png": "[encoded data removed]",
      "text/plain": [
       "<Figure size 600x600 with 1 Axes>"
      ]
     },
     "metadata": {
      "needs_background": "light"
     },
     "output_type": "display_data"
    }
   ],
   "source": [
    "plt.figure(figsize=(3,3)) # define figure\n",
    "plt.xlabel('$x$'); plt.ylabel('$f(x)$')\n",
    "xg = np.linspace(a,b,100)\n",
    "plt.plot(xg, np.exp(xg), lw=2., color='indigo')\n",
    "plt.fill_between(xg, np.zeros_like(xg), np.exp(xg), color='indigo', alpha=0.4)\n",
    "plt.fill_between(xir[1:], np.zeros_like(xir[1:]), fxir[:-1], color='purple', alpha=0.5)\n",
    "plt.show()"
   ]
  },
  {
   "cell_type": "markdown",
   "id": "3b1f7ad3",
   "metadata": {
    "slideshow": {
     "slide_type": "skip"
    }
   },
   "source": [
    "We can use a *piecewise-linear* approximation instead, in which subsequence $x_i$ values by a linear function instead of constant.. The approximation of the function is much better. This means that if sum up areas under the trapezoids formed by the vertices at which function is evaluated, we can approximate the integral much better.  This motivates *the trapezoidal* scheme of numerical integration below. "
   ]
  },
  {
   "cell_type": "markdown",
   "id": "25d64bda",
   "metadata": {
    "slideshow": {
     "slide_type": "slide"
    }
   },
   "source": [
    "### <font color='darkblue'>The trapezoidal scheme\n",
    "\n",
    "The logic of the method called *trapezoidal integration scheme*, in which integrated function is approximated in each interval using a linear function, can be used to get reasonably accurate numerical integral estimate and easiest to remember. "
   ]
  },
  {
   "cell_type": "code",
   "execution_count": 15,
   "id": "409f4eb2",
   "metadata": {
    "slideshow": {
     "slide_type": "-"
    }
   },
   "outputs": [
    {
     "data": {
      "image/png": "[encoded data removed]",
      "text/plain": [
       "<Figure size 600x600 with 1 Axes>"
      ]
     },
     "metadata": {
      "needs_background": "light"
     },
     "output_type": "display_data"
    }
   ],
   "source": [
    "\n",
    "plot_prettier()\n",
    "\n",
    "plt.figure(figsize=(3,3))\n",
    "plt.xlabel('$x$'); plt.ylabel('$f(x)$')\n",
    "plt.fill_between(xg, np.zeros_like(xg), np.exp(xg), color='indigo', alpha=0.4)\n",
    "plt.fill_between(xi, np.zeros_like(xi), np.exp(xi), color='purple', alpha=0.5)\n",
    "plt.plot(xg, np.exp(xg), lw=2., color='indigo')\n",
    "plt.plot(xi, np.exp(xi), lw=1., color='m')\n",
    "plt.scatter(xi, np.exp(xi), s=20., color='m')\n",
    "plt.show()"
   ]
  },
  {
   "cell_type": "markdown",
   "id": "9d111a7b",
   "metadata": {
    "slideshow": {
     "slide_type": "skip"
    }
   },
   "source": [
    "Specifically, to evaluate integral of $f(x)$ (area under $f(x)$ for $x\\in[a,b]$):\n",
    "\n",
    "Split the integration interval into $N$ equal-size sub-intervals of size $h=(b-a)/N=x_{i+1}-x_i$. Note that for $N$ intervals, we will need to evaluate the function at $N+1$ points: for example, splitting $[a,b]$ into two sub-intervals requires evaluating the function at three points: $a$, $a+(b-a)/2$, and $b$. \n",
    "\n",
    "For convenience, let's denote $f_i = f(x_i)$, $f_{i+1}=f(x_{i+1})$, etc."
   ]
  },
  {
   "cell_type": "markdown",
   "id": "2b37edb5",
   "metadata": {
    "slideshow": {
     "slide_type": "fragment"
    }
   },
   "source": [
    "Approximate area under $f(x)$ in each interval, $A_i$, of width $h=x_{i+1}-x_i$ can then be approximated by the area $T_i$ of the trapezoid formed by vertices $(x_i, 0)$,  $(x_i, f_i)$, $(x_{i+1}, f_{i+1})$ and $(x_{i+1},0)$:\n",
    "\n",
    "$$T_i = \\frac{1}{2}(f_i + f_{i+1})\\, h.$$"
   ]
  },
  {
   "cell_type": "markdown",
   "id": "361feff1",
   "metadata": {
    "slideshow": {
     "slide_type": "slide"
    }
   },
   "source": [
    "The total area under $f(x)$ in the interval $[a,b]$ using $N$ function values ($N-1$ intervals $\\rightarrow h=(b-a)/(N-1)$) is then:\n",
    "\n",
    "$$A = \\int\\limits_a^b f(x)\\, dx = \\sum\\limits_{i=0}^{N-1} A_i \\approx \\sum\\limits_{i=0}^{N-1} T_i= \\frac{h}{2}\\sum\\limits_{i=0}^{N-1}(f_i + f_{i+1}),$$\n",
    "$$ = h\\left[\\frac{1}{2}(f_0 + f_{N-1}) + \\sum\\limits_{i=1}^{N-2}f_i,\\right]$$\n",
    "\n",
    "\n",
    "Compare to the previous estimate: \n",
    "\n",
    "\n",
    "$$\\int_a^b f(x) dx\\approx \\bar{f}(b-a)=\\frac{(b-a)}{N}\\,\\sum\\limits_{i=0}^{N-1}f_i = \\frac{(b-a)}{N}\\,\\sum\\limits_{i=0}^{N-1}f_i.$$\n"
   ]
  },
  {
   "cell_type": "markdown",
   "id": "3ec2e019",
   "metadata": {
    "slideshow": {
     "slide_type": "skip"
    }
   },
   "source": [
    "Let's check integration with an integral for which we know exact value: for example\n",
    "\n",
    "$$\\int\\limits _0^{1}e^x\\,dx = e-1 $$"
   ]
  },
  {
   "cell_type": "code",
   "execution_count": 9,
   "id": "9fc9aa18",
   "metadata": {
    "slideshow": {
     "slide_type": "skip"
    }
   },
   "outputs": [],
   "source": [
    "def trapzd(func, a, b, nsteps, *args):\n",
    "    \"\"\"\n",
    "    function implementing trapezoidal integration scheme using\n",
    "    numpy vector operations\n",
    "    \n",
    "    Parameters:\n",
    "    -----------------------------------------------------------\n",
    "    func: python function object\n",
    "          function to integrate, must take numpy arrays as input\n",
    "    a, b: floats\n",
    "          limits of the integral\n",
    "    hstep: float - the size of step to use \n",
    "    \n",
    "    args: parameters to be passed for func, if any \n",
    "    \n",
    "    Returns:\n",
    "    -------------------------------------------------------------\n",
    "    value of the estimated int^b_a f(x)dx\n",
    "    \"\"\"\n",
    "    assert(nsteps > 0); assert(a < b)\n",
    "    \n",
    "    hstep = (b - a) / nsteps\n",
    "      \n",
    "    if nsteps == 1:\n",
    "        return 0.5*(func(a, *args) + func(b, *args)) * hstep\n",
    "    else: \n",
    "        xd = a + np.arange(1,nsteps) * hstep # np.arange creates a vector of values from 0 to nstep-1\n",
    "        return (0.5*(func(a, *args) + func(b, *args)) + np.sum(func(xd, *args))) * hstep"
   ]
  },
  {
   "cell_type": "code",
   "execution_count": 146,
   "id": "2a79643b",
   "metadata": {
    "slideshow": {
     "slide_type": "skip"
    }
   },
   "outputs": [
    {
     "name": "stdout",
     "output_type": "stream",
     "text": [
      "fractional error = 8.3319e-04\n"
     ]
    }
   ],
   "source": [
    "nsteps = 10\n",
    "\n",
    "a, b, func = 0., 1., np.exp # approximate integral of sin(x) over [0, pi]\n",
    "hstep = (b - a) / nsteps\n",
    "\n",
    "# create a grid of evenly spaced x values \n",
    "xd = a + np.arange(1,nsteps) * hstep # np.arange creates a vector of values from 0 to nstep-1\n",
    "# this line computes the integral using trapezoidal integration \n",
    "integral = (0.5*(func(a) + func(b)) + np.sum(func(xd))) * hstep\n",
    "\n",
    "# compute exact integral and fractional error\n",
    "fexact = np.exp(b) - np.exp(a)\n",
    "ferr = integral/fexact - 1. # fractional error \n",
    "print('fractional error = {:.4e}'.format(ferr))"
   ]
  },
  {
   "cell_type": "code",
   "execution_count": 16,
   "id": "602ab6db",
   "metadata": {
    "slideshow": {
     "slide_type": "slide"
    }
   },
   "outputs": [],
   "source": [
    "def trapzd(func, a, b, nsteps, *args):\n",
    "    assert(nsteps > 0); assert(a < b)\n",
    "    \n",
    "    hstep = (b - a) / nsteps\n",
    "      \n",
    "    if nsteps == 1:\n",
    "        return 0.5*(func(a, *args) + func(b, *args)) * hstep\n",
    "    else: \n",
    "        xd = a + np.arange(1,nsteps) * hstep # np.arange creates a vector of values from 1 to nstep-1\n",
    "        return (0.5*(func(a, *args) + func(b, *args)) + np.sum(func(xd, *args))) * hstep"
   ]
  },
  {
   "cell_type": "markdown",
   "id": "cd12cd09",
   "metadata": {
    "slideshow": {
     "slide_type": "skip"
    }
   },
   "source": [
    "It is convenient to put this calculation into function that can be used to take integral of any input function. "
   ]
  },
  {
   "cell_type": "markdown",
   "id": "f3e615d6",
   "metadata": {
    "slideshow": {
     "slide_type": "skip"
    }
   },
   "source": [
    "$\\star$ in <tt>$^\\star$args</tt> indicates that what is passed is a *pointer* to memory location of the start of args, not the values of args elements themselves. The trapzd routine simply passes *args to function, which then interprets the content as the input parameters it expects. We don't have to pass anything to <tt>trapzd</tt> as args if function does not require any parameters, but only takes one input - variable on which it depends."
   ]
  },
  {
   "cell_type": "markdown",
   "id": "7a967632",
   "metadata": {
    "slideshow": {
     "slide_type": "slide"
    }
   },
   "source": [
    "### <font color='darkblue'>accuracy and order of the trapezoidal integration scheme\n"
   ]
  },
  {
   "cell_type": "code",
   "execution_count": 30,
   "id": "545d795e",
   "metadata": {
    "slideshow": {
     "slide_type": "-"
    }
   },
   "outputs": [
    {
     "name": "stdout",
     "output_type": "stream",
     "text": [
      "fractional error = 8.3333e-08\n"
     ]
    }
   ],
   "source": [
    "# integrate exp(x) from a, b - exact integral = exp(b) - exp(a)\n",
    "a = 0.; b = 1.\n",
    "nsteps = 1000\n",
    "\n",
    "trint = trapzd(np.exp, a, b, nsteps)\n",
    "\n",
    "fexact = np.exp(b) - np.exp(a)\n",
    "ferr = np.abs(trint/fexact - 1.) # fractional error \n",
    "print('fractional error = {:.4e}'.format(ferr))"
   ]
  },
  {
   "cell_type": "markdown",
   "id": "ff45ee85",
   "metadata": {
    "slideshow": {
     "slide_type": "slide"
    }
   },
   "source": [
    "### <font color='darkblue'>Truncation error of the composite trapezoidal integration \n",
    "\n",
    "If we now combine the individual areas into total integral (note that $f_0=f(a)$, $f_N=f(b)$, etc.:\n",
    "\n",
    "$$A = \\int\\limits_a^b f(x)dx = \\sum\\limits_{i=0}^{N-1} A_i = \\frac{h}{2}\\left[f(a)+f(b)\\right] + h\\sum\\limits_{i=1}^{N-1}f_i + \\frac{h^2}{12}\\,\\left[f^{\\prime}(a)-f^{\\prime}(b)\\right] -  \\frac{h^4}{720}\\,\\left[f^{\\prime\\prime\\prime}(a)-f^{\\prime\\prime\\prime}(b)\\right]+\\mathcal{O}(h^6).\n",
    "$$\n",
    "\n",
    "or $A = T(h) +{\\rm truncation\\ error\\ terms\\ of\\ the\\ trapezoidal\\ scheme}$. "
   ]
  },
  {
   "cell_type": "markdown",
   "id": "8c975b8a",
   "metadata": {
    "slideshow": {
     "slide_type": "slide"
    }
   },
   "source": [
    "### <font color='darkblue'>Practical applications and examples\n",
    "\n",
    "Let's use it to compute something useful like integral of the following function: \n",
    "\n",
    "$$d_c =(1+z)\\int\\limits_0^z \\frac{dx}{E(x)}.$$\n",
    "\n",
    "where $E(x)=\\sqrt{a(1+x)^3+b(1+x)^2+c}$, where $a$, $b$, $c$ are constants. Specific case: $b=1-a-c$.\n"
   ]
  },
  {
   "cell_type": "code",
   "execution_count": 31,
   "id": "81e278da",
   "metadata": {
    "slideshow": {
     "slide_type": "fragment"
    }
   },
   "outputs": [],
   "source": [
    "def dl_func(x, a, b, c):\n",
    "    return 1.0 / np.sqrt(a*(1.+x)**3 + b*(1.+x)**2 + c)"
   ]
  },
  {
   "cell_type": "code",
   "execution_count": 45,
   "id": "ab7bfa83",
   "metadata": {
    "slideshow": {
     "slide_type": "slide"
    }
   },
   "outputs": [
    {
     "name": "stdout",
     "output_type": "stream",
     "text": [
      "27.263107916590887\n"
     ]
    }
   ],
   "source": [
    "a, b, c = 0.3, 0., 0.7\n",
    "args = [a, b, c]\n",
    "\n",
    "z = 11.09\n",
    "nsteps = 10000\n",
    "d_c = (1+z) * trapzd(dl_func, 0., z, nsteps, *args)\n",
    "print(d_c)"
   ]
  },
  {
   "cell_type": "markdown",
   "id": "5e73b403",
   "metadata": {
    "slideshow": {
     "slide_type": "skip"
    }
   },
   "source": [
    "Why is this useful? Because if I multiply this number by the speed of light in units of km/s and divide by what's known as the *Hubble constant* in units of km/s/Mpc, $H_0=70$ km/s/Mpc I will get distance $d_L$ to <a href=\"https://en.wikipedia.org/wiki/List_of_the_most_distant_astronomical_objects\">the most distant known galaxy</a> in Megaparsecs (Mpc is short for megaparsec). "
   ]
  },
  {
   "cell_type": "code",
   "execution_count": 46,
   "id": "da5a541c",
   "metadata": {
    "slideshow": {
     "slide_type": "fragment"
    }
   },
   "outputs": [
    {
     "name": "stdout",
     "output_type": "stream",
     "text": [
      "distance to galaxy at redshift 11.09 is 116761.06 Mpc\n"
     ]
    }
   ],
   "source": [
    "clight = 2.99792458e5 # speed of light in km/s\n",
    "H0 = 70 # Hubble constant in km/s/Mpc\n",
    "d_l = d_c * clight / H0\n",
    "\n",
    "print(f'distance to galaxy at redshift {z:.2f} is {d_l:.2f} Mpc')"
   ]
  },
  {
   "cell_type": "markdown",
   "id": "d0d6d3b6",
   "metadata": {
    "slideshow": {
     "slide_type": "skip"
    }
   },
   "source": [
    "One Megaparsec is million parsecs. One parsec is the distance light travels in about $\\approx 3.24$ years and is the amount by which apparent position of a star changes when the Earth moves around the Sun in 6 months time due to change of the location from which we view it.  "
   ]
  },
  {
   "cell_type": "markdown",
   "id": "85e88604",
   "metadata": {
    "slideshow": {
     "slide_type": "skip"
    }
   },
   "source": [
    "How can we check this calculation if we don't know the exact answer?  We can compare to the calculation by a similar function implemented by someone we'd trust. \n",
    "\n",
    "<a href=\"https://www.astropy.org/\">Astropy</a> package has a <a href=\"https://docs.astropy.org/en/stable/_modules/astropy/cosmology/core.html#FLRW\">cosmology sub-package</a>, which has many useful functions, including one that computes distance $d_L$."
   ]
  },
  {
   "cell_type": "code",
   "execution_count": 47,
   "id": "fd85e3b7",
   "metadata": {
    "slideshow": {
     "slide_type": "slide"
    }
   },
   "outputs": [],
   "source": [
    "from astropy.cosmology import LambdaCDM\n",
    "import astropy.units as u\n",
    "\n",
    "def d_l_astropy(z, H0, Om0, OmL):\n",
    "    cosmo = LambdaCDM(H0=H0, Om0=Om0, Ode0=OmL)\n",
    "    return cosmo.luminosity_distance(z=z) / u.Mpc"
   ]
  },
  {
   "cell_type": "code",
   "execution_count": 49,
   "id": "2a3c46be",
   "metadata": {
    "slideshow": {
     "slide_type": "fragment"
    }
   },
   "outputs": [
    {
     "name": "stdout",
     "output_type": "stream",
     "text": [
      "distance_trapezoidal = 116761.05907 Mpc; distance_astropy = 116761.05671 Mpc\n"
     ]
    }
   ],
   "source": [
    "Om0 = 0.3; OmL = 0.7; H0 = 70.\n",
    "\n",
    "d_la = d_l_astropy(z, H0, Om0, OmL)\n",
    "print('distance_trapezoidal = {:.5f} Mpc; distance_astropy = {:.5f} Mpc'.format(d_l, d_la))"
   ]
  },
  {
   "cell_type": "markdown",
   "id": "7ec173f9",
   "metadata": {
    "slideshow": {
     "slide_type": "skip"
    }
   },
   "source": [
    "Results are close but not identical. Let's recompute integral using more trapezoidal intervals. "
   ]
  },
  {
   "cell_type": "code",
   "execution_count": 274,
   "id": "130d751f",
   "metadata": {
    "slideshow": {
     "slide_type": "fragment"
    }
   },
   "outputs": [
    {
     "name": "stdout",
     "output_type": "stream",
     "text": [
      "distance_trapezoidal = 116761.29 Mpc; distance_astropy = 116761.06 Mpc\n"
     ]
    }
   ],
   "source": [
    "nsteps = 1000\n",
    "args = [Om0, 1.-Om0-OmL, OmL]\n",
    "d_c = (1+z) * trapzd(dl_func, 0., z, nsteps, *args)\n",
    "d_l = d_c * clight / H0\n",
    "print('distance_trapezoidal = {:.2f} Mpc; distance_astropy = {:.2f} Mpc'.format(d_l, d_la))"
   ]
  },
  {
   "cell_type": "markdown",
   "id": "d18afc78",
   "metadata": {
    "slideshow": {
     "slide_type": "skip"
    }
   },
   "source": [
    "Now trapezoidal result matches astropy's function. "
   ]
  },
  {
   "cell_type": "markdown",
   "id": "3a10cdee",
   "metadata": {
    "slideshow": {
     "slide_type": "slide"
    }
   },
   "source": [
    "### <font color='darkblue'>Distance modulus of supernovae type Ia stars vs the shift of their spectral lines (redshift)\n",
    "\n",
    "Comparison of models to data shown in this plot  from <a href=\"https://ui.adsabs.harvard.edu/abs/2012ApJ...746...85S/abstract\">Suzuki et al. 2012</a>, which uses many observational samples of <a href=\"https://en.wikipedia.org/wiki/Type_Ia_supernova\">type Ia supernovae</a>, allows us to learn about the contents of our Universe.\n",
    "\n",
    "<br>\n",
    "<center><img width=800 src=\"https://astro.uchicago.edu/~andrey/classes/a211/img/suzuki_etal12_hubble_diagram.png\"></img></center>"
   ]
  },
  {
   "cell_type": "markdown",
   "id": "1b7819fc",
   "metadata": {
    "slideshow": {
     "slide_type": "slide"
    }
   },
   "source": [
    "### <font color='darkblue'>The distance modulus\n",
    "\n",
    "The *distance modulus* - the difference of the observed *apparent magnitude* $m$ and *absolute magnitude* $M$ is a function of distance $d_L$ to the object (see <a href=\"https://drive.google.com/file/d/15xe3tfourEjM0xFhzJhLDxobnOwl34pA/view?usp=sharing\">03b_cosmological_distances</a> notebook): \n",
    "\n",
    "$$\\mu = m - M = 5\\log_{10}d_L + 25.$$\n",
    "\n",
    "where $d_L$ is in Megaparsecs. Let's assume SN Ia are approximate \"standard candles so that they all have the same $M\\approx\\rm const$. \n",
    "    \n",
    "Now we can compute $d_L$ for theoretical model with a given values of its parameters $\\Omega_0$, $\\Omega_\\Lambda$  and compare it to observed $\\mu_{\\rm SNIa}=m-\\rm const$ of supernovae type Ia, as a function of spectral redshift $z$. "
   ]
  },
  {
   "cell_type": "markdown",
   "id": "26eb4f89",
   "metadata": {
    "slideshow": {
     "slide_type": "slide"
    }
   },
   "source": [
    "### Supernovae type Ia sample\n",
    "\n",
    "The data set is from the study of <a href=\"https://ui.adsabs.harvard.edu/abs/2014A%26A...568A..22B/abstract\">Betoule et al. (2014)</a> and can also be downloaded <a href=\"http://supernovae.in2p3.fr/sdss_snls_jla/ReadMe.html\">here</a>."
   ]
  },
  {
   "cell_type": "code",
   "execution_count": 149,
   "id": "f4751a86",
   "metadata": {
    "slideshow": {
     "slide_type": "skip"
    }
   },
   "outputs": [],
   "source": [
    "def read_jla_data(sn_list_name = None):\n",
    "    \"\"\"\n",
    "    read in table with the JLA supernova type Ia sample\n",
    "    \n",
    "    Parameters\n",
    "    ----------\n",
    "    sn_list_name: str\n",
    "        path/file name containing the JLA data table in ASCII format\n",
    "        \n",
    "    Returns\n",
    "    -------\n",
    "    zsn, msn, emsn - numpy float vectors containing \n",
    "                       zsn: SNIa redshifts in the CMB frame\n",
    "                       msn, emsn: apparent B-magnitude and its errors\n",
    "    \"\"\"\n",
    "    zsn, msn, emsn = np.loadtxt(sn_list_name, usecols=(1, 4, 5),  unpack=True)\n",
    "\n",
    "    return zsn, msn, emsn\n"
   ]
  },
  {
   "cell_type": "code",
   "execution_count": 275,
   "id": "6aeeb928",
   "metadata": {
    "slideshow": {
     "slide_type": "-"
    }
   },
   "outputs": [
    {
     "name": "stdout",
     "output_type": "stream",
     "text": [
      "read sample of 740 supernovae...\n"
     ]
    }
   ],
   "source": [
    "# you may need to change slash in the file name below on your system\n",
    "# read vectors of redshifts, apparent magnitude in B-band, mB, and its uncertainty emB:\n",
    "zsn, msn, emsn = read_jla_data(sn_list_name = 'https://astro.uchicago.edu/~andrey/classes/a211/data/jla_lcparams.txt')\n",
    "nsn = np.size(zsn)\n",
    "print(\"read sample of %d supernovae...\"%(nsn))"
   ]
  },
  {
   "cell_type": "code",
   "execution_count": 280,
   "id": "ec1691c8",
   "metadata": {
    "slideshow": {
     "slide_type": "slide"
    }
   },
   "outputs": [],
   "source": [
    "def mu_sn(z, Om0=1.0, OmL=0.0, H0=70, nsteps=1000): \n",
    "    Omk = 1. - Om0 - OmL\n",
    "    # these parameters correspond to mean matter density, mean geometric curvature, and mean \"dark energy\" density\n",
    "    args = [Om0, Omk, OmL] \n",
    "\n",
    "    # compute distance for each z value in the grid\n",
    "    d_lz = np.zeros_like(z)\n",
    "    for i, zd in enumerate(z):\n",
    "        d_lz[i] = clight / H0 * (1+zd) * trapzd(dl_func, 0., zd, nsteps, *args)\n",
    "\n",
    "    # return distance modulus as a function of distance using theoretical expression\n",
    "    return 5.0 * np.log10(d_lz) + 25.0"
   ]
  },
  {
   "cell_type": "markdown",
   "id": "105b9240",
   "metadata": {
    "slideshow": {
     "slide_type": "slide"
    }
   },
   "source": [
    "### Plot model $\\mu=5\\log_{10}d_L(z)+25$ vs observational $\\mu_{\\rm SNIa}$ for type Ia supernovae"
   ]
  },
  {
   "cell_type": "code",
   "execution_count": 282,
   "id": "f4cfd145",
   "metadata": {
    "slideshow": {
     "slide_type": "slide"
    }
   },
   "outputs": [],
   "source": [
    "from codes.plotting import plot_line_points \n",
    "\n",
    "# grid of redshift values \n",
    "zmin, zmax, nz = 0.01, 2, 100\n",
    "z = np.linspace(zmin, zmax, nz)\n",
    "Om0, OmL = 1.0, 0.\n",
    "mu_model = mu_sn(z, Om0=Om0, OmL=OmL) \n",
    "Msn = 0\n",
    "\n",
    "plot_line_points(z, mu_model, \n",
    "                 xlabel=r'$\\rm redshift$', ylabel = r'$\\mu=m-M=\\rm distance\\ modulus$',\n",
    "                 col='orangered', pcol='slateblue',\n",
    "                 xp=zsn, yp=msn-Msn, eyp=emsn, legend=r'${\\rm model}\\ d_L(z,\\Omega_{\\rm m0},\\Omega_\\Lambda)$', \n",
    "                 pmarker='.', psize=0.1, \n",
    "                 plegend=r'$\\rm JLA\\ SNIa\\ data$', points=True, figsize=3)# "
   ]
  },
  {
   "cell_type": "code",
   "execution_count": 204,
   "id": "a5e316b9",
   "metadata": {
    "slideshow": {
     "slide_type": "slide"
    }
   },
   "outputs": [
    {
     "data": {
      "image/png": "[encoded data removed]",
      "text/plain": [
       "<Figure size 600x600 with 1 Axes>"
      ]
     },
     "metadata": {
      "needs_background": "light"
     },
     "output_type": "display_data"
    }
   ],
   "source": [
    "mu_models = mu_sn(zsn, Om0=Om0, OmL=OmL) \n",
    "\n",
    "plot_line_points(zsn, np.zeros_like(zsn), \n",
    "                 xlabel=r'$\\rm redshift$', ylabel = r'$\\mu=m-M=\\rm distance\\ modulus$',\n",
    "                 col='orangered', pcol='slateblue',\n",
    "                 xp=zsn, yp=msn-Msn-mu_models, \n",
    "                 legend=r'${\\rm model}\\ d_L(z,\\Omega_{\\rm m0},\\Omega_\\Lambda)$', \n",
    "                 pmarker='.', psize=0.5,  points=True, figsize=3)"
   ]
  },
  {
   "cell_type": "markdown",
   "id": "792feff4",
   "metadata": {
    "slideshow": {
     "slide_type": "skip"
    }
   },
   "source": [
    "This kind of data and analyses based on calculations of $d_L$ led to discovery that  <a href=\"https://science.nasa.gov/astrophysics/focus-areas/what-is-dark-energy\">dark energy</a> is present in our Universe and drives its accelerated expansion. Three astronomers were awarded Nobel Prize in Physics for this discovery in 2011, although this discovery was made possible by fairly large number of people."
   ]
  },
  {
   "cell_type": "markdown",
   "id": "2986aec0",
   "metadata": {
    "slideshow": {
     "slide_type": "slide"
    }
   },
   "source": [
    "### <font color='darkblue'>Higher order integration schemes?"
   ]
  },
  {
   "cell_type": "code",
   "execution_count": 68,
   "id": "3122baea",
   "metadata": {
    "slideshow": {
     "slide_type": "skip"
    }
   },
   "outputs": [],
   "source": [
    "#the functions below implement the first 3 iterations of Richardson extrapolation \n",
    "\n",
    "def r1(func, a, b, nsteps):\n",
    "    '''\n",
    "    4th order integration scheme based on the trapezoidal schem using Richardson extrapolation\n",
    "    estimates integral of function func over the interval [a,b] using steps of size h=(b-a) / nsteps\n",
    "    '''\n",
    "    return (4*trapzd(func, a, b, 2*nsteps) - trapzd(func, a, b, nsteps)) / 3\n",
    "\n",
    "def r2(func, a, b, nsteps):\n",
    "    '''\n",
    "    6th order integration scheme based on the trapezoidal schem using Richardson extrapolation\n",
    "    estimates integral of function func over the interval [a,b] using steps of size h=(b-a) / nsteps\n",
    "    '''\n",
    "    return (16*r1(func, a, b, 2*nsteps) - r1(func, a, b, nsteps)) / 15\n",
    "\n",
    "def r3(func, a, b, nsteps):\n",
    "    '''\n",
    "    8th order integration scheme based on the trapezoidal schem using Richardson extrapolation\n",
    "    estimates integral of function func over the interval [a,b] using steps of size h=(b-a) / nsteps\n",
    "    '''\n",
    "    return (64*r2(func, a, b, 2*nsteps) - r2(func, a, b, nsteps)) / 63"
   ]
  },
  {
   "cell_type": "code",
   "execution_count": 145,
   "id": "d3a43296",
   "metadata": {
    "slideshow": {
     "slide_type": "-"
    }
   },
   "outputs": [
    {
     "name": "stdout",
     "output_type": "stream",
     "text": [
      "fractional error = 8.3333e-06\n"
     ]
    }
   ],
   "source": [
    "# integrate exp(x) from a, b - exact integral = exp(b) - exp(a)\n",
    "a = 0.; b = 1.\n",
    "nsteps = 100\n",
    "\n",
    "trint = trapzd(np.exp, a, b, nsteps)\n",
    "\n",
    "fexact = np.exp(b) - np.exp(a)\n",
    "ferr = np.abs(trint/fexact - 1.) # fractional error \n",
    "print('fractional error = {:.4e}'.format(ferr))"
   ]
  },
  {
   "cell_type": "markdown",
   "id": "144c8f8b",
   "metadata": {
    "slideshow": {
     "slide_type": "slide"
    }
   },
   "source": [
    "### <font color='darkblue'>Order of the integration schemes\n",
    "\n",
    "First, let's take a look at how the fractional error of integration changes with the number of intervals (and thus step size) that we use. \n",
    "\n",
    "It is convenient to define a \"helper\" function that integrates function <tt>func</tt> using integration function <tt>int_func</tt> over interval $[a,b]$ for $n_s$ different step sizes so we can see how fractional error changes with step size. "
   ]
  },
  {
   "cell_type": "code",
   "execution_count": 137,
   "id": "4f485726",
   "metadata": {
    "slideshow": {
     "slide_type": "fragment"
    }
   },
   "outputs": [],
   "source": [
    "def compute_integral_steps(func, int_func, a, b, ns, *args):\n",
    "    nsteps = np.arange(1,ns) # generate a vector of nstep values from 1 to ns-1\n",
    "    trint = np.zeros(np.shape(nsteps)[0]) # initialize a vector for integration results for each step size\n",
    "\n",
    "    for i, ns in enumerate(nsteps):\n",
    "        trint[i] = int_func(func, a, b, 2**nsteps[i], *args) # compute the integral for each step size\n",
    "     \n",
    "    return trint, np.abs(b-a)/2**nsteps # return vectors of integration results and step sizes"
   ]
  },
  {
   "cell_type": "code",
   "execution_count": 138,
   "id": "5e106f04",
   "metadata": {
    "slideshow": {
     "slide_type": "slide"
    }
   },
   "outputs": [],
   "source": [
    "# integrate exp(x) from a, b - exact integral = exp(b) - exp(a)\n",
    "a = 0.; b = 1.\n",
    "ns = 27\n",
    "\n",
    "trint, hsteps = compute_integral_steps(np.exp, trapzd, a, b, ns)\n",
    "\n",
    "fexact = np.exp(b) - np.exp(a)\n",
    "ferr = np.abs(trint/fexact - 1.) # fractional error "
   ]
  },
  {
   "cell_type": "markdown",
   "id": "b2b5f2ca",
   "metadata": {
    "slideshow": {
     "slide_type": "skip"
    }
   },
   "source": [
    "It takes a few seconds to run for $2^{30}$ intervals, but we are getting integral with fractional accuracy of $\\approx 3\\times 10^{-16}$!\n",
    "\n",
    "Let's plot the fractional error as a function of step size $h$. "
   ]
  },
  {
   "cell_type": "markdown",
   "id": "e812f026",
   "metadata": {
    "slideshow": {
     "slide_type": "skip"
    }
   },
   "source": [
    "Another helper function for generic plots that include a line and (optionally) a set of points."
   ]
  },
  {
   "cell_type": "markdown",
   "id": "c4e39ba8",
   "metadata": {
    "slideshow": {
     "slide_type": "skip"
    }
   },
   "source": [
    "Now let's plot fractional error vs step size $h$. The plot below shows that fractional error increases as square of step size with increasing $h$ (line in the plot shows $\\propto h^2$"
   ]
  },
  {
   "cell_type": "code",
   "execution_count": 140,
   "id": "43236ee8",
   "metadata": {
    "slideshow": {
     "slide_type": "slide"
    }
   },
   "outputs": [
    {
     "data": {
      "image/png": "[encoded data removed]",
      "text/plain": [
       "<Figure size 600x600 with 1 Axes>"
      ]
     },
     "metadata": {
      "needs_background": "light"
     },
     "output_type": "display_data"
    }
   ],
   "source": [
    "from codes.plotting import plot_line_points\n",
    "\n",
    "#model is ferr ~ h^2, we normalize it to the size of error for first step size in the sequence:\n",
    "ferr_model = ferr[0] * (hsteps/hsteps[0])**2\n",
    "\n",
    "plot_line_points(np.log10(hsteps), np.log10(ferr_model), \n",
    "                 xlabel=r'$\\log_{10}\\,h$', ylabel = r'$\\log_{10}\\,\\vert\\rm fractional\\ error\\vert$',\n",
    "                 xp=np.log10(hsteps), yp=np.log10(ferr), points=True, grid=True, psize=25., figsize=3)"
   ]
  },
  {
   "cell_type": "markdown",
   "id": "32dedb3f",
   "metadata": {
    "slideshow": {
     "slide_type": "skip"
    }
   },
   "source": [
    "### <font color='darkblue'>The origin of the \"floor\" in the fractional error at $\\approx 10^{-15}-10^{-16}$"
   ]
  },
  {
   "cell_type": "markdown",
   "id": "3c0a96f9",
   "metadata": {
    "slideshow": {
     "slide_type": "skip"
    }
   },
   "source": [
    "In the plot above we can see that fractional error decreases as $\\propto h^2$, but at the smallest $h$ values it stops decreasing and actually starts to increase. \n",
    "\n",
    "This is because <a href=\"https://en.wikipedia.org/wiki/Double-precision_floating-point_format\">a finite number of bits</a> (64) is used to represent floating point numbers in the <a href=\"https://en.wikipedia.org/wiki/IEEE_754-2008_revision\">IEEE-754</a> standard used in Python and other languages.\n",
    "\n"
   ]
  },
  {
   "cell_type": "code",
   "execution_count": 23,
   "id": "2fbfa759",
   "metadata": {
    "slideshow": {
     "slide_type": "skip"
    }
   },
   "outputs": [
    {
     "name": "stdout",
     "output_type": "stream",
     "text": [
      "sys.float_info(max=1.7976931348623157e+308, max_exp=1024, max_10_exp=308, min=2.2250738585072014e-308, min_exp=-1021, min_10_exp=-307, dig=15, mant_dig=53, epsilon=2.220446049250313e-16, radix=2, rounds=1)\n"
     ]
    }
   ],
   "source": [
    "import sys\n",
    "print(sys.float_info)"
   ]
  },
  {
   "cell_type": "markdown",
   "id": "b7cfb010",
   "metadata": {
    "slideshow": {
     "slide_type": "skip"
    }
   },
   "source": [
    "The spacing between floating numbers around a floating number $x$ will be $\\approx 2\\varepsilon\\vert x\\vert\\approx 2.2\\times 10^{-16}\\vert x\\vert$. \n",
    "\n",
    "*Some floating point numbers can be represented exactly (if they need $\\leq 52$ bits to represent their fraction), while many other need to be* **rounded off.** \n",
    "\n",
    "Calculations with numbers that can be represented exactly are more accurate, but rounded off numbers are generic and cannot be avoided. \n",
    "\n",
    "This limited representable difference is the source of **roundoff errors** in numerical calculations"
   ]
  },
  {
   "cell_type": "markdown",
   "id": "1b927b94",
   "metadata": {
    "slideshow": {
     "slide_type": "skip"
    }
   },
   "source": [
    "We don't have to stop there and can continue this. After $m$ such steps, the new scheme at a step $m+1$ can be formed as \n",
    "$$\n",
    "R_{m+1}(h)=\\frac{4^{m+1} R_{m}(h/2)-R_{m}(h)}{4^{m+1}-1}.\n",
    "$$\n",
    "\n",
    "where $R_0(h)=T(h)$ is the integral estimate using trapezoidal scheme evaluated with step $h$. This trick is called the Romberg integration method. \n",
    "\n",
    "\n",
    "It works by successive cancellation of the leading terms in the truncation errors, as can be seen in the section on Romberg below (optional for undergraduate students). "
   ]
  },
  {
   "cell_type": "markdown",
   "id": "8b9dab67",
   "metadata": {
    "slideshow": {
     "slide_type": "slide"
    }
   },
   "source": [
    "This method was proposed for numerical integration by German-Norwegian mathematical physicist <a href=\"https://en.wikipedia.org/wiki/Werner_Romberg\">Werner Romberg</a> (got his PhD in Munich in 1933 working with Arnold Sommerfeld) in 1955, but became popular in 1960s with the spread of computers.  \n",
    "\n",
    "<center>\n",
    "<img width=300 src=\"https://astro.uchicago.edu/~andrey/classes/a211/img/Werner_Romberg.jpg\"></img>\n",
    "Werner Romberg (1909-2003)\n",
    "</center>"
   ]
  },
  {
   "cell_type": "markdown",
   "id": "aebba892",
   "metadata": {
    "slideshow": {
     "slide_type": "skip"
    }
   },
   "source": [
    "Werner Romberg had an unusual life and career. For political reasons he fled Germany in 1937,\n",
    "first to Ukraine and then to Norway, where in 1938 he joined the University of Oslo. He spent the war years in\n",
    "Sweden and then returned to Norway. In 1949 he joined the Norwegian Institute of Technology in Trondheim. He returned to Germany only in 1968, when he took a Professor position at the University of Heidelberg."
   ]
  },
  {
   "cell_type": "markdown",
   "id": "2f3ce8ff",
   "metadata": {
    "slideshow": {
     "slide_type": "slide"
    }
   },
   "source": [
    "### <font color='darkblue'>How to control accuracy of numerical estimate?\n",
    "    \n",
    "In general, we do not know what the exact value of the integral, to which we could compare as in the test cases above.\n",
    "How can we ensure that we calculate integral or derivative with a given fractional or absolute error?"
   ]
  },
  {
   "cell_type": "markdown",
   "id": "2fe55fc5",
   "metadata": {
    "slideshow": {
     "slide_type": "slide"
    }
   },
   "source": [
    "*  We can choose to use a scheme of a given order and keep decreasing $h$ by say halfing it, and stop when fractional or absolute difference between the two estimates is smaller than desired accuracy. "
   ]
  },
  {
   "cell_type": "markdown",
   "id": "ae9b21cb",
   "metadata": {
    "slideshow": {
     "slide_type": "fragment"
    }
   },
   "source": [
    "* We can choose to keep increasing $m$ until the fractional difference between $R_m$ and $R_{m-1}$ ($\\vert 1-R_{m-1}/R_m\\vert$) becomes smaller than $1/2^{52}$. "
   ]
  },
  {
   "cell_type": "markdown",
   "id": "c846dabb",
   "metadata": {
    "slideshow": {
     "slide_type": "fragment"
    }
   },
   "source": [
    "* We may choose to keep increasing $m$ until the absolute difference between $R_m$ and $R_{m-1}$ is smaller than some threshold ($\\vert R_{m-1}-R_m\\vert<\\rm atol$) or fractional difference is smaller than some threshold ($\\vert 1-R_{m-1}/R_m\\vert<\\rm rtol$). "
   ]
  },
  {
   "cell_type": "markdown",
   "id": "4b3ca903",
   "metadata": {
    "slideshow": {
     "slide_type": "slide"
    }
   },
   "source": [
    "### SciPy's function <a href=\"https://docs.scipy.org/doc/scipy/reference/generated/scipy.integrate.romberg.html\"><tt>scipy.integrate.romberg</tt></a> \n",
    "\n",
    "implements Romberg's integration method. We will use it in calculations armed with the knowledge of what it actually does. You will have an option to implement Romberg integration in hw 4 assignment. "
   ]
  },
  {
   "cell_type": "code",
   "execution_count": 220,
   "id": "01044e6f",
   "metadata": {
    "slideshow": {
     "slide_type": "-"
    }
   },
   "outputs": [
    {
     "name": "stdout",
     "output_type": "stream",
     "text": [
      "frac. error = 1.93179e-14\n"
     ]
    }
   ],
   "source": [
    "from scipy.integrate import romberg\n",
    "\n",
    "a, b = 0., 1.\n",
    "aint = romberg(np.exp, a, b)\n",
    "aexact = np.exp(b) - np.exp(a)\n",
    "ferr = aint/aexact - 1.\n",
    "\n",
    "print(f'frac. error = {ferr:.5e}')"
   ]
  },
  {
   "cell_type": "markdown",
   "id": "3b985dd9",
   "metadata": {
    "slideshow": {
     "slide_type": "slide"
    }
   },
   "source": [
    "### <font color='darkblue'>Homework 2\n",
    "    \n",
    "* Implement a function that carries out integration of an input function and ensures that an integral is computed with a given fractional or absolute accuracy. \n",
    "    \n",
    "    \n",
    "* Use your function to reproduce the plot of $\\mu_{\\rm SNIa}-z$ plot shown in this class. Make sure that the plot has a good size and uses legible, sufficiently large fonts in axes and legend labels, as well as suitable line widths and point size.\n",
    "    \n",
    "    \n",
    "* Extra-credit: implement Romberg integration using recursion"
   ]
  },
  {
   "cell_type": "code",
   "execution_count": 61,
   "id": "e351e2f9",
   "metadata": {},
   "outputs": [],
   "source": [
    "def trapzd(func, a, b, nsteps, *args):\n",
    "    assert(nsteps > 0); assert(a < b)\n",
    "    \n",
    "    hstep = (b - a) / nsteps\n",
    "      \n",
    "    if nsteps == 1:\n",
    "        return 0.5*(func(a, *args) + func(b, *args)) * hstep\n",
    "    else: \n",
    "        xd = a + np.arange(1,nsteps) * hstep # np.arange creates a vector of values from 1 to nstep-1\n",
    "        return (0.5*(func(a, *args) + func(b, *args)) + np.sum(func(xd, *args))) * hstep, hstep, 0., 0."
   ]
  },
  {
   "cell_type": "code",
   "execution_count": 65,
   "id": "851f44b5",
   "metadata": {},
   "outputs": [],
   "source": [
    "#function to integrate\n",
    "def f(x):\n",
    "    return x**2\n",
    "\n",
    "#actual integral value\n",
    "def f_integral(x):\n",
    "    return (1/3)*x**3\n",
    "\n",
    "#integration function\n",
    "def integrate(f,a,b,nsteps,middle=True):\n",
    "\n",
    "    bin_size = (b-a)/nsteps #calculate bin size\n",
    "    bins = np.arange(a,b+bin_size,bin_size) #bin size -> range\n",
    "    f_bins = f(bins) #call f on this range\n",
    "\n",
    "    bar_xs = bins[:-1]+bin_size/2 #So I can plot vs actual curve\n",
    "\n",
    "    #Caculate average height of trapezoid\n",
    "    if middle:\n",
    "        averages = (f_bins[1:] + f_bins[:-1])/2\n",
    "    else:\n",
    "        averages = f_bins[:-1]\n",
    "\n",
    "    return np.sum(averages*bin_size),bin_size,bar_xs,averages #return calculate value,bin size used,and values for plots\n",
    "\n",
    "def integrate_new(f,a,b,nsteps,middle=True):\n",
    "\n",
    "    bin_size = (b-a)/nsteps #calculate bin size\n",
    "    xg = np.linspace(a, b, nsteps)\n",
    "    return np.average(f(xg))*(b-a),bin_size,bar_xs,averages #return calculate value,bin size used,and values for plots\n",
    "\n",
    "\n",
    "def get_error(integral_func,f,f_integral,a,b,start=10,end=1000,step=10):\n",
    "\n",
    "    '''\n",
    "    Is there a way to do something like this in numpy without a loop?\n",
    "    i.e. call a function with one of the inputs as an array and then get an array of results?\n",
    "    '''\n",
    "\n",
    "    expected = f_integral(b)-f_integral(a) #calculated actual value\n",
    "    steps = np.arange(start,end,step) #create a range for steps\n",
    "    ferr = [] #save ferr\n",
    "    bins = [] #save bins\n",
    "    for s in steps:\n",
    "        calculated,bin_size,_,_ = integral_func(f,a,b,s) #call the integrate function\n",
    "        bins.append(bin_size)\n",
    "        ferr.append(np.abs(calculated/expected - 1.))\n",
    "    return steps,np.array(ferr),bins"
   ]
  },
  {
   "cell_type": "code",
   "execution_count": 52,
   "id": "338465fa",
   "metadata": {},
   "outputs": [
    {
     "data": {
      "image/png": "[encoded data removed]",
      "text/plain": [
       "<Figure size 1200x800 with 1 Axes>"
      ]
     },
     "metadata": {
      "needs_background": "light"
     },
     "output_type": "display_data"
    }
   ],
   "source": [
    "a,b = 0,100\n",
    "steps = 100\n",
    "xs = np.arange(a,b+1)\n",
    "expected = f_integral(b)-f_integral(a)\n",
    "_,bin_size,bar_xs,averages = integrate(f,a,b,steps)\n",
    "plt.bar(bar_xs,averages,width=bin_size,color=\"red\",zorder=0)\n",
    "plt.plot(xs,f(xs),label=\"curve\",zorder=1)\n",
    "plt.title(\"Bins: \" + str(steps))\n",
    "plt.show()\n"
   ]
  },
  {
   "cell_type": "code",
   "execution_count": 67,
   "id": "40b4f68b",
   "metadata": {
    "scrolled": false
   },
   "outputs": [
    {
     "data": {
      "image/png": "[encoded data removed]",
      "text/plain": [
       "<Figure size 1200x800 with 1 Axes>"
      ]
     },
     "metadata": {
      "needs_background": "light"
     },
     "output_type": "display_data"
    }
   ],
   "source": [
    "steps,ferr,bins = get_error(integral_func=integrate_new,\n",
    "                            f=f,\n",
    "                            f_integral=f_integral,\n",
    "                            a=0.,\n",
    "                            b=100., step=1)\n",
    "\n",
    "\n",
    "#for i, fd in enumerate(ferr):\n",
    "#    print(f'step = {steps[i]:d}     ferr = {fd:.4e}')\n",
    "\n",
    "plt.yscale('log')\n",
    "plt.plot(bins,ferr)\n",
    "plt.xscale('log')\n",
    "plt.xlabel(\"Trap width\")\n",
    "plt.ylabel(\"ferr\")\n",
    "plt.gca().invert_xaxis()\n",
    "plt.show()\n"
   ]
  },
  {
   "cell_type": "code",
   "execution_count": 59,
   "id": "7774d96f",
   "metadata": {},
   "outputs": [
    {
     "data": {
      "text/plain": [
       "3.5714285714285716"
      ]
     },
     "execution_count": 59,
     "metadata": {},
     "output_type": "execute_result"
    }
   ],
   "source": [
    "100/28"
   ]
  },
  {
   "cell_type": "code",
   "execution_count": null,
   "id": "a5282cf2",
   "metadata": {},
   "outputs": [],
   "source": []
  }
 ],
 "metadata": {
  "celltoolbar": "Slideshow",
  "kernelspec": {
   "display_name": "Python 3 (ipykernel)",
   "language": "python",
   "name": "python3"
  },
  "language_info": {
   "codemirror_mode": {
    "name": "ipython",
    "version": 3
   },
   "file_extension": ".py",
   "mimetype": "text/x-python",
   "name": "python",
   "nbconvert_exporter": "python",
   "pygments_lexer": "ipython3",
   "version": "3.9.7"
  }
 },
 "nbformat": 4,
 "nbformat_minor": 5
}
