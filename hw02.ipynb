{
 "cells": [
  {
   "cell_type": "markdown",
   "id": "5c784ad9",
   "metadata": {
    "id": "lgTo8qRPumw6"
   },
   "source": [
    "## <font color='darkblue'> ASTR 21100/31200\n",
    "\n",
    "## <font color='darkblue'> Homework Assignment 2\n",
    "    \n",
    " \n",
    "## <font color='darkblue'> undergraduate students (30 points + 10 extra-credit)\n",
    "   \n",
    "### <font color='darkblue'> Distributed: Thursday, April 7\n",
    "\n",
    "### <font color='darkblue'> Due: Wednesday, Apr 13, 10pm"
   ]
  },
  {
   "cell_type": "code",
   "execution_count": 26,
   "id": "bef94796",
   "metadata": {
    "id": "sWslcJJXumxC"
   },
   "outputs": [],
   "source": [
    "import numpy as np \n",
    "\n",
    "# use jupyter \"magic\" command to tell it to embed plot into the notebook \n",
    "import matplotlib.pyplot as plt\n",
    "%matplotlib inline\n",
    "\n",
    "# the following commands make plots look better\n",
    "def plot_prettier(dpi=200, fontsize=10): \n",
    "    plt.rcParams['figure.dpi']= dpi\n",
    "    plt.rc(\"savefig\", dpi=dpi)\n",
    "    plt.rc('font', size=fontsize)\n",
    "    plt.rc('xtick', direction='in') \n",
    "    plt.rc('ytick', direction='in')\n",
    "    plt.rc('xtick.major', pad=5) \n",
    "    plt.rc('xtick.minor', pad=5)\n",
    "    plt.rc('ytick.major', pad=5) \n",
    "    plt.rc('ytick.minor', pad=5)\n",
    "    plt.rc('lines', dotted_pattern = [2., 2.])\n",
    "    # if you don't have LaTeX installed on your laptop and this statement \n",
    "    # generates error, comment it out\n",
    "    plt.rc('text', usetex=True)\n",
    "    \n",
    "plot_prettier()"
   ]
  },
  {
   "cell_type": "markdown",
   "id": "8f2dac03",
   "metadata": {
    "id": "hMAcyk51umxQ"
   },
   "source": [
    "**Undergraduate students:** You can choose to do extra-credit exercise 4 instead of 1 for 10 extra-points. That exercise, requires implementation of the Romberg integration scheme using recursion of function calls. \n",
    "\n",
    "**Graduate students:** You should do exercise 4 instead of 1, as a default. \n",
    "\n",
    "---------------------------------------------------------------------------------------------------------\n",
    "## <font color='darkblue'>Exercise 1 (15 points): implementing numerical integration with error control\n",
    "\n",
    "Use examples provided in the <tt><a href=\"https://drive.google.com/file/d/1GYZ-plSXdInEGL4q_aNClTlH07A3GxtH/view?usp=sharing\">04_integration_class</a></tt> notebook to implement a function that can numerically estimate integral for an input function over an interval $[a,b]$. The estimate must employ one or a combination of the approaches to ensure that the estimate returned by the function has fractional error smaller than the specified ``threshold'' (aka tolerance). A possible format of the function is outlined below. (10 points)\n",
    "    \n",
    "Test your function by computing $$\\int_0^1 e^x dx$$ and computing fractional error of the numerical relative to exact value ($=e-1$) and show that the fractional error of the estimate is smaller than the specified threshold, for several values of the threshold (e.g., 1e-6, 1e-8, 1e-10). Compare results to SciPy's function <a href=\"https://docs.scipy.org/doc/scipy/reference/generated/scipy.integrate.romberg.html\"><tt>scipy.integrate.romberg</tt></a> for the same values of the tolerance thresholds, as shown in the example below. \n",
    "\n",
    "Consider using functions <tt>trapzd</tt> and the <tt>r1</tt>, <tt>r2</tt>, <tt>r3</tt> that can be found  in the <tt><a href=\"https://drive.google.com/file/d/1GYZ-plSXdInEGL4q_aNClTlH07A3GxtH/view?usp=sharing\">04_integration_class</a></tt> notebook. The latter functions use <tt>trapzd</tt> as the base for the Richardson extrapolation to obtain the 4th, 6th, and 8th order integration schemes. \n",
    "    \n",
    "    \n",
    "    def integrate(func, a, b, *args, rtol=1e-6):\n",
    "        '''\n",
    "        function computing numerical estimate of the integral of function func over the interval [a,b] \n",
    "        the integral estimate is guaranteed to be in the range [2e-16, rtol] \n",
    "\n",
    "        Parameters:\n",
    "        -----------------------------------------------------------\n",
    "        func: python function object\n",
    "              function to integrate, must take numpy arrays as input\n",
    "        a, b: floats\n",
    "              limits of the integral\n",
    "        rtol: float - the fractional error tolerance threshold\n",
    "\n",
    "        args: pointer to a list of parameters to be passed for func, if any \n",
    "\n",
    "        Returns:\n",
    "        -------------------------------------------------------------\n",
    "        value of the estimated int^b_a f(x)dx, estimate of the fractional and absolute error\n",
    "        '''"
   ]
  },
  {
   "cell_type": "markdown",
   "id": "bb7889c6",
   "metadata": {
    "id": "Y7oRuMRMumxR"
   },
   "source": [
    "#### <font color='darkblue'>Note: estimating absolute and relative errors of the integral estimate\n",
    "\n",
    "As outlined in <tt><a href=\"https://drive.google.com/file/d/1GYZ-plSXdInEGL4q_aNClTlH07A3GxtH/view?usp=sharing\">04_integration_class</a></tt>, if we only use a given estimator, such as trapezoidal scheme, we can view difference between integral estimates using step sizes $h$ and $h/2$ as an approximation of the integral error. If we use 2 estimators of different order, we can consider the difference between estimates using schemes for a given $h$ value as an approximation for the error, because one of the estimates is expected to be much more accurate (so is an approximation for the true value of the integral). \n",
    "\n",
    "For example, the absolute error of a trapezoidal estimate with step size $h=(b-a)/N$ can be estimated as \n",
    "$\\epsilon_{\\rm abs}=\\vert R_1(h)-T(h)\\vert$\n",
    "and fractional error as $\\epsilon_{\\rm r}=\\vert1- T(h)/R_1(h)\\vert$, where $R_1(h)$ is an estimator obtained by the first iteration of Richardson extrapolation (implemented in the function <tt>r1</tt>). Note that for the fractional error, we should guard against the cases when $R_1(h)=0$. "
   ]
  },
  {
   "cell_type": "markdown",
   "id": "7d8cb649",
   "metadata": {},
   "source": [
    "#### <font color='darkblue'>Example of using scipy.integrate.romberg\n"
   ]
  },
  {
   "cell_type": "code",
   "execution_count": 27,
   "id": "19478316",
   "metadata": {},
   "outputs": [
    {
     "name": "stdout",
     "output_type": "stream",
     "text": [
      "for tol = 1.00e-02   frac. error = 5.00189e-07\n",
      "for tol = 1.00e-04   frac. error = 1.95245e-10\n",
      "for tol = 1.00e-06   frac. error = 1.95245e-10\n",
      "for tol = 1.00e-08   frac. error = 1.93179e-14\n",
      "for tol = 1.00e-10   frac. error = 1.93179e-14\n"
     ]
    }
   ],
   "source": [
    "from scipy.integrate import romberg\n",
    "\n",
    "a, b = 0, 1\n",
    "for tol in [1.e-2, 1e-4, 1e-6, 1e-8, 1e-10]: \n",
    "    ei  = romberg(np.exp, a, b, tol=tol) # tol is fractional error threshold\n",
    "    fracerr = ei/(np.exp(b)-np.exp(a)) - 1.0\n",
    "    print(f'for tol = {tol:.2e}   frac. error = {fracerr:.5e}')"
   ]
  },
  {
   "cell_type": "markdown",
   "id": "27428033",
   "metadata": {},
   "source": [
    "## <font color='darkblue'>Exercise 2 (10 points): implementing and testing a function to compute luminosity distance $d_L$"
   ]
  },
  {
   "cell_type": "markdown",
   "id": "dab02e94",
   "metadata": {
    "id": "KpirwajAumxR"
   },
   "source": [
    "\n",
    "**2a (7 points).** Use the function you implemented in exercise 1 to implement a function to compute cosmological distance $d_L$ for a range of redshift values $z$ (for example, $z\\in[0,3]$. Expressions for $d_L$ for different values of $\\Omega_{\\rm m0}$ and $\\Omega_\\Lambda$ are provided below. \n",
    "\n",
    "\n",
    "    def d_L(z, rtol=1.e-6, H0=70.0, Om0=0.3, OmL=0.7):\n",
    "        '''\n",
    "        Estimate luminosity distance for an object with redshift z and values of cosmological parameters, H0, Om0, OmL\n",
    "        \n",
    "        Parameters:\n",
    "        -----------\n",
    "        z - float(s), a single redshift or a list/numpy array redshift values\n",
    "        rtol - fractional error tolerance to be passed to integrate function to ensure that fractional error of the\n",
    "               estimate is smaller than rtol (for rtol>2e-16)\n",
    "               \n",
    "        H0  - float, keyword parameter holding default value of the Hubble constant in km/s/Mpc\n",
    "        Om0 - float, keyword parameter holding default value of the dimensionless mean matter density in the universe \n",
    "              (density in units of the critical density value). Default value is 0.3, reasonable range is [0,2]\n",
    "        OmL - float, keyword parameter holding default value of the dimensionless dark energy density in the universe \n",
    "              (density in units of the critical density value). Default value is 0.7.\n",
    "        \n",
    "        Returns:\n",
    "        --------\n",
    "        d_L - float(s), a single estimate of d_L in Megaparsecs for a single or a vector d_L for input vector z\n",
    "        '''\n",
    "\n",
    "***Note*** that there are two parts here: implementation (2a) and testing (2b). \n",
    "\n",
    "***Note:*** If you did not manage to get the integration function working in exercise 1, you can use SciPy's function <a href=\"https://docs.scipy.org/doc/scipy/reference/generated/scipy.integrate.romberg.html\"><tt>scipy.integrate.romberg</tt></a>, as shown above, here to compute $d_L$. \n"
   ]
  },
  {
   "cell_type": "markdown",
   "id": "4f540957",
   "metadata": {
    "id": "zPPMqPL0cStz"
   },
   "source": [
    "#### Mathematical expressions for $d_L$ \n",
    "\n",
    "Below are mathematical expressions for the distance of an object observed with spectral redshift $z$ assuming cosmological parameters: $H_0$ (Hubble constant), $\\Omega_{\\rm 0}$ (dimensionless mean matter density), $\\Omega_\\Lambda$ (dimensionless mean density of dark energy). \n",
    "    \n",
    "\n",
    "#### $d_L$ for  models with $\\Omega_\\Lambda= 0$ \n",
    "For the models with $\\Omega_\\Lambda=0$ the integral above does have mathematical solution in \"closed form\" (an equation can be written out for the integral) which gives the following expression:\n",
    "    \n",
    "$$d_L = \\frac{c}{H_0}\\, z\\left[1 + \\frac{(1-q_0)z}{1+q_0z+\\sqrt{1+2q_0z}}\\right],$$\n",
    "\n",
    "where $q_0=\\Omega_{\\rm m0}/2$ is the *deceleration parameter* and $\\Omega_{\\rm m0}$ is the mean density of *matter* in the universe.\n",
    "\n",
    "#### $d_L$ for general models with $\\Omega_\\Lambda\\ne 0$ \n",
    "\n",
    "Denoting the integral we need to estimate as \n",
    "$$d_c =\\int\\limits_0^z \\frac{dx}{E(x)}.$$\n",
    "    \n",
    "where $E(x)=\\sqrt{\\Omega_{\\rm m0}(1+x)^3+\\Omega_k(1+x)^2+\\Omega_\\Lambda}.$\n",
    "\n",
    "expression for $d_L$ for general models with $\\Omega_\\Lambda\\ne 0$: \n",
    "\n",
    "$$\n",
    "d_L(z, H_0,\\Omega_{\\rm m0},\\Omega_\\Lambda) = \\frac{c}{H_0}\\,(1+z)\\,\\left\\{\n",
    "\\begin{array}{ll}\n",
    "\\frac{1}{\\sqrt{\\Omega_k}}\\,\\sinh\\left[\\sqrt{\\Omega_k}\\,d_{\\rm c}\\right] & {\\rm for}~\\Omega_k>0 \\\\\n",
    "d_{\\rm c} & {\\rm for}~\\Omega_k=0 \\\\\n",
    "\\frac{1}{\\sqrt{|\\Omega_k|}}\\,\\sin\\left[\\sqrt{|\\Omega_k|}\\,d_{\\rm c}\\right] & {\\rm for}~\\Omega_k<0\n",
    "\\end{array}\n",
    "\\right.\n",
    "$$\n",
    "\n",
    "where $\\Omega_k = 1-\\Omega_{\\rm m0} - \\Omega_\\Lambda$, $c=2.99792458\\times 10^5$ km/s is speed of light in km/s, $H_0$ is the Hubble constant in km/s/Mpc (current observations indicate that $H_0$ is close to $70$ km/s although values between 65 and 74 are possible. \n"
   ]
  },
  {
   "cell_type": "markdown",
   "id": "8d911da0",
   "metadata": {},
   "source": [
    "Here are numpy functions that can be used to compute mathematical functions involved: absolute value <tt><a href=\"https://numpy.org/doc/stable/reference/generated/numpy.absolute.html\">np.abs</a></tt> (this is shorthand for np.absolute), hyperbolic sine <tt><a href=\"https://numpy.org/doc/stable/reference/generated/numpy.sinh.html\">np.sinh</a></tt>, sine <tt><a href=\"https://numpy.org/doc/stable/reference/generated/numpy.sin.html\">np.sin</a></tt>."
   ]
  },
  {
   "cell_type": "code",
   "execution_count": 28,
   "id": "e163f8d4",
   "metadata": {
    "id": "7mZCoupWcStz"
   },
   "outputs": [],
   "source": [
    "def d_L_no_de(z, H0, Om0, clight = 2.99792458e5):\n",
    "    '''\n",
    "    function estimating d_L in Mpc, works only for models with OmL = 0\n",
    "    \n",
    "    Parameters:\n",
    "    -----------\n",
    "        z - float(s), a float or a numpy vector of floats containing redshift(s) for which to compute d_L\n",
    "        H0 - Hubble constant in km/s/Mpc\n",
    "        Om0 - dimensionless mean matter density in units of the critical density\n",
    "        \n",
    "    Returns:\n",
    "    --------\n",
    "        d_L - float(s), float or numpy vector of floats containing d_L in Mpc for inpute value(s) of z\n",
    "\n",
    "    '''\n",
    "    assert(Om0 >=0)\n",
    "    q0 = 0.5 * Om0\n",
    "    q0z = q0 * z\n",
    "    return clight * z/H0 * (1. + (z-q0z) / (1. + q0z + np.sqrt(1. + 2.*q0z)))  "
   ]
  },
  {
   "cell_type": "markdown",
   "id": "accbf034",
   "metadata": {},
   "source": [
    "**2b (3 points).** Test your function by comparing it to the estimates using AstroPy function for several pairs of $\\Omega_{\\rm m0}$ and $\\Omega_\\Lambda$: $[0.3, 0.7]$, $[0.1,0.9]$, $[0.8,0.1]$, as shown below. "
   ]
  },
  {
   "cell_type": "code",
   "execution_count": 29,
   "id": "4e1ff3e6",
   "metadata": {},
   "outputs": [
    {
     "name": "stdout",
     "output_type": "stream",
     "text": [
      "z = 0.000;  distance_astropy =     0.00000 Mpc\n",
      "z = 0.158;  distance_astropy =   754.40272 Mpc\n",
      "z = 0.316;  distance_astropy =  1647.56015 Mpc\n",
      "z = 0.474;  distance_astropy =  2655.32684 Mpc\n",
      "z = 0.632;  distance_astropy =  3757.26372 Mpc\n",
      "z = 0.789;  distance_astropy =  4936.75630 Mpc\n",
      "z = 0.947;  distance_astropy =  6180.60449 Mpc\n",
      "z = 1.105;  distance_astropy =  7478.42369 Mpc\n",
      "z = 1.263;  distance_astropy =  8822.05081 Mpc\n",
      "z = 1.421;  distance_astropy = 10205.03607 Mpc\n",
      "z = 1.579;  distance_astropy = 11622.23867 Mpc\n",
      "z = 1.737;  distance_astropy = 13069.51698 Mpc\n",
      "z = 1.895;  distance_astropy = 14543.49542 Mpc\n",
      "z = 2.053;  distance_astropy = 16041.39021 Mpc\n",
      "z = 2.211;  distance_astropy = 17560.87916 Mpc\n",
      "z = 2.368;  distance_astropy = 19100.00391 Mpc\n",
      "z = 2.526;  distance_astropy = 20657.09595 Mpc\n",
      "z = 2.684;  distance_astropy = 22230.72025 Mpc\n",
      "z = 2.842;  distance_astropy = 23819.63177 Mpc\n",
      "z = 3.000;  distance_astropy = 25422.74175 Mpc\n"
     ]
    }
   ],
   "source": [
    "from astropy.cosmology import LambdaCDM\n",
    "import astropy.units as u\n",
    "\n",
    "def d_l_astropy(z, H0, Om0, OmL):\n",
    "    cosmo = LambdaCDM(H0=H0, Om0=Om0, Ode0=OmL)\n",
    "    return cosmo.luminosity_distance(z=z) / u.Mpc\n",
    "\n",
    "Om0 = 0.3; OmL = 0.7; H0 = 70.\n",
    "\n",
    "zmin, zmax, nz = 0, 3, 20\n",
    "z = np.linspace(zmin, zmax, nz) # evenly spaced grid of z values \n",
    "# astropy allows to process a vector of z values in one call \n",
    "d_la = d_l_astropy(z, H0, Om0, OmL)\n",
    "\n",
    "for i, zd in enumerate(z): \n",
    "    # output using f-string formatting \n",
    "    # add outout of d_L estimate using your integration func\n",
    "    print(f'z = {zd:.3f};  distance_astropy = {d_la[i]:>11.5f} Mpc')"
   ]
  },
  {
   "cell_type": "markdown",
   "id": "40ed89db",
   "metadata": {},
   "source": [
    "## <font color='darkblue'>Exercise 3 (5 points): using $d_L$ calculation to compute distance modulus of supernovae Type Ia\n",
    "    \n",
    "The code snippet below reads data from the study of <a href=\"https://ui.adsabs.harvard.edu/abs/2014A%26A...568A..22B/abstract\">Betoule et al. (2014)</a>, which was downloaded <a href=\"http://supernovae.in2p3.fr/sdss_snls_jla/ReadMe.html\">here</a>. The function uses numpy loadtxt function, which allows to read well formatted columns of data in the ASCII format easily. \n",
    "    \n",
    "    After reading numpy array <tt>zsn</tt> contains redshifts of 740 supernovae, while arrays <tt>msn</tt>, $m$, and <tt>emsn</tt> contain measured apparent magnitudes and their uncertainties\n",
    "    \n",
    "    \n",
    "Distance modulus is defined as \n",
    "    \n",
    "$$\\mu = m - M = 5\\log_{10}d_L(z,H_0,\\Omega_{\\rm m0},\\Omega_\\Lambda) + 25.$$\n",
    "\n",
    "where $d_L$ is distance in Megaparsecs and $M$ is the absolute magnitude of the supernovae (this is the magnitude supernova would have at a fixed distance of 10 parsecs). For this exercise we will assume that supernovae are perfect standard candles, which means that $M$ has a single value for all of them. This means that we should be able to predict what apparent magnitudes of supernovae should be at different redshifts: \n",
    "    \n",
    "$$m_{\\rm pred} = M + 5\\log_{10}d_L(z,H_0,\\Omega_{\\rm m0},\\Omega_\\Lambda) + 25.$$\n",
    "    \n",
    "**Task** plot supernovae data as a scatter of points in the $m-z$ plane and plot $m_{\\rm pred}(z)$ for a grid of $z$ values in the range $z\\in [0,2]$ as a line. Add a legend to your plot that describes points and the line. You should write your own Matplotlib code and *not* use function <tt>plot_line_points</tt> in <tt>codes.plotting</tt>, although you are welcome to consult it for example of how to make such plots. \n",
    "    \n",
    " Make sure your plot is sufficiently large, axes are labeled and font size in the axis labels and legend is sufficiently large to be legible. You can use <tt>codes.plotting.plot_prettier</tt> function to set up Matplotlib environment for good plotting, but adjust <tt>figsize</tt> of your plot, as needed. You can find examples of plots that have good size and font sizes in the distributed notebooks. \n",
    "    \n",
    "    \n",
    "Try different values of $M$ in the range from 0 to -25, and values of $\\Omega_{\\rm m0}$ and $\\Omega_\\Lambda$ in the range $[0,1]$, while keeping $H_0=70$ and try to find a combination of $M$, $\\Omega_{\\rm m0}$ and $\\Omega_\\Lambda$ for which the line matches the supernova data best. Plot a plot of $m-z$ described above for this parameter combination. \n",
    "    \n",
    "Summarize your conclusions and quote the best values of $M$, $\\Omega_{\\rm m0}$ and $\\Omega_\\Lambda$ that you found. \n",
    "    "
   ]
  },
  {
   "cell_type": "markdown",
   "id": "9e6909ce",
   "metadata": {},
   "source": [
    "***Note:*** Useful Matlotlib and numpy functions: <tt>np.linspace, plt.xlabel, plt.ylabel, plt.scatter, plt.plot, plt.legend</tt>\n",
    "    \n",
    "***Note:*** If you did not complete implementation of functions in the previous exercises you can use AstroPy function to compute $d_L$ to do this exercise. "
   ]
  },
  {
   "cell_type": "code",
   "execution_count": 30,
   "id": "f4751a86",
   "metadata": {
    "slideshow": {
     "slide_type": "skip"
    }
   },
   "outputs": [],
   "source": [
    "def read_jla_data(sn_list_name = None):\n",
    "    \"\"\"\n",
    "    read in table with the JLA supernova type Ia sample\n",
    "    \n",
    "    Parameters\n",
    "    ----------\n",
    "    sn_list_name: str\n",
    "        path/file name containing the JLA data table in ASCII format\n",
    "        \n",
    "    Returns\n",
    "    -------\n",
    "    zsn, msn, emsn - numpy float vectors containing \n",
    "                       zsn: SNIa redshifts in the CMB frame\n",
    "                       msn, emsn: apparent B-magnitude and its errors\n",
    "    \"\"\"\n",
    "    zsn, msn, emsn = np.loadtxt(sn_list_name, usecols=(1, 4, 5),  unpack=True)\n",
    "\n",
    "    return zsn, msn, emsn\n"
   ]
  },
  {
   "cell_type": "code",
   "execution_count": 31,
   "id": "6aeeb928",
   "metadata": {
    "slideshow": {
     "slide_type": "-"
    }
   },
   "outputs": [
    {
     "name": "stdout",
     "output_type": "stream",
     "text": [
      "read sample of 740 supernovae...\n"
     ]
    }
   ],
   "source": [
    "# read vectors of redshifts, apparent magnitude in B-band, mB, and its uncertainty emB:\n",
    "zsn, msn, emsn = read_jla_data(sn_list_name = 'https://astro.uchicago.edu/~andrey/classes/a211/data/jla_lcparams.txt')\n",
    "nsn = np.size(zsn)\n",
    "print(\"read sample of %d supernovae...\"%(nsn))"
   ]
  },
  {
   "cell_type": "markdown",
   "id": "507114f7",
   "metadata": {
    "id": "VEHVTRVwumxS"
   },
   "source": [
    "## <font color='darkblue'> Exercise 4 (extra-credit): implementing Romberg integration scheme (25 points)\n",
    "\n",
    "\n",
    "**Task 4a. (20 points)** Implement a function that estimates integral $\\int_a^b f(x)dx$ using Romberg integration method with error better than specified tolerance level, as in the exercise above, but using full Romberg scheme to estimate $R_m$ rather than explicit <tt>r1</tt>, <tt>r2</tt>, <tt>r3</tt> functions and that uses  $R_{m+1}$ and $R_{m}$ estimates to control the current estimate of error. (25 points)\n",
    "    \n",
    "**Task 4b. (5 points)** Test your function by computing $$\\int_0^1 e^x dx$$ and computing fractional error of the numerical relative to exact value ($=e-1$) similarly to how this was done in <tt>04_integration</tt> notebook for trapezoidal integration function. (1 point)\n",
    "\n",
    "Plot the fractional error you get for your integral, as a function of input rtol value to demonstrate that your result is as accurate or better than specified (4 points).     \n",
    "   "
   ]
  },
  {
   "cell_type": "code",
   "execution_count": null,
   "id": "64957bdf",
   "metadata": {},
   "outputs": [],
   "source": []
  }
 ],
 "metadata": {
  "colab": {
   "name": "hw04_solutions.ipynb",
   "provenance": []
  },
  "kernelspec": {
   "display_name": "Python 3 (ipykernel)",
   "language": "python",
   "name": "python3"
  },
  "language_info": {
   "codemirror_mode": {
    "name": "ipython",
    "version": 3
   },
   "file_extension": ".py",
   "mimetype": "text/x-python",
   "name": "python",
   "nbconvert_exporter": "python",
   "pygments_lexer": "ipython3",
   "version": "3.9.7"
  }
 },
 "nbformat": 4,
 "nbformat_minor": 5
}
