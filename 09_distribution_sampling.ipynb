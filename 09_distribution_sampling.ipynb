{
 "cells": [
  {
   "cell_type": "markdown",
   "id": "b9439a99",
   "metadata": {
    "slideshow": {
     "slide_type": "skip"
    }
   },
   "source": [
    "# <font color='blue'>ASTR 21100</font> \n",
    "\n",
    "# <font color='blue'>\"Computational Techniques in Astrophysics\"</font>\n",
    "\n",
    "# <font color='blue'>Methods for sampling from 1-dimensional probability distributions</font>\n"
   ]
  },
  {
   "cell_type": "code",
   "execution_count": 1,
   "id": "53b8f539",
   "metadata": {
    "slideshow": {
     "slide_type": "skip"
    }
   },
   "outputs": [],
   "source": [
    "import numpy as np \n",
    "\n",
    "# use jupyter \"magic\" command to tell it to embed plot into the notebook \n",
    "import matplotlib.pyplot as plt\n",
    "%matplotlib inline\n",
    "\n",
    "from codes.plotting import plot_prettier\n",
    "plot_prettier()"
   ]
  },
  {
   "cell_type": "markdown",
   "id": "4687f955",
   "metadata": {
    "slideshow": {
     "slide_type": "slide"
    }
   },
   "source": [
    "### <font color='blue'>Sampling random numbers from a 1-dimensional probability distribution function (pdf)</font>\n",
    "\n",
    "Such sampling involves two steps: \n",
    "\n",
    "1) a sequence of random, uniformly distributed numbers in the $[0,1]$ interval (this is handled by PRNG codes, see <a href=\"https://drive.google.com/file/d/1x3KUR8vqs-O7DDqJYUaT-0xA8x6Yh5oK/view?usp=sharing\"><tt>08b_prngs.ipynb</tt></a>)\n",
    "\n",
    "2) a transformation of that sequence from the uniform pdf to a desired (target) pdf."
   ]
  },
  {
   "cell_type": "markdown",
   "id": "a332c202",
   "metadata": {
    "slideshow": {
     "slide_type": "slide"
    }
   },
   "source": [
    "### <font color='blue'>Definitions of the pdf and cdf</font>\n",
    "\n",
    "* **Probability distribution function (pdf)** (sometimes called probability density function), $p(x)$, is a positive function, $p(x)\\geq 0$, defined such that $p(x)dx$ measures probability for $x$ to be in the interval $[x,x+dx)$. \n",
    "\n",
    "If pdf is defined on an interval $x\\in [a,b]$, integral over this interval for a properly normalized pdf is \n",
    "\n",
    "$$\\int\\limits_a^b p(x)dx=1$$\n",
    "\n",
    "because probability of any $x$ should be 1 by definition. So pdf is always 0 or positive and normalized such that integral over the interval for which it is defined is equal to 1.\n"
   ]
  },
  {
   "cell_type": "markdown",
   "id": "acc09a01",
   "metadata": {
    "slideshow": {
     "slide_type": "fragment"
    }
   },
   "source": [
    "* **Cumulative distribution function (cdf)** is defined as \n",
    "\n",
    "$$P(x) = \\int\\limits_b^x p(x^\\prime) dx^\\prime.$$\n",
    "If $p(x)\\geq 0$ and is normalized as above, it is clear that $P$ varies monotonically from $0$ to $1$, as $x$ increases from the lower to the upper limits of the interval on which $p(x)$ is defined. "
   ]
  },
  {
   "cell_type": "markdown",
   "id": "cd5465d2",
   "metadata": {
    "slideshow": {
     "slide_type": "skip"
    }
   },
   "source": [
    "**Note 1.** Whether pdf must be so normalized depends on its application. If we need only ratios such as $p(x_2)/p(x_1)$ then normalization is not relevant. Thus, for certain methods, such as MCMC normalization is not important.  \n",
    "\n",
    "**Note 2.** Given that $p(x)dx$ is probability, which is dimensionless, if $x$ has some dimension (for example, grams), then $p(x)$ also must have dimension of $[x^{-1}]$ (i.e., inverse grams) so that product of $p(x)$ and $dx$ is dimensionless. Remembering that pdf has dimensions inverse of the dimension of its parameter is useful when algebraic operations with pdfs are performed, as we will see later. "
   ]
  },
  {
   "cell_type": "markdown",
   "id": "4b620e11",
   "metadata": {
    "slideshow": {
     "slide_type": "slide"
    }
   },
   "source": [
    "### <font color='blue'>Random sampling from pdfs</font>\n",
    "\n",
    "The two simplest and widely used methods to sample non-uniform 1-dimensional pdfs (or in some cases low-dimensional ones) -- the inverse transform sampling and rejection sampling -- were laid out on one page in a letter by John von Neumann to Stanislaw Ulam written on May 21, 1947. \n",
    "\n",
    "The latter was known previously in a different context (geometric estimates of probability), but it was von Neumann who re-invented rejection sampling and made it popular in the context of Monte Carlo methods. \n",
    "\n",
    "<p>\n",
    "<center><img width=400 src=\"https://astro.uchicago.edu/~andrey/classes/a211/img/John_von_Neumann-LosAlamos.gif\"></img></center>\n",
    "</p>"
   ]
  },
  {
   "cell_type": "markdown",
   "id": "1e0d8901",
   "metadata": {
    "slideshow": {
     "slide_type": "slide"
    }
   },
   "source": [
    "<center><img width=600 src=\"https://astro.uchicago.edu/~andrey/classes/a211/img/von_neumann_letter1.png\"></img></center>"
   ]
  },
  {
   "cell_type": "markdown",
   "id": "23746247",
   "metadata": {},
   "source": [
    "The inverse transform sampling is the most useful method in practice and is discussed in detail below. Rejection method is conceptually simpler, but is not as useful due to its inefficiency in general cases, especially for pdfs with a wide range of values, such as exponential or power law pdfs. "
   ]
  },
  {
   "cell_type": "markdown",
   "id": "b0b4372b",
   "metadata": {
    "slideshow": {
     "slide_type": "slide"
    }
   },
   "source": [
    "### <font color='blue'> Inverse transform sampling (ITS) method</font>\n",
    "\n",
    "For a sample of $x_i$ values drawn from $p(x)$ pdf which has cdf $P(x)$, we expect that $y_i = P(x_i)$ are uniformly distributed in $y\\in [0,1]$. \n",
    "\n",
    "This method uses this statement in the reverse order: if I have samples $y_i$ drawn from the uniform pdf defined in $y\\in [0,1]$, then $x_i$ values defined by equation \n",
    "\n",
    "$$y_i=P(x_i)$$\n",
    "\n",
    "will follow $p(x)$ pdf. That's all there is to this method. All we need to handle is how to solve this equation for $x_i$ values. \n"
   ]
  },
  {
   "cell_type": "markdown",
   "id": "7eb0ef1e",
   "metadata": {
    "slideshow": {
     "slide_type": "slide"
    }
   },
   "source": [
    "### <font color='blue'>  Example of using the ITS method: sampling an exponential pdf</font>\n",
    "\n",
    "Application of the method is pretty straightforward if the equation can be solved for $x_i$ explicitly. For example, consider exponential pdf $p(x) = Ae^{-\\beta x}$ for $\\beta>0$ and $x\\in [0,\\infty)$.\n",
    "\n",
    "$A$ is normalization factor ensuring that $p(x)$ is pdf: \n",
    "\n",
    "$$A\\int\\limits_0^\\infty e^{-\\beta x}dx = 1; \\ \\ \\ {\\rm i.e.}\\ \\ \\rightarrow\\ \\ A = \\frac{1}{\\int_0^\\infty e^{-\\beta x}dx} = [x\\rightarrow\\tilde{x}=-\\beta x]=\\frac{1}{-(1/\\beta)\\int_0^{-\\infty} e^{\\tilde{x}}d\\tilde{x}}=\\frac{\\beta}{\\int^0_{-\\infty} e^{\\tilde{x}}d\\tilde{x}}=\\beta$$\n"
   ]
  },
  {
   "cell_type": "markdown",
   "id": "389adef4",
   "metadata": {
    "slideshow": {
     "slide_type": "fragment"
    }
   },
   "source": [
    "So our pdf is $p(x) = \\beta\\, e^{-\\beta x}$ and its cdf is \n",
    "\n",
    "$$P(x) = \\beta\\,\\int\\limits_0^x e^{-\\beta x}dx = [x\\rightarrow\\tilde{x}=-\\beta x]=-{\\beta\\over\\beta}\\,\\int\\limits_0^{\\tilde{x}} e^{\\tilde{x}}d\\tilde{x} = \\int\\limits^0_{\\tilde{x}} e^{\\tilde{x}}d\\tilde{x} = 1- e^{-\\beta x}$$\n",
    "\n",
    "and we can simply solve for $x$ algebraically: \n",
    "\n",
    "$$x(P) = -\\frac{1}{\\beta}\\,\\ln[1-P]$$"
   ]
  },
  {
   "cell_type": "markdown",
   "id": "2008b00f",
   "metadata": {
    "slideshow": {
     "slide_type": "slide"
    }
   },
   "source": [
    "Now all we need to do to draw $n$ random numbers from the exponential distribution $p(x)=\\beta\\,e^{-\\beta x}$ is to: \n",
    "\n",
    "* generate $n$ samples $y_i$ uniformly distributed in $[0,1]$\n",
    "\n",
    "\n",
    "* transform them into $x_i = -1/\\beta\\ln[1-y_i]$.\n"
   ]
  },
  {
   "cell_type": "markdown",
   "id": "e2ad8eef",
   "metadata": {
    "slideshow": {
     "slide_type": "fragment"
    }
   },
   "source": [
    "Note that $x_i = -1/\\beta\\ln[1-y_i]=-1/\\beta\\ln\\,y_i$ because if $y_i$ is a number uniformly distributed in $[0,1]$, so is $1-y_i$. "
   ]
  },
  {
   "cell_type": "code",
   "execution_count": 25,
   "id": "299cdc6d",
   "metadata": {
    "slideshow": {
     "slide_type": "slide"
    }
   },
   "outputs": [],
   "source": [
    "def exp_pdf(x, beta):\n",
    "    \"\"\"\n",
    "    normalized exponential PDF p(x)= e^{-x\\beta}\\beta\n",
    "    \n",
    "    Parameters:\n",
    "    -----------\n",
    "    x: 1d numpy array of real numbers \n",
    "    beta: a real non-zero number\n",
    "        \n",
    "    Returns:\n",
    "    --------\n",
    "    a 1d numpy vector of real numbers equal to the PDF values at input x values\n",
    "    \"\"\"\n",
    "    return np.exp(-x*beta) * beta\n"
   ]
  },
  {
   "cell_type": "code",
   "execution_count": 4,
   "id": "4588d074",
   "metadata": {
    "slideshow": {
     "slide_type": "slide"
    }
   },
   "outputs": [],
   "source": [
    "def invcdf_exp(y, beta):\n",
    "    \"\"\"\n",
    "    analytic inverse of the exponential CDF\n",
    "    \"\"\"\n",
    "    assert(beta != 0.)\n",
    "    \n",
    "    return -np.log(1.-y) / beta\n",
    "\n",
    "nr = 1000000\n",
    "# generate a vector of nr uniformly distributed numbers over [0.,1.]\n",
    "yrnd = np.random.uniform(0., 1., nr)\n",
    "\n",
    "beta = 3.0\n",
    "xexp = invcdf_exp(yrnd, beta)"
   ]
  },
  {
   "cell_type": "code",
   "execution_count": 27,
   "id": "03705904",
   "metadata": {},
   "outputs": [],
   "source": [
    "def plot_pdf(xr, plot_pdf=True, func=None, args=None,\n",
    "             xlabel='$x$', ylabel='$p(x)$',  label='samples', \n",
    "             bins = 50, xlog=False, ylog=True, \n",
    "             xlims=[0.,30.], ylims=[1.e-6, 0.4], figsize=5):\n",
    "    \"\"\"\n",
    "    a utility function to plot samples from a pdf as a histogram and compare\n",
    "    the histogram to the analytical form of the pdf plotted as a line, if needed\n",
    "    \n",
    "    Parameters:\n",
    "    -----------\n",
    "    xr:           1d numpy array of float numbers: vector of samples\n",
    "    plot_pdf:     boolean, determines whether to plot a line of the target pdf\n",
    "                  if True, func needs to be supplied\n",
    "    func:         Python function object: function that returns analytic pdf for a given vector xr\n",
    "    args:         list of possible arguments to func, if any\n",
    "    xlabel, ylabel: strings, labels for x and y axes\n",
    "    label:        string, label for the samples histogram for the legend\n",
    "    bins:         integer or string (e.g., 'auto'), passed on as bins parameter to Pylab's histogram function\n",
    "    xlog, ylog:   boolean, determine whether x or y axis is to be plotted on logarithmic scale\n",
    "    xlims, ylims: lists of 2 float elements defining plot limits for x and y axes\n",
    "    figsize:      float, parameter controlling plot size \n",
    "    \n",
    "    Returns:\n",
    "    --------\n",
    "    Nada\n",
    "    \"\"\"\n",
    "    plt.figure(figsize=(figsize,figsize))\n",
    "    plt.xlabel(xlabel); plt.ylabel(ylabel)\n",
    "    if xlog: plt.xscale('log') # plot y-values on a logarithmic scale\n",
    "    if ylog: plt.yscale('log') # plot y-values on a logarithmic scale\n",
    "    plt.xlim(xlims); plt.ylim(ylims) # set axis limits \n",
    "\n",
    "    # compute histogram values; \n",
    "    # density='True' normalizes histogram properly so it can be compared to pdf\n",
    "    hist, bins, patches = plt.hist(xr, density='True', color='slateblue', bins=bins, label=label)\n",
    "    # compute bin centers using numpy slicing \n",
    "    binc = 0.5*(bins[1:] + bins[:-1])\n",
    "    if plot_pdf: \n",
    "        plt.plot(binc, func(binc, *args), lw=1.25, c='orangered', label='target pdf')\n",
    "    plt.ylabel(r'$p(x)$') # label axis \n",
    "    plt.xlabel(r'$x$')\n",
    "    plt.legend(loc='best', frameon=False, fontsize=3*figsize)\n",
    "    plt.show()"
   ]
  },
  {
   "cell_type": "code",
   "execution_count": 73,
   "id": "190c550d",
   "metadata": {
    "slideshow": {
     "slide_type": "slide"
    }
   },
   "outputs": [
    {
     "data": {
      "image/png": "[encoded data removed]",
      "text/plain": [
       "<Figure size 600x600 with 1 Axes>"
      ]
     },
     "metadata": {
      "needs_background": "light"
     },
     "output_type": "display_data"
    }
   ],
   "source": [
    "plot_pdf(xexp, func=exp_pdf, args=[beta], xlims=[0,5], ylims=[1.e-6,5], \n",
    "         bins='auto', xlabel=r'$x$', ylabel=r'$p(x)$', figsize=3)"
   ]
  },
  {
   "cell_type": "markdown",
   "id": "ad6447a5",
   "metadata": {
    "slideshow": {
     "slide_type": "skip"
    }
   },
   "source": [
    "### <font color='blue'>Why does the inverse transform method work? geometric interpretation</font>\n",
    "\n",
    "The meaning of the method can be grasped by visualizing the cumulative pdf, $y=P(x)$ in the $x-y$ plane. Suppose we draw samples from the uniform distribution along $y$: i.e., $u_{[0,1]}=1$ for $y\\in[0,1]$. The probability of a sample to fall within some interval $dy$ is $u_{[0,1]}dy=dy$ for $y\\in [0,1]$. What will be the corresponding interval $dx$ along $x=P^{-1}(y)$ axis that corresponds to $dy$? "
   ]
  },
  {
   "cell_type": "markdown",
   "id": "e1c94d2d",
   "metadata": {
    "slideshow": {
     "slide_type": "skip"
    }
   },
   "source": [
    "Geometrically, $dx = dy/\\tan\\alpha= dy/(dP/dx) = dy/p(x)$, where $\\alpha$ is the local slope of the cdf,  $\\tan\\alpha(x) = dP/dx=p(x)$, where the latter identity holds by the definition of cdf:\n",
    "\n",
    "$$\\frac{dP(x)}{dx} = \\frac{d}{dx}\\int\\limits_{-\\infty}^x p(x)dx = p(x)$$\n",
    "\n",
    "\n",
    "Thus, uniform distribution of points in the vertical $y$ axis will turn into distribution of points in the horizonthal $x$ axis with density function $p(x)$, because $dy = p(x)dx$, which is precisely what we want."
   ]
  },
  {
   "cell_type": "markdown",
   "id": "5a97e84d",
   "metadata": {
    "slideshow": {
     "slide_type": "slide"
    }
   },
   "source": [
    "### <font color='blue'>Why does the inverse transform method work? formal proof (read if you care)</font>\n"
   ]
  },
  {
   "cell_type": "markdown",
   "id": "b5dc8059",
   "metadata": {
    "slideshow": {
     "slide_type": "fragment"
    }
   },
   "source": [
    "**Theorem.** if samples $x_i$ are drawn from pdf $p(x)$, the distribution of $P(x_i)$ will be uniform in the range $[0,1]$.\n",
    "\n",
    "**Proof.**  Let's examine what kind of transformation $y(x)$ will convert these numbers into uniformly distributed  $y_i=y(x_i)$ in the interval $[0,1]$  "
   ]
  },
  {
   "cell_type": "markdown",
   "id": "f855f4dc",
   "metadata": {
    "slideshow": {
     "slide_type": "slide"
    }
   },
   "source": [
    "\n",
    "We know that pdfs are transformed using \"conservation of probability equation\": \n",
    "\n",
    "$$p(x)dx = g(y)dy,$$ \n",
    "\n",
    "so for a given transformation $y(x)$, the pdf of $y$ will be \n",
    "\n",
    "$$g(y) = p(x)\\, {dx\\over dy} = {p(x)\\over y^\\prime},$$ \n",
    "\n",
    "where $y^\\prime=dy/dx$ is derivative of $y(x)$ wrt $x$. "
   ]
  },
  {
   "cell_type": "markdown",
   "id": "d60c3161",
   "metadata": {
    "slideshow": {
     "slide_type": "fragment"
    }
   },
   "source": [
    "Thus, if $y^\\prime = p(x)$, then $g(y)=1$, which is a uniform pdf in the interval $y\\in[0,1]$. "
   ]
  },
  {
   "cell_type": "markdown",
   "id": "da3ae694",
   "metadata": {
    "slideshow": {
     "slide_type": "fragment"
    }
   },
   "source": [
    "However, the function derivative of which wrt $x$ is $p(x)$ is its cdf $P(x)$ by definition: \n",
    "\n",
    "$$\\frac{dP(x)}{dx} = \\frac{d}{dx}\\int\\limits_{-\\infty}^x p(x)dx = p(x),\\ \\ \\ {\\rm and\\ thus}\\ \\rightarrow\\ y(x)=P(x).$$"
   ]
  },
  {
   "cell_type": "markdown",
   "id": "97654c19",
   "metadata": {
    "slideshow": {
     "slide_type": "slide"
    }
   },
   "source": [
    "Thus, this result tells thus that for $x_i$ drawn from pdf $p(x)$, which has cdf $P(x)$, $y_i=P(x_i)$ will be distributed uniformly in the interval $y\\in [0,1]$. "
   ]
  },
  {
   "cell_type": "markdown",
   "id": "def3fec5",
   "metadata": {
    "slideshow": {
     "slide_type": "slide"
    }
   },
   "source": [
    "## <font color='blue'>Sampling special case pdfs: drawing Gaussian random numbers and distributions symmetric around zero (optional material)</blue>\n",
    "\n",
    "The Gaussian numbers can be drawn using the inverse transform, but this is computationally expensive due to a relatively complicated cdf of the Gaussian distribution (error function). Thus, a more efficient method is usually used: most commonly used is the <a href=\"https://en.wikipedia.org/wiki/Box%E2%80%93Muller_transform\">Box-Mueller method.</a>. \n",
    "\n",
    "If $u_1$ and $u_2$ are uniformly distributed random numbers in the interval $[0,1)$, the following two numbers are drawn from the Gaussian pdf of zero mean and variance $\\sigma^2=1$:\n",
    "\n",
    "\n",
    "$$g_1=\\sqrt{-2\\ln u_1}\\cos 2\\pi u_2;\\ \\ \\ g_2=\\sqrt{-2\\ln u_1}\\sin 2\\pi u_2 $$\n",
    "\n",
    "\n",
    "If we want Gaussian numbers that sample Gaussian pdf with a given mean $\\mu$ and standard deviation $\\sigma$, we can rescale the above numbers as (where $g$ is either $g_1$ or $g_2$):\n",
    "\n",
    "$$\\tilde{g}=\\mu + \\sigma\\,g$$\n",
    "\n",
    "\n",
    "Let's check this empirically. "
   ]
  },
  {
   "cell_type": "markdown",
   "id": "b756f835",
   "metadata": {
    "slideshow": {
     "slide_type": "skip"
    }
   },
   "source": [
    "The method is named after George Edward Pelham Box and Mervin Edgar Muller, who <a href=\"https://projecteuclid.org/euclid.aoms/1177706645\">proposed it in 1958</a>, although the method was previously developed by Raymond E. A. C. Paley and Norbert Wiener in 1934."
   ]
  },
  {
   "cell_type": "code",
   "execution_count": 18,
   "id": "c4cc6d53",
   "metadata": {
    "slideshow": {
     "slide_type": "slide"
    }
   },
   "outputs": [],
   "source": [
    "# generate two vectors of nr pseudo-random numbers uniformly distributed in [0,1] (default)\n",
    "nr = 100000\n",
    "u1 = np.random.uniform(size=nr)\n",
    "u2 = np.random.uniform(size=nr)\n",
    "\n",
    "# transform uniformly distributed numbers in u1 and u2 into Gaussian pdf samples\n",
    "mu, sigma = 10, 10 \n",
    "g1 = 10. + 10.*np.sqrt(-2.*np.log(u1)) * np.cos(2.*np.pi*u2)\n",
    "# g2 will stay with mu=0 and sigma=1\n",
    "g2 = np.sqrt(-2.*np.log(u1)) * np.sin(2.*np.pi*u2)"
   ]
  },
  {
   "cell_type": "code",
   "execution_count": 48,
   "id": "7812661d",
   "metadata": {},
   "outputs": [],
   "source": [
    "def gaussian_pdf(x, mu=0., sigma=1.):\n",
    "    \"\"\"\n",
    "    returns value of the Gaussian pdf with input mu, sigma for input x \n",
    "\n",
    "    Parameters:\n",
    "    -----------\n",
    "    x:     a float or a 1d numpy array of floats, input x value(s)\n",
    "    mu:    a float, mean of the Gaussian (default 0)\n",
    "    sigma: a float, st. deviation of the Gaussian (default 1.0)\n",
    "    \n",
    "    Returns:\n",
    "    --------\n",
    "    \n",
    "    g(x): a float or a 1d numpy array of floats, \n",
    "          value(s) of the Gaussian pdf for input x value(s)\n",
    "    \"\"\"\n",
    "    assert(sigma !=0.)\n",
    "\n",
    "    return 1./np.sqrt(2.*np.pi)/sigma * np.exp(-0.5*((x-mu)/sigma)**2)"
   ]
  },
  {
   "cell_type": "code",
   "execution_count": 84,
   "id": "fef8d29c",
   "metadata": {
    "slideshow": {
     "slide_type": "slide"
    }
   },
   "outputs": [
    {
     "data": {
      "image/png": "[encoded data removed]",
      "text/plain": [
       "<Figure size 600x600 with 1 Axes>"
      ]
     },
     "metadata": {
      "needs_background": "light"
     },
     "output_type": "display_data"
    }
   ],
   "source": [
    "g = np.random.normal(size=nr)\n",
    "plot_pdf(g1, func=gaussian_pdf, args=[mu, sigma], xlims=[-30,50],\n",
    "         ylims=[1.e-6,0.05], ylog=False, \n",
    "         bins='auto', xlabel=r'$x$', ylabel=r'$p(x)$', figsize=3)"
   ]
  },
  {
   "cell_type": "markdown",
   "id": "3befd3ed",
   "metadata": {
    "slideshow": {
     "slide_type": "skip"
    }
   },
   "source": [
    "Using Gaussian samples you can also create samples of some other distributions, such as $\\chi^2$ and Student $t$ distribution.\n",
    "\n",
    "When a large number of samples is needed and computational time is an issue, there is a more efficient <a href=\"https://en.wikipedia.org/wiki/Ziggurat_algorithm\">*ziggurat algorithm*</a> of Marsaglia & Tang (2000) to sample symmetric unimodal distributions such as Gaussian and Student $t$. However, this algorithm won't work for assymetric distributions such as $\\chi^2$.  "
   ]
  },
  {
   "cell_type": "markdown",
   "id": "f0775496",
   "metadata": {
    "slideshow": {
     "slide_type": "skip"
    }
   },
   "source": [
    "## <font color='blue'>Generating correlated random samples (optional for undergraduate students)</font>\n",
    "\n",
    "In practical applications one often needs to generate correlated random numbers reflecting correlations in the underlying model. \n",
    "\n",
    "Suppose we have a sequence of $N$ ($N\\geq 2$) *uncorrelated* random numbers with zero mean and unit variance, $\\vec{x}=\\{x_i\\}$, $\\langle \\vec{x}\\rangle=0$ and $\\langle\\vec{x}\\cdot\\vec{x}^T\\rangle = I,$\n",
    "where $I$ is a unitary matrix and angle brackets denote averaging. \n",
    "\n",
    "We want to generate a sequence of $N$ correlated random numbers, $\\vec{y}=\\{y_i\\}$, with correlations given by *covariance matrix*, $C\\equiv \\langle \\vec{y}\\cdot\\vec{y}^T\\rangle$, with elements \n",
    "\\begin{equation}\n",
    "C_{ij}=\\frac{1}{N_s-1}\\sum\\limits_{k=1}^{N_s}(y_{ik}-\\langle{y}_i\\rangle)(y_{jk}-\\langle{y}_j\\rangle),\n",
    "\\end{equation}\n",
    "where averaging is done over some number $N_s$ of sample realizations of $\\vec{y}$."
   ]
  },
  {
   "cell_type": "markdown",
   "id": "a49fb1b6",
   "metadata": {
    "slideshow": {
     "slide_type": "skip"
    }
   },
   "source": [
    "Thus, given a vector of uncorrelated random numbers $\\vec{x}$ to generate a vector of random samples $\\vec{y}$ correlated among each other with correlations given by the covariance matrix $C$, we need to find a transformation matrix $M$ that satisfies the following two equations:\n",
    "\\begin{equation}\n",
    "\\vec{y}=M\\cdot \\vec{x},\\ \\ \\ C=\\langle\\vec{y}\\cdot\\vec{y}^T\\rangle.\n",
    "\\end{equation}\n",
    "\n",
    "Substituting the left equation into the right one and taking into account that $\\vec{x}$ has unit variance, we have:\n",
    "\\begin{equation}\n",
    "C=\\langle M\\cdot \\vec{x}\\cdot\\vec{x}^T\\cdot M^T\\rangle = M\\cdot\\langle\\vec{x}\\cdot\\vec{x}^T\\rangle\\cdot M^T=M\\cdot M^T.\n",
    "\\end{equation}\n",
    "\n",
    "In other words, $M$ is the result of a decomposition of $C$ into a product of a matrix and its transpose. "
   ]
  },
  {
   "cell_type": "markdown",
   "id": "c399af79",
   "metadata": {
    "slideshow": {
     "slide_type": "skip"
    }
   },
   "source": [
    "### <font color='blue'>Computing $M$ using Cholesky decomposition</font>\n",
    "\n",
    "For a covariance matrix that is by its definition symmetric and positive-definite, the most efficient way to achieve this is to use the *Cholesky decomposition*: $C=L\\cdot L^T$, where  $L$ is the lower triangular matrix. \n",
    "\n",
    "So the matrix $M$ we are seeking is the lower rectangular matrix resulting from the Cholesky decomposition of the covariance matrix $C$.\n",
    "Standard linear algebra libraries always include a Cholesky decomposition function (e.g., <a href=\"https://numpy.org/doc/stable/reference/generated/numpy.linalg.cholesky.html\"><tt>numpy.linalg.cholesky</tt></a> in numpy).\n",
    "\n",
    "The required correlated numbers drawn from the same distribution as $\\{x_i\\}$ but which have the required covariance matrix and mean $\\langle\\vec{y}\\rangle$ are then given by \n",
    "\\begin{equation}\n",
    "\\vec{y}=\\langle\\vec{y}\\rangle + L\\cdot\\vec{x},\\ \\ \\ \\mathrm{or}\\ \\ \\ \\ y_i=\\langle y_i\\rangle + \\sum\\limits_{j=1}^N L_{ij} x_j.\n",
    "\\end{equation}"
   ]
  },
  {
   "cell_type": "markdown",
   "id": "d78cfad6",
   "metadata": {
    "slideshow": {
     "slide_type": "skip"
    }
   },
   "source": [
    "### <font color='blue'>Importance sampling (optional for everyone)</font>\n",
    "\n",
    "Often we are interested not in the samples from a given distribution $p(x)$ themselves, but rather in averages of various quantities over that distribution. For example, average of function $g(x)$ over $p(x)$ distribution:\n",
    "\n",
    "$$\n",
    "\\bar{g}_{p} = \\int\\limits_a^{b}g(x)p(x)dx \\approx \\frac{1}{N_s}\\sum\\limits_{i=1}^{N_s} g(x_{i,p}),\\ \\ \\mathrm{where}\\ \\ x_{i,p}\\sim p(x),\n",
    "$$\n",
    "where the last part indicates that $x_{i,p}$ are samples drawn from $p(x)$.\n",
    "\n",
    "If this is the case and $p(x)$ is a distribution that's difficult to sample from, we can choose a function, $q(x)$, called the *importance* function, that's easy to sample from, and re-write the expression for $\\bar{g}_p$ as\n",
    "\n",
    "$$\n",
    "\\bar{g}_{p} = \\int\\limits_a^{b}g(x)\\,\\frac{p(x)}{q(x)}\\, q(x)dx \\approx \\frac{1}{N_s}\\sum\\limits_{i=1}^{N_s} g(x_{i,q})\\,\\frac{p(x_{i,q})}{q(x_{i,q})},\\ \\ \\mathrm{where}\\ \\ x_{i,q}\\sim q(x).\n",
    "$$\n",
    "\n",
    "Thus, we can get an estimate of an average (or any other moment) over a given distribution, by sampling from a different distribution. Note that for numerical stability reasons, $p/q$ ratio should never be overly large. Thus $q(x)$ is chosen in such a way that $p(x)/q(x)$ goes to zero or varies mildly as $p(x)$ goes to zero. \n",
    "\n",
    "The importance sampling is useful not only because it allows to compute averages over distribution by sampling an easier to sample distribution, but also because\n",
    "such averages can be more accurate than the straightforward average over $p(x)$. This is because sampling from $q(x)$ can concentrate the samples into *important* regions that contribute the most to the integral. "
   ]
  },
  {
   "cell_type": "markdown",
   "id": "304e0664",
   "metadata": {
    "slideshow": {
     "slide_type": "slide"
    }
   },
   "source": [
    "## <font color='blue'>Rejection sampling (optional for everyone)</blue>\n",
    "\n",
    "If the maximum, $p_{\\rm max}$, of the pdf $p(x)$ in the interval $x\\in [a, b]$ is known, the random samples of $p(x)$ can be generated by \n",
    "\n",
    "1. Drawing two random numbers $x$ and $y$ uniformly distributed in the intervals $[a,b]$ and $[0,p_{\\rm max}]$, respectively. \n",
    "\n",
    "2. Accepting $x$ as a sample of $p(x)$ with probability $p(x)$: that is, if $p(x)\\geq y$, or rejecting the draw otherwise and going back to step 1.  \n",
    "\n",
    "Steps 1 and 2 are repeated until the number of accepted samples of $x$ reaches a desired value."
   ]
  },
  {
   "cell_type": "markdown",
   "id": "409d9684",
   "metadata": {
    "slideshow": {
     "slide_type": "skip"
    }
   },
   "source": [
    "### <font color='blue'>Rejection sampling: geometric interpretation</blue>\n",
    "\n",
    "The logic of this method is best grasped visually: we are throwing \"darts\" into random locations in the $(x,y)$ plane and accept only those locations that fall under the curve $p(x)$. The fraction of draws accepted in a given interval $dx$ is given by $p(x)$ by construction and result of the rejection sampling will clearly be the set of $x$ that have distribution $p(x)$.  "
   ]
  },
  {
   "cell_type": "markdown",
   "id": "84811c20",
   "metadata": {
    "slideshow": {
     "slide_type": "slide"
    }
   },
   "source": [
    "### <font color='blue'>An exercise to practice rejection method of generating random samples</font>\n",
    "\n",
    "Write a code that generates random samples $\\{x_i\\}$ from the exponential pdf \n",
    "$p_{\\rm exp}(x) = \\exp(-\\beta x)\\beta$ defined for $x\\in [0,\\infty)$ (and $p_{\\rm exp}(x)=0$ for $x<0$) using rejection sampling. Generate numbers for a fixed number of tries (say 100000). Output both the sampled numbers and the fraction of accepted draws during rejection sampling process.\n",
    "\n",
    "Test it for some values of $\\beta$ (e.g., $\\beta=3$), using an input \n",
    "vector of uniformly distributed numbers."
   ]
  },
  {
   "cell_type": "code",
   "execution_count": 104,
   "id": "425bb7d9",
   "metadata": {},
   "outputs": [],
   "source": [
    "nrnd = 100000\n",
    "xmin, xmax = 0, 30\n",
    "# generate a vector of nrnd uniformly distributed numbers over [xmin,xmax]\n",
    "xrnd = np.random.uniform(xmin, xmax, nrnd)"
   ]
  },
  {
   "cell_type": "code",
   "execution_count": 105,
   "id": "5262f6a4",
   "metadata": {},
   "outputs": [
    {
     "name": "stdout",
     "output_type": "stream",
     "text": [
      "selected sample of 1054 exponentially distributed numbers out of 100000\n"
     ]
    }
   ],
   "source": [
    "# max values on the interval [0,30.] is exp(-0/beta)*beta = beta, so:\n",
    "beta = 3.\n",
    "yrnd = np.random.uniform(0.,beta, nrnd)\n",
    "\n",
    "# numpy allows as to draw samples from xrnd by using the following compact ode\n",
    "yexp = xrnd[(yrnd < exp_pdf(xrnd,beta))]\n",
    "\n",
    "print(\"selected sample of %d exponentially distributed numbers out of %d\"%(np.size(yexp), Nrnd))\n"
   ]
  },
  {
   "cell_type": "code",
   "execution_count": 103,
   "id": "77309e55",
   "metadata": {
    "slideshow": {
     "slide_type": "slide"
    }
   },
   "outputs": [
    {
     "data": {
      "image/png": "[encoded data removed]",
      "text/plain": [
       "<Figure size 600x600 with 1 Axes>"
      ]
     },
     "metadata": {
      "needs_background": "light"
     },
     "output_type": "display_data"
    }
   ],
   "source": [
    "plot_pdf(yexp, func=exp_pdf, label='rejection method', args=[beta,], \n",
    "         xlims=[0,3], ylims=[1.e-3,5], figsize=3)"
   ]
  },
  {
   "cell_type": "markdown",
   "id": "f8bc873a",
   "metadata": {},
   "source": [
    "We can see that close to 90% of the generated samples are rejected. This is because they fall into the white area above the $p(x)$ curve, which is quite large. So the method in this basic form is inefficient for functions that change fast and over a wide range like $e^{-\\xi/\\beta}$ used here. "
   ]
  },
  {
   "cell_type": "markdown",
   "id": "d4d5cf53",
   "metadata": {
    "slideshow": {
     "slide_type": "slide"
    }
   },
   "source": [
    "### <font color='blue'>Improving efficiency of the rejection method</blue>\n",
    "\n",
    "Yes.  Efficiency can be improved with a variant of the method, in which samples from another pdf, $q(x)$, are used. Function $q(x)$ should be \n",
    "a function that is easy to sample with the inverse transform method or any other method. Also, we should have $p(x)<mq(x)$ for all $x\\in[a,b]$, where $m$ is some constant.\n",
    "\n",
    "The algorithm consists of the following steps: \n",
    "\n",
    "1. Generate a random sample $x_q$ from $q(x)$.\n",
    "\n",
    "2. Draw a random number uniformly distributed in $[0,1)$: $u\\sim u_{[0,1)}$; \n",
    "\n",
    "3. Accept the draw $x_q$ as a sample of $p(x)$, if $u\\leq p(x_q)/[m q(x_q)]$. \n",
    "\n",
    "Here for illustration I use $q(x)=e^{-x/\\beta_2}/\\beta_2$, where $\\beta_2>\\beta$ and $m=c \\beta_2/\\beta$, where $c$ is a constant just above $1.$ ensures that $mq(c)>p(x)$ everywhere. \n"
   ]
  },
  {
   "cell_type": "code",
   "execution_count": 109,
   "id": "5484c614",
   "metadata": {
    "slideshow": {
     "slide_type": "skip"
    }
   },
   "outputs": [
    {
     "name": "stdout",
     "output_type": "stream",
     "text": [
      "selected sample of 20000 exponentially distributed numbers out of 22197\n"
     ]
    }
   ],
   "source": [
    "nr = 20000 # number of random numbers to generate\n",
    "# non-vectorized version\n",
    "i = 0 \n",
    "yexp = []\n",
    "\n",
    "# we will use an exponential with a slower rate of decrease\n",
    "# as q(x)\n",
    "beta2 = 1.01*beta \n",
    "m = 1.1*beta2/beta\n",
    "\n",
    "itr = 0\n",
    "while i < nr:\n",
    "    itr += 1\n",
    "    xd = np.random.uniform(0., 1.,size=1)\n",
    "    xr = invcdf_exp(xd, beta2)\n",
    "    yd = np.random.uniform(0., 1.0)\n",
    "    if yd <= pdf_exp(xr,beta)/(m*pdf_exp(xr,beta2)):\n",
    "        yexp.append(xr)\n",
    "        i += 1\n",
    "     \n",
    "yexp = np.ravel(yexp)\n",
    "print(\"selected sample of %d exponentially distributed numbers out of %d\"%(np.size(yexp), itr))"
   ]
  },
  {
   "cell_type": "code",
   "execution_count": 108,
   "id": "60df56ee",
   "metadata": {
    "slideshow": {
     "slide_type": "slide"
    }
   },
   "outputs": [
    {
     "data": {
      "image/png": "[encoded data removed]",
      "text/plain": [
       "<Figure size 600x600 with 1 Axes>"
      ]
     },
     "metadata": {
      "needs_background": "light"
     },
     "output_type": "display_data"
    }
   ],
   "source": [
    "plot_pdf(yexp, func=exp_pdf, label='improved rejection method', args=[beta,], \n",
    "         xlims=[0,3], ylims=[1.e-3,5], figsize=3)"
   ]
  },
  {
   "cell_type": "code",
   "execution_count": 111,
   "id": "d25f982d",
   "metadata": {
    "slideshow": {
     "slide_type": "slide"
    }
   },
   "outputs": [
    {
     "name": "stdout",
     "output_type": "stream",
     "text": [
      "selected sample of 97926 exponentially distributed numbers out of 100000\n"
     ]
    }
   ],
   "source": [
    "nr = 100000\n",
    "\n",
    "#a vectorized (numpy) version without loops\n",
    "beta2 = 1.01*beta # exponential with a slower rate of decrease\n",
    "m = 1.01*beta2/beta # a factor to make sure that M*g(x) > f(x) everywhere\n",
    "\n",
    "xrnd = np.random.uniform(0., 1., nr)\n",
    "xd = invcdf_exp(xrnd, beta2)\n",
    "yrnd = np.random.uniform(0., 1., nr)\n",
    "yexp = xd[(yrnd <= pdf_exp(xd, beta)/(m * pdf_exp(xd, beta2)))] \n",
    "\n",
    "print(\"selected sample of %d exponentially distributed numbers out of %d\"%(np.size(yexp), Nrnd))\n"
   ]
  },
  {
   "cell_type": "code",
   "execution_count": 116,
   "id": "fc24bc73",
   "metadata": {
    "slideshow": {
     "slide_type": "slide"
    }
   },
   "outputs": [
    {
     "data": {
      "image/png": "[encoded data removed]",
      "text/plain": [
       "<Figure size 600x600 with 1 Axes>"
      ]
     },
     "metadata": {
      "needs_background": "light"
     },
     "output_type": "display_data"
    }
   ],
   "source": [
    "plot_pdf(yexp, func=exp_pdf, label='improved rejection method', args=[beta,], \n",
    "         xlims=[0,4], ylims=[1.e-6,5], figsize=3)"
   ]
  }
 ],
 "metadata": {
  "kernelspec": {
   "display_name": "Python 3 (ipykernel)",
   "language": "python",
   "name": "python3"
  },
  "language_info": {
   "codemirror_mode": {
    "name": "ipython",
    "version": 3
   },
   "file_extension": ".py",
   "mimetype": "text/x-python",
   "name": "python",
   "nbconvert_exporter": "python",
   "pygments_lexer": "ipython3",
   "version": "3.9.7"
  }
 },
 "nbformat": 4,
 "nbformat_minor": 5
}
