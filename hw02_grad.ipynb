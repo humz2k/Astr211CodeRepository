{
 "cells": [
  {
   "cell_type": "markdown",
   "metadata": {
    "id": "lgTo8qRPumw6"
   },
   "source": [
    "## <font color='darkblue'> ASTR 31200\n",
    "\n",
    "## <font color='darkblue'> Homework Assignment 2\n",
    "    \n",
    "## <font color='darkblue'> Graduate student version \n",
    " \n",
    "## <font color='darkblue'> 45 points + 10 extra-credit\n",
    "\n",
    "### <font color='darkblue'> Distributed: Thursday, April 7\n",
    "\n",
    "### <font color='darkblue'> Due: Wednesday, Apr 13, 10pm"
   ]
  },
  {
   "cell_type": "code",
   "execution_count": null,
   "metadata": {
    "id": "sWslcJJXumxC"
   },
   "outputs": [],
   "source": [
    "import numpy as np \n",
    "\n",
    "# use jupyter \"magic\" command to tell it to embed plot into the notebook \n",
    "import matplotlib.pyplot as plt\n",
    "from codes.plotting import plot_prettier()\n",
    "%matplotlib inline\n",
    "\n",
    "    \n",
    "plot_prettier()"
   ]
  },
  {
   "cell_type": "markdown",
   "metadata": {
    "id": "VEHVTRVwumxS"
   },
   "source": [
    "## <font color='darkblue'> Exercise 1: implementing Romberg integration scheme (25 points)\n",
    "\n",
    "Implement a function that estimates integral $\\int_a^b f(x)dx$ using Romberg integration method with error better than specified tolerance level, as in the task 1b above, but using $R_{m+1}$ and $R_{m}$ instead of $R_1$ and $T$. (20 points)\n",
    "    \n",
    "Test your function by computing $$\\int_0^1 e^x dx$$ and computing fractional error of the numerical relative to exact value ($=e-1$) similarly to how this was done in <tt><a href=\"https://drive.google.com/file/d/1xEwp9PtRM0uQ995nRkIRqA1KuUDoxptZ/view?usp=sharing\">04_integration</a></tt> notebook for trapezoidal integration function. (1 point)\n",
    "\n",
    "Plot the fractional error you get for your integral, as a function of input rtol value to demonstrate that your result is as accurate or better than specified (4 points).     \n",
    "   "
   ]
  },
  {
   "cell_type": "markdown",
   "metadata": {},
   "source": [
    "## <font color='darkblue'>Exercise 2 (10 points): implementing and testing a function to compute luminosity distance $d_L$"
   ]
  },
  {
   "cell_type": "markdown",
   "metadata": {
    "id": "KpirwajAumxR"
   },
   "source": [
    "\n",
    "**2a (7 points).** Use the function you implemented in exercise 1 to implement a function to compute cosmological distance $d_L$ for a range of redshift values $z$ (for example, $z\\in[0,3]$. Expressions for $d_L$ for different values of $\\Omega_{\\rm m0}$ and $\\Omega_\\Lambda$ are provided below. \n",
    "\n",
    "\n",
    "    def d_L(z, rtol=1.e-6, H0=70.0, Om0=0.3, OmL=0.7):\n",
    "        '''\n",
    "        Estimate luminosity distance for an object with redshift z and values of cosmological parameters, H0, Om0, OmL\n",
    "        \n",
    "        Parameters:\n",
    "        -----------\n",
    "        z - float(s), a single redshift or a list/numpy array redshift values\n",
    "        rtol - fractional error tolerance to be passed to integrate function to ensure that fractional error of the\n",
    "               estimate is smaller than rtol (for rtol>2e-16)\n",
    "               \n",
    "        H0  - float, keyword parameter holding default value of the Hubble constant in km/s/Mpc\n",
    "        Om0 - float, keyword parameter holding default value of the dimensionless mean matter density in the universe \n",
    "              (density in units of the critical density value). Default value is 0.3, reasonable range is [0,2]\n",
    "        OmL - float, keyword parameter holding default value of the dimensionless dark energy density in the universe \n",
    "              (density in units of the critical density value). Default value is 0.7.\n",
    "        \n",
    "        Returns:\n",
    "        --------\n",
    "        d_L - float(s), a single estimate of d_L in Megaparsecs for a single or a vector d_L for input vector z\n",
    "        '''\n",
    "\n",
    "***Note*** that there are two parts here: implementation (2a) and testing (2b). \n",
    "\n",
    "***Note:*** If you did not manage to get the integration function working in exercise 1, you can use SciPy's function <a href=\"https://docs.scipy.org/doc/scipy/reference/generated/scipy.integrate.romberg.html\"><tt>scipy.integrate.romberg</tt></a>, as shown above, here to compute $d_L$. \n"
   ]
  },
  {
   "cell_type": "markdown",
   "metadata": {
    "id": "zPPMqPL0cStz"
   },
   "source": [
    "#### Mathematical expressions for $d_L$ \n",
    "\n",
    "Below are mathematical expressions for the distance of an object observed with spectral redshift $z$ assuming cosmological parameters: $H_0$ (Hubble constant), $\\Omega_{\\rm 0}$ (dimensionless mean matter density), $\\Omega_\\Lambda$ (dimensionless mean density of dark energy). \n",
    "    \n",
    "\n",
    "#### $d_L$ for  models with $\\Omega_\\Lambda= 0$ \n",
    "For the models with $\\Omega_\\Lambda=0$ the integral above does have mathematical solution in \"closed form\" (an equation can be written out for the integral) which gives the following expression:\n",
    "    \n",
    "$$d_L = \\frac{c}{H_0}\\, z\\left[1 + \\frac{(1-q_0)z}{1+q_0z+\\sqrt{1+2q_0z}}\\right],$$\n",
    "\n",
    "where $q_0=\\Omega_{\\rm m0}/2$ is the *deceleration parameter* and $\\Omega_{\\rm m0}$ is the mean density of *matter* in the universe.\n",
    "\n",
    "#### $d_L$ for general models with $\\Omega_\\Lambda\\ne 0$ \n",
    "\n",
    "Denoting the integral we need to estimate as \n",
    "$$d_c =\\int\\limits_0^z \\frac{dx}{E(x)}.$$\n",
    "    \n",
    "where $E(x)=\\sqrt{\\Omega_{\\rm m0}(1+x)^3+\\Omega_k(1+x)^2+\\Omega_\\Lambda}.$\n",
    "\n",
    "expression for $d_L$ for general models with $\\Omega_\\Lambda\\ne 0$: \n",
    "\n",
    "$$\n",
    "d_L(z, H_0,\\Omega_{\\rm m0},\\Omega_\\Lambda) = \\frac{c}{H_0}\\,(1+z)\\,\\left\\{\n",
    "\\begin{array}{ll}\n",
    "\\frac{1}{\\sqrt{\\Omega_k}}\\,\\sinh\\left[\\sqrt{\\Omega_k}\\,d_{\\rm c}\\right] & {\\rm for}~\\Omega_k>0 \\\\\n",
    "d_{\\rm c} & {\\rm for}~\\Omega_k=0 \\\\\n",
    "\\frac{1}{\\sqrt{|\\Omega_k|}}\\,\\sin\\left[\\sqrt{|\\Omega_k|}\\,d_{\\rm c}\\right] & {\\rm for}~\\Omega_k<0\n",
    "\\end{array}\n",
    "\\right.\n",
    "$$\n",
    "\n",
    "where $\\Omega_k = 1-\\Omega_{\\rm m0} - \\Omega_\\Lambda$, $c=2.99792458\\times 10^5$ km/s is speed of light in km/s, $H_0$ is the Hubble constant in km/s/Mpc (current observations indicate that $H_0$ is close to $70$ km/s although values between 65 and 74 are possible. \n"
   ]
  },
  {
   "cell_type": "markdown",
   "metadata": {},
   "source": [
    "Here are numpy functions that can be used to compute mathematical functions involved: absolute value <tt><a href=\"https://numpy.org/doc/stable/reference/generated/numpy.absolute.html\">np.abs</a></tt> (this is shorthand for np.absolute), hyperbolic sine <tt><a href=\"https://numpy.org/doc/stable/reference/generated/numpy.sinh.html\">np.sinh</a></tt>, sine <tt><a href=\"https://numpy.org/doc/stable/reference/generated/numpy.sin.html\">np.sin</a></tt>."
   ]
  },
  {
   "cell_type": "code",
   "execution_count": null,
   "metadata": {
    "id": "7mZCoupWcStz"
   },
   "outputs": [],
   "source": [
    "def d_L_no_de(z, H0, Om0, clight = 2.99792458e5):\n",
    "    '''\n",
    "    function estimating d_L in Mpc, works only for models with OmL = 0\n",
    "    \n",
    "    Parameters:\n",
    "    -----------\n",
    "        z - float(s), a float or a numpy vector of floats containing redshift(s) for which to compute d_L\n",
    "        H0 - Hubble constant in km/s/Mpc\n",
    "        Om0 - dimensionless mean matter density in units of the critical density\n",
    "        \n",
    "    Returns:\n",
    "    --------\n",
    "        d_L - float(s), float or numpy vector of floats containing d_L in Mpc for inpute value(s) of z\n",
    "\n",
    "    '''\n",
    "    assert(Om0 >=0)\n",
    "    q0 = 0.5 * Om0\n",
    "    q0z = q0 * z\n",
    "    return clight * z/H0 * (1. + (z-q0z) / (1. + q0z + np.sqrt(1. + 2.*q0z)))  "
   ]
  },
  {
   "cell_type": "markdown",
   "metadata": {},
   "source": [
    "**2b (3 points).** Test your function by comparing it to the estimates using AstroPy function for several pairs of $\\Omega_{\\rm m0}$ and $\\Omega_\\Lambda$: $[0.3, 0.7]$, $[0.1,0.9]$, $[0.8,0.1]$, as shown below. "
   ]
  },
  {
   "cell_type": "code",
   "execution_count": 13,
   "metadata": {},
   "outputs": [
    {
     "name": "stdout",
     "output_type": "stream",
     "text": [
      "z = 0.000;  distance_astropy =     0.00000 Mpc\n",
      "z = 0.158;  distance_astropy =   754.40272 Mpc\n",
      "z = 0.316;  distance_astropy =  1647.56015 Mpc\n",
      "z = 0.474;  distance_astropy =  2655.32684 Mpc\n",
      "z = 0.632;  distance_astropy =  3757.26372 Mpc\n",
      "z = 0.789;  distance_astropy =  4936.75630 Mpc\n",
      "z = 0.947;  distance_astropy =  6180.60449 Mpc\n",
      "z = 1.105;  distance_astropy =  7478.42369 Mpc\n",
      "z = 1.263;  distance_astropy =  8822.05081 Mpc\n",
      "z = 1.421;  distance_astropy = 10205.03607 Mpc\n",
      "z = 1.579;  distance_astropy = 11622.23867 Mpc\n",
      "z = 1.737;  distance_astropy = 13069.51698 Mpc\n",
      "z = 1.895;  distance_astropy = 14543.49542 Mpc\n",
      "z = 2.053;  distance_astropy = 16041.39021 Mpc\n",
      "z = 2.211;  distance_astropy = 17560.87916 Mpc\n",
      "z = 2.368;  distance_astropy = 19100.00391 Mpc\n",
      "z = 2.526;  distance_astropy = 20657.09595 Mpc\n",
      "z = 2.684;  distance_astropy = 22230.72025 Mpc\n",
      "z = 2.842;  distance_astropy = 23819.63177 Mpc\n",
      "z = 3.000;  distance_astropy = 25422.74175 Mpc\n"
     ]
    }
   ],
   "source": [
    "from astropy.cosmology import LambdaCDM\n",
    "import astropy.units as u\n",
    "\n",
    "def d_l_astropy(z, H0, Om0, OmL):\n",
    "    cosmo = LambdaCDM(H0=H0, Om0=Om0, Ode0=OmL)\n",
    "    return cosmo.luminosity_distance(z=z) / u.Mpc\n",
    "\n",
    "Om0 = 0.3; OmL = 0.7; H0 = 70.\n",
    "\n",
    "zmin, zmax, nz = 0, 3, 20\n",
    "z = np.linspace(zmin, zmax, nz) # evenly spaced grid of z values \n",
    "# astropy allows to process a vector of z values in one call \n",
    "d_la = d_l_astropy(z, H0, Om0, OmL)\n",
    "\n",
    "for i, zd in enumerate(z): \n",
    "    # output using f-string formatting \n",
    "    # add outout of d_L estimate using your integration func\n",
    "    print(f'z = {zd:.3f};  distance_astropy = {d_la[i]:>11.5f} Mpc')"
   ]
  },
  {
   "cell_type": "markdown",
   "metadata": {},
   "source": [
    "## <font color='darkblue'>Exercise 3 (5 points): using $d_L$ calculation to compute distance modulus of supernovae Type Ia\n",
    "    \n",
    "The code snippet below reads data from the study of <a href=\"https://ui.adsabs.harvard.edu/abs/2014A%26A...568A..22B/abstract\">Betoule et al. (2014)</a>, which was downloaded <a href=\"http://supernovae.in2p3.fr/sdss_snls_jla/ReadMe.html\">here</a>. The function uses numpy loadtxt function, which allows to read well formatted columns of data in the ASCII format easily. \n",
    "    \n",
    "    After reading numpy array <tt>zsn</tt> contains redshifts of 740 supernovae, while arrays <tt>msn</tt>, $m$, and <tt>emsn</tt> contain measured apparent magnitudes and their uncertainties\n",
    "    \n",
    "    \n",
    "Distance modulus is defined as \n",
    "    \n",
    "$$\\mu = m - M = 5\\log_{10}d_L(z,H_0,\\Omega_{\\rm m0},\\Omega_\\Lambda) + 25.$$\n",
    "\n",
    "where $d_L$ is distance in Megaparsecs and $M$ is the absolute magnitude of the supernovae (this is the magnitude supernova would have at a fixed distance of 10 parsecs). For this exercise we will assume that supernovae are perfect standard candles, which means that $M$ has a single value for all of them. This means that we should be able to predict what apparent magnitudes of supernovae should be at different redshifts: \n",
    "    \n",
    "$$m_{\\rm pred} = M + 5\\log_{10}d_L(z,H_0,\\Omega_{\\rm m0},\\Omega_\\Lambda) + 25.$$\n",
    "    \n",
    "**Task** plot supernovae data as a scatter of points in the $m-z$ plane and plot $m_{\\rm pred}(z)$ for a grid of $z$ values in the range $z\\in [0,2]$ as a line. Add a legend to your plot that describes points and the line. You should write your own Matplotlib code and *not* use function <tt>plot_line_points</tt> in <tt>codes.plotting</tt>, although you are welcome to consult it for example of how to make such plots. \n",
    "    \n",
    " Make sure your plot is sufficiently large, axes are labeled and font size in the axis labels and legend is sufficiently large to be legible. You can use <tt>codes.plotting.plot_prettier</tt> function to set up Matplotlib environment for good plotting, but adjust <tt>figsize</tt> of your plot, as needed. You can find examples of plots that have good size and font sizes in the distributed notebooks. \n",
    "    \n",
    "    \n",
    "Try different values of $M$ in the range from 0 to -25, and values of $\\Omega_{\\rm m0}$ and $\\Omega_\\Lambda$ in the range $[0,1]$, while keeping $H_0=70$ and try to find a combination of $M$, $\\Omega_{\\rm m0}$ and $\\Omega_\\Lambda$ for which the line matches the supernova data best. Plot a plot of $m-z$ described above for this parameter combination. \n",
    "    \n",
    "Summarize your conclusions and quote the best values of $M$, $\\Omega_{\\rm m0}$ and $\\Omega_\\Lambda$ that you found. \n",
    "    "
   ]
  },
  {
   "cell_type": "markdown",
   "metadata": {},
   "source": [
    "***Note:*** Useful Matlotlib and numpy functions: <tt>np.linspace, plt.xlabel, plt.ylabel, plt.scatter, plt.plot, plt.legend</tt>\n",
    "    \n",
    "***Note:*** If you did not complete implementation of functions in the previous exercises you can use AstroPy function to compute $d_L$ to do this exercise. "
   ]
  },
  {
   "cell_type": "code",
   "execution_count": 149,
   "id": "f4751a86",
   "metadata": {
    "slideshow": {
     "slide_type": "skip"
    }
   },
   "outputs": [],
   "source": [
    "def read_jla_data(sn_list_name = None):\n",
    "    \"\"\"\n",
    "    read in table with the JLA supernova type Ia sample\n",
    "    \n",
    "    Parameters\n",
    "    ----------\n",
    "    sn_list_name: str\n",
    "        path/file name containing the JLA data table in ASCII format\n",
    "        \n",
    "    Returns\n",
    "    -------\n",
    "    zsn, msn, emsn - numpy float vectors containing \n",
    "                       zsn: SNIa redshifts in the CMB frame\n",
    "                       msn, emsn: apparent B-magnitude and its errors\n",
    "    \"\"\"\n",
    "    zsn, msn, emsn = np.loadtxt(sn_list_name, usecols=(1, 4, 5),  unpack=True)\n",
    "\n",
    "    return zsn, msn, emsn\n"
   ]
  },
  {
   "cell_type": "code",
   "execution_count": 275,
   "id": "6aeeb928",
   "metadata": {
    "slideshow": {
     "slide_type": "-"
    }
   },
   "outputs": [
    {
     "name": "stdout",
     "output_type": "stream",
     "text": [
      "read sample of 740 supernovae...\n"
     ]
    }
   ],
   "source": [
    "# read vectors of redshifts, apparent magnitude in B-band, mB, and its uncertainty emB:\n",
    "zsn, msn, emsn = read_jla_data(sn_list_name = 'https://astro.uchicago.edu/~andrey/classes/a211/data/jla_lcparams.txt')\n",
    "nsn = np.size(zsn)\n",
    "print(\"read sample of %d supernovae...\"%(nsn))"
   ]
  },
  {
   "cell_type": "code",
   "execution_count": null,
   "metadata": {},
   "outputs": [],
   "source": []
  },
  {
   "cell_type": "markdown",
   "metadata": {},
   "source": [
    "## <font color='darkblue'>Exercise 4 (5 points + 10 extra-points): finite difference estimate of the first derivative \n",
    "\n",
    "<b>1a. (5 points)</b> <i>Finite differences.</i></b> Consider a finite difference scheme for the first derivative at a point $x_i$:\n",
    "$$f^\\prime(x)\\approx \\frac{f(x_{i+1})-f(x_{i-1})}{x_{i+1}-x_{i-1}}.$$ \n",
    "\n",
    "This scheme is second order-accurate if $x_{i+1}-x_{i}=x_{i}-x_{i-1}={\\rm const}=h$. What is the order of this scheme in the case of non-constant spacing (i.e., $x_{i+1}-x_{i}\\ne x_{i}-x_{i-1}$)? \n",
    "Derive the second order scheme for such a case and comment on what is different compared to the above scheme for constant $h$.\n",
    "\n",
    "<b>1b. Extra credit 10 points:</b>\n",
    "Implement the function\n",
    "\n",
    "    def find_difference_scheme(derivative_order, accuracy_order, p):\n",
    "        \"\"\"\n",
    "        Returns an array of the coefficients for an arbitrarily-accurate\n",
    "        finite difference scheme that approximates a derivative of arbitrary\n",
    "        order for a particular location in a point stencil.\n",
    "        \n",
    "        derivative_order = integer, \n",
    "                            order of the derivative for which finite difference scheme is to be found\n",
    "        \n",
    "        accuracy order = integer, \n",
    "                        order of the leading truncation term of the scheme \n",
    "                        note that number o points in the stencil < derivative_order+accuracy order\n",
    "                        \n",
    "        p = integer, \n",
    "            the order of the point in the stencil for which scheme is to be found; \n",
    "           \n",
    "        \"\"\"\n",
    "\n",
    "<b>Hints:</b> Use equations 2.13-2.14 at the end of S 2.1.2 in my <a href=\"http://astro.uchicago.edu/~andrey/classes/a330/notes.pdf\">notes.</a> Make sure to handle edges correctly.\n",
    "\n",
    "<b>Required tests and follow up questions:</b> Test this by computing the 2nd order-accurate 2nd derivative scheme and 4th order-accurate 1st derivative scheme described in S 2.1.2 of the notes. Next, use the code to calculate coefficients of the 2nd difference scheme for $f^\\prime(x)$ for the point at the edges of the stencil, rather than for the central point as in the difference above. "
   ]
  }
 ],
 "metadata": {
  "colab": {
   "name": "hw04_solutions.ipynb",
   "provenance": []
  },
  "kernelspec": {
   "display_name": "Python 3 (ipykernel)",
   "language": "python",
   "name": "python3"
  },
  "language_info": {
   "codemirror_mode": {
    "name": "ipython",
    "version": 3
   },
   "file_extension": ".py",
   "mimetype": "text/x-python",
   "name": "python",
   "nbconvert_exporter": "python",
   "pygments_lexer": "ipython3",
   "version": "3.9.7"
  }
 },
 "nbformat": 4,
 "nbformat_minor": 1
}
