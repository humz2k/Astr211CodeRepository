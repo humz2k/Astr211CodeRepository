{
 "cells": [
  {
   "cell_type": "markdown",
   "id": "617cb539",
   "metadata": {
    "slideshow": {
     "slide_type": "slide"
    }
   },
   "source": [
    "<center>\n",
    "    \n",
    "## <font color='maroon'>ASTR 21100/31200</font>\n",
    "## <font color='maroon'>Computational techniques in astrophysics<br></font>\n",
    "\n",
    "## <font color='maroon'>Numerical computation of integrals<br></font>\n",
    "</center>\n",
    "\n",
    "\n",
    "\n",
    "### Instructor: \n",
    "Andrey Kravtsov (email: <tt>kravtsov@uchicago.edu</tt>)\n",
    "Professor,<br> Department of Astronomy & Astrophysics"
   ]
  },
  {
   "cell_type": "markdown",
   "id": "477b1e73",
   "metadata": {
    "slideshow": {
     "slide_type": "slide"
    }
   },
   "source": [
    "### <font color='darkblue'>We will consider specific examples where derivatives and integrals need to be computed numerically \n",
    "\n",
    "For the integration example, we will spectically consider how to compute distance modulus of supernovae type Ia stars vs the shift of their spectral lines (redshift) - namely how to compute a line shown in the plot below from a recent paper. If you are not familiar with these astro terms, don't be scared! First, you can find background information about distance measurements in the auxiliary notebook 03b_cosmological_distances. Second, even if you don't understand the astro meaning of the computed quantity, you can think of it as simply computing an integral of an algebraic function for which no simple integral solution exists. \n",
    "\n",
    "Comparison of models to data shown in this plot  from <a href=\"https://ui.adsabs.harvard.edu/abs/2012ApJ...746...85S/abstract\">Suzuki et al. 2012</a>, which uses many observational samples of <a href=\"https://en.wikipedia.org/wiki/Type_Ia_supernova\">type Ia supernovae</a>, allows us to learn about the contents of our Universe.\n",
    "\n",
    "<br>\n",
    "<center><img width=500 src=\"https://astro.uchicago.edu/~andrey/classes/a211/img/suzuki_etal12_hubble_diagram.png\"></img></center>\n",
    "    \n"
   ]
  },
  {
   "cell_type": "markdown",
   "id": "79f2c240",
   "metadata": {
    "slideshow": {
     "slide_type": "slide"
    }
   },
   "source": [
    "### <font color='darkblue'>The distance modulus\n",
    "\n",
    "The *distance modulus* - the difference of the observed *apparent magnitude* $m$ and *absolute magnitude* $M$ is a function of distance $d_L$ to the object (see <a href=\"https://drive.google.com/file/d/15xe3tfourEjM0xFhzJhLDxobnOwl34pA/view?usp=sharing\">03b_cosmological_distances</a> notebook): \n",
    "\n",
    "$$\\mu = m - M = 5\\log_{10}d_L(z) + 25.$$\n",
    "\n",
    "where $d_L(z, H_0, \\Omega_{\\rm m}, \\Omega_\\Lambda)$ is in Megaparsecs, which depends on redshift $z$ and cosmological parameters describing our Universe: the Hubble constant, dimensionless mean density of matter $\\Omega_{\\rm m}$, and dimensionless mean density of dark energy \\Omega_\\Lambda. \n",
    "    "
   ]
  },
  {
   "cell_type": "markdown",
   "id": "87b3bfc8",
   "metadata": {
    "slideshow": {
     "slide_type": "skip"
    }
   },
   "source": [
    "### <font color='darkblue'>What is integration?\n",
    "\n",
    "Numerical integration of a function, $f(x,\\ldots)$ over a single variable, $x$ (1d integration) over interval $[a,b]$:\n",
    "\n",
    "$$\\int\\limits_a^b f(x) dx,$$\n",
    "\n",
    "is evaluation of the area under $f(x)$, in which regions of $f(x)<0$ contribute negative areas and regions of $f(x)>0$ contribute positive areas. For example, $\\int_0^{2\\pi}\\cos x\\,dx = 0$ because it includes equal contributions from the negative and positive values of cosine. "
   ]
  },
  {
   "cell_type": "markdown",
   "id": "e4aa123c",
   "metadata": {
    "slideshow": {
     "slide_type": "skip"
    }
   },
   "source": [
    "If an integral has \"analytic expression\" or, as is often said, \"can be expressed in closed form,\" we can simply use such expression to evaluate it. \n",
    "\n",
    "For example, $\\int \\sin x\\,dx = -\\cos x + {\\rm const}$, and so \n",
    "\n",
    "$$\\int\\limits_0^{\\pi}\\sin x\\,dx = -\\cos\\pi +\\cos 0 = 1 + 1 =2.$$ "
   ]
  },
  {
   "cell_type": "markdown",
   "id": "ec1ebb16",
   "metadata": {
    "slideshow": {
     "slide_type": "skip"
    }
   },
   "source": [
    "### <font color='darkblue'>Numerical integration is often called numerical *quadrature*\n",
    "\n",
    "The origin of this term goes back to the Greek philosopher/mathematician <a href=\"https://plato.stanford.edu/entries/anaxagoras/\">Anaxagoras</a>, who lived in the 5th century BC and was inprisoned for claiming that the Sun is not a god, but a hot, flowing stone in space and occupied his time in prison trying to solve the problem of finding a side length of a square that had the same area as a circle (i.e. he was trying <a href=\"https://en.wikipedia.org/wiki/Squaring_the_circle\">\"to square a circle\"</a> - the problem that occupied many mathematicians after Anaxagoras). \n",
    "\n",
    "More generally, one can think of computing $\\int_a^b f(x)dx$ as finding side lengths of quadrangle that has the same area as the area under the curve $f(x)$ for $x\\in [a,b]$. Hence, the term *quadrature* and <tt>QUAD</tt> in the name of <tt>QUADPACK</tt> library. \n",
    "\n",
    "If we take one of the quadrangle sides to be $(b-a)$, then the integration is the problem of finding the length of the other side, which can be thought of some sort of weighted average of $f(x)$ over the interval $[a,b]$. "
   ]
  },
  {
   "cell_type": "markdown",
   "id": "141441fd",
   "metadata": {
    "slideshow": {
     "slide_type": "slide"
    }
   },
   "source": [
    "We can explore integration function in the <a href=\"https://docs.scipy.org/doc/scipy/reference/integrate.html\">scipy.integrate</a> package.\n",
    "\n",
    "For example, let's check the integration for an integral, for which we know the exact answer:\n",
    "\n",
    "$$\\int\\limits_0^1 e^x\\, dx=e^x\\vert_0^1=e - 1$$"
   ]
  },
  {
   "cell_type": "code",
   "execution_count": 1,
   "id": "599c3670",
   "metadata": {
    "slideshow": {
     "slide_type": "fragment"
    }
   },
   "outputs": [
    {
     "name": "stdout",
     "output_type": "stream",
     "text": [
      "integral = 1.718; frac. error = 2.22045e-16\n"
     ]
    }
   ],
   "source": [
    "# check using numerical integration\n",
    "import numpy as np\n",
    "from scipy.integrate import romberg\n",
    "\n",
    "integral = romberg(np.exp, 0., 1., tol=2.e-17, rtol=2.e-17) \n",
    "fracerr = integral/(np.exp(1)-1) - 1.\n",
    "print('integral = {:.4g}; frac. error = {:4g}'.format(integral, fracerr))"
   ]
  },
  {
   "cell_type": "markdown",
   "id": "9e386d56",
   "metadata": {
    "slideshow": {
     "slide_type": "fragment"
    }
   },
   "source": [
    "<tt>frac. error</tt> here is a *fractional error* of the integral estimated using a numerical method:\n",
    "\n",
    "$$\\epsilon = \\frac{A_{\\rm numerical} - A_{\\rm exact}}{A_{\\rm exact}} = \\frac{A_{\\rm numerical}}{A_{\\rm exact}}-1$$"
   ]
  },
  {
   "cell_type": "markdown",
   "id": "b84b44b5",
   "metadata": {
    "slideshow": {
     "slide_type": "slide"
    }
   },
   "source": [
    "The simplest approach: approximate the integral as area under the rectangle with vertices $[a,0]$, $[a, \\bar{f}]$, $[b,\\bar{f}]$, $[b,0]$ where \n",
    "\n",
    "$$\\bar{f}=\\frac{1}{n_{\\rm steps}}\\,\\sum\\limits_{i=0}^{n_{\\rm steps}-1}f(x_i)$$\n",
    "is approximation for the function average over the interval\n",
    "\n",
    "$$\\int_a^b f(x) dx\\approx \\bar{f}(b-a)=\\frac{b-a}{n_{\\rm steps}}\\,\\sum\\limits_{i=0}^{n_{\\rm steps}-1}f(x_i).$$\n",
    "\n",
    "$x_i$ are evenly spaced  $n_{\\rm steps}$ values of the function."
   ]
  },
  {
   "cell_type": "code",
   "execution_count": 2,
   "id": "d6c133b3",
   "metadata": {
    "slideshow": {
     "slide_type": "slide"
    }
   },
   "outputs": [
    {
     "name": "stdout",
     "output_type": "stream",
     "text": [
      "estimated integral = 1.75; exact integral = 1.72\n",
      "fractional error = 0.01644\n"
     ]
    }
   ],
   "source": [
    "# break interval [a,b] into nsteps subintervals\n",
    "a, b, nsteps = 0., 1., 6\n",
    "xi = np.linspace(a, b, nsteps)\n",
    "integral = (b-a) * np.sum(np.exp(xi)) / nsteps # approximate calculation of the integral\n",
    "\n",
    "print('estimated integral = {:.3g}; exact integral = {:.3g}'.format(integral, np.exp(b)-np.exp(a)))\n",
    "fracerr = integral / (np.exp(b)-np.exp(a)) - 1.\n",
    "print('fractional error = {:.4g}'.format(fracerr))"
   ]
  },
  {
   "cell_type": "code",
   "execution_count": 3,
   "id": "d40c767b",
   "metadata": {},
   "outputs": [],
   "source": [
    "from matplotlib import pylab as plt\n",
    "from codes.plotting import plot_prettier\n",
    "\n",
    "plot_prettier()"
   ]
  },
  {
   "cell_type": "markdown",
   "id": "eefc3824",
   "metadata": {},
   "source": [
    "In the plot below the area of the rectangle is an approximation of the area under the blue curve over the interval $[a,b]=[0,1]$. "
   ]
  },
  {
   "cell_type": "code",
   "execution_count": 4,
   "id": "d13cccad",
   "metadata": {
    "slideshow": {
     "slide_type": "slide"
    }
   },
   "outputs": [
    {
     "data": {
      "image/png": "[encoded data removed]",
      "text/plain": [
       "<Figure size 600x600 with 1 Axes>"
      ]
     },
     "metadata": {
      "needs_background": "light"
     },
     "output_type": "display_data"
    }
   ],
   "source": [
    "xg = np.linspace(a, b, 100) # generate a finer grid of evenly spaced values\n",
    "\n",
    "plt.figure(figsize=(3,3))\n",
    "plt.xlabel('$x$'); plt.ylabel('$f(x)$')\n",
    "plt.plot(xg, np.exp(xg), lw=2., color='indigo') # plot sin(x)\n",
    "# fill_between function creates a shaded area\n",
    "plt.fill_between(xg, np.zeros_like(xg), np.exp(xg), color='darkslateblue', alpha=0.9) # shade area under sin(x)\n",
    "\n",
    "# shade area under <f> over [a, b] interval\n",
    "plt.fill_between(xi, np.zeros_like(xi), (integral/(b-a))*np.ones_like(xi), color='slateblue', alpha=0.5)\n",
    "plt.show()"
   ]
  },
  {
   "cell_type": "markdown",
   "id": "49f68d19",
   "metadata": {
    "slideshow": {
     "slide_type": "slide"
    }
   },
   "source": [
    "Geometrically, what we are doing here is approximating the function with $n_{\\rm steps}$ *piecewise-constant* bins (i.e. with a histogram of $n_{\\rm steps}$ bins)"
   ]
  },
  {
   "cell_type": "code",
   "execution_count": 5,
   "id": "73cfc046",
   "metadata": {
    "slideshow": {
     "slide_type": "skip"
    }
   },
   "outputs": [],
   "source": [
    "#\n",
    "# prepare a step-wise function for illustration\n",
    "#\n",
    "xir = np.repeat(xi,2) # repeat each xi value in the array \n",
    "fxir = np.zeros_like(xir)\n",
    "fxir[::2] = np.exp(xir[::2])\n",
    "fxir[1::2] = fxir[::2]\n",
    "dx = (b-a) / (nsteps-1) \n",
    "dxhalf = dx * 0.5"
   ]
  },
  {
   "cell_type": "code",
   "execution_count": 6,
   "id": "f348a73f",
   "metadata": {
    "slideshow": {
     "slide_type": "-"
    }
   },
   "outputs": [
    {
     "data": {
      "image/png": "[encoded data removed]",
      "text/plain": [
       "<Figure size 600x600 with 1 Axes>"
      ]
     },
     "metadata": {
      "needs_background": "light"
     },
     "output_type": "display_data"
    }
   ],
   "source": [
    "plt.figure(figsize=(3,3)) # define figure\n",
    "plt.xlabel('$x$'); plt.ylabel('$f(x)$')\n",
    "plt.plot(xg, np.exp(xg), lw=2., color='indigo')\n",
    "plt.fill_between(xg, np.zeros_like(xg), np.exp(xg), color='indigo', alpha=0.4)\n",
    "plt.fill_between(xir[1:], np.zeros_like(xir[1:]), fxir[:-1], color='purple', alpha=0.5)\n",
    "plt.show()"
   ]
  },
  {
   "cell_type": "markdown",
   "id": "1c13787d",
   "metadata": {
    "slideshow": {
     "slide_type": "skip"
    }
   },
   "source": [
    "We can see that piece-wise constant approximation (purple histogram-like function in the plot above) underestimates area under the curve. \n",
    "\n",
    "However, this also hints at a possible way to improve the estimate: instead of piece-wise constant approximation we can construct a *piece-wise linear* one, as shown in the plot below. "
   ]
  },
  {
   "cell_type": "markdown",
   "id": "3b1f7ad3",
   "metadata": {
    "slideshow": {
     "slide_type": "slide"
    }
   },
   "source": [
    "We can use a *piecewise-linear* approximation instead, in which subsequence $x_i$ values by a linear function instead of constant.. The approximation of the function is much better. This means that if sum up areas under the trapezoids formed by the vertices at which function is evaluated, we can approximate the integral much better.  This motivates *the trapezoidal* scheme of numerical integration below. "
   ]
  },
  {
   "cell_type": "code",
   "execution_count": 7,
   "id": "409f4eb2",
   "metadata": {
    "slideshow": {
     "slide_type": "fragment"
    }
   },
   "outputs": [
    {
     "data": {
      "image/png": "[encoded data removed]",
      "text/plain": [
       "<Figure size 600x600 with 1 Axes>"
      ]
     },
     "metadata": {
      "needs_background": "light"
     },
     "output_type": "display_data"
    }
   ],
   "source": [
    "plt.figure(figsize=(3,3))\n",
    "plt.xlabel('$x$'); plt.ylabel('$f(x)$')\n",
    "plt.fill_between(xg, np.zeros_like(xg), np.exp(xg), color='indigo', alpha=0.4)\n",
    "plt.fill_between(xi, np.zeros_like(xi), np.exp(xi), color='purple', alpha=0.5)\n",
    "plt.plot(xg, np.exp(xg), lw=2., color='indigo')\n",
    "plt.plot(xi, np.exp(xi), lw=1., color='m')\n",
    "plt.scatter(xi, np.exp(xi), s=20., color='m')\n",
    "plt.show()"
   ]
  },
  {
   "cell_type": "markdown",
   "id": "25d64bda",
   "metadata": {
    "slideshow": {
     "slide_type": "slide"
    }
   },
   "source": [
    "### <font color='darkblue'>The trapezoidal scheme\n",
    "\n",
    "The logic of the method called *trapezoidal integration scheme*, in which integrated function is approximated in each interval using a linear function, can be used to get reasonably accurate numerical integral estimate and easiest to remember. "
   ]
  },
  {
   "cell_type": "markdown",
   "id": "9d111a7b",
   "metadata": {
    "slideshow": {
     "slide_type": "skip"
    }
   },
   "source": [
    "Specifically, to evaluate integral of $f(x)$ (area under $f(x)$ for $x\\in[a,b]$):\n",
    "\n",
    "Split the integration interval into $N$ equal-size sub-intervals of size $h=(b-a)/N=x_{i+1}-x_i$. Note that for $N$ intervals, we will need to evaluate the function at $N+1$ points: for example, splitting $[a,b]$ into two sub-intervals requires evaluating the function at three points: $a$, $a+(b-a)/2$, and $b$. \n",
    "\n",
    "For convenience, let's denote $f_i = f(x_i)$, $f_{i+1}=f(x_{i+1})$, etc."
   ]
  },
  {
   "cell_type": "markdown",
   "id": "2b37edb5",
   "metadata": {
    "slideshow": {
     "slide_type": "fragment"
    }
   },
   "source": [
    "Approximate area under $f(x)$ in each interval, $A_i$, of width $h=x_{i+1}-x_i$ can then be approximated by the area $T_i$ of the trapezoid formed by vertices $(x_i, 0)$,  $(x_i, f_i)$, $(x_{i+1}, f_{i+1})$ and $(x_{i+1},0)$:\n",
    "\n",
    "$$T_i = \\frac{1}{2}(f_i + f_{i+1})\\, h.$$"
   ]
  },
  {
   "cell_type": "markdown",
   "id": "361feff1",
   "metadata": {
    "slideshow": {
     "slide_type": "slide"
    }
   },
   "source": [
    "The total area under $f(x)$ in the interval $[a,b]$ using $N+1$ function values ($N$ steps) is then:\n",
    "\n",
    "$$A = \\int\\limits_a^b f(x)\\, dx = \\sum\\limits_{i=0}^{N-1} A_i \\approx \\sum\\limits_{i=0}^{N-1} T_i= \\frac{h}{2}\\sum\\limits_{i=0}^{N-1}(f_i + f_{i+1}),$$\n",
    "$$ = h\\left[\\frac{1}{2}(f_0 + f_{N}) + \\sum\\limits_{i=1}^{N-1}f_i,\\right]$$"
   ]
  },
  {
   "cell_type": "markdown",
   "id": "3ec2e019",
   "metadata": {
    "slideshow": {
     "slide_type": "skip"
    }
   },
   "source": [
    "Let's check integration with an integral for which we know exact value: for example\n",
    "\n",
    "$$\\int\\limits _0^{1}e^x\\,dx = e-1 $$"
   ]
  },
  {
   "cell_type": "code",
   "execution_count": 8,
   "id": "2a79643b",
   "metadata": {
    "slideshow": {
     "slide_type": "slide"
    }
   },
   "outputs": [
    {
     "name": "stdout",
     "output_type": "stream",
     "text": [
      "fractional error = 0.0005786\n"
     ]
    }
   ],
   "source": [
    "nsteps = 12\n",
    "\n",
    "a, b, func = 0., 1., np.exp # approximate integral of sin(x) over [0, pi]\n",
    "hstep = (b - a) / nsteps\n",
    "\n",
    "# create a grid of evenly spaced x values \n",
    "xd = a + np.arange(1,nsteps) * hstep # np.arange creates a vector of values from 0 to nstep-1\n",
    "# this line computes the integral using trapezoidal integration \n",
    "integral = (0.5*(func(a) + func(b)) + np.sum(func(xd))) * hstep\n",
    "\n",
    "# compute exact integral and fractional error\n",
    "fexact = np.exp(b) - np.exp(a)\n",
    "ferr = integral/fexact - 1. # fractional error \n",
    "print('fractional error = {:.4g}'.format(ferr))"
   ]
  },
  {
   "cell_type": "markdown",
   "id": "cd12cd09",
   "metadata": {
    "slideshow": {
     "slide_type": "skip"
    }
   },
   "source": [
    "It is convenient to put this calculation into function that can be used to take integral of any input function. "
   ]
  },
  {
   "cell_type": "markdown",
   "id": "f3e615d6",
   "metadata": {
    "slideshow": {
     "slide_type": "skip"
    }
   },
   "source": [
    "$\\star$ in <tt>$^\\star$args</tt> indicates that what is passed is a *pointer* to memory location of the start of args, not the values of args elements themselves. The trapzd routine simply passes *args to function, which then interprets the content as the input parameters it expects. We don't have to pass anything to <tt>trapzd</tt> as args if function does not require any parameters, but only takes one input - variable on which it depends."
   ]
  },
  {
   "cell_type": "code",
   "execution_count": 9,
   "id": "9fc9aa18",
   "metadata": {
    "slideshow": {
     "slide_type": "skip"
    }
   },
   "outputs": [],
   "source": [
    "def trapzd(func, a, b, nsteps, *args):\n",
    "    \"\"\"\n",
    "    function implementing trapezoidal integration scheme using\n",
    "    numpy vector operations\n",
    "    \n",
    "    Parameters:\n",
    "    -----------------------------------------------------------\n",
    "    func: python function object\n",
    "          function to integrate, must take numpy arrays as input\n",
    "    a, b: floats\n",
    "          limits of the integral\n",
    "    hstep: float - the size of step to use \n",
    "    \n",
    "    args: parameters to be passed for func, if any \n",
    "    \n",
    "    Returns:\n",
    "    -------------------------------------------------------------\n",
    "    value of the estimated int^b_a f(x)dx\n",
    "    \"\"\"\n",
    "    assert(nsteps > 0); assert(a < b)\n",
    "    \n",
    "    hstep = (b - a) / nsteps\n",
    "      \n",
    "    if nsteps == 1:\n",
    "        return 0.5*(func(a, *args) + func(b, *args)) * hstep\n",
    "    else: \n",
    "        xd = a + np.arange(1,nsteps) * hstep # np.arange creates a vector of values from 0 to nstep-1\n",
    "        return (0.5*(func(a, *args) + func(b, *args)) + np.sum(func(xd, *args))) * hstep"
   ]
  },
  {
   "cell_type": "code",
   "execution_count": 10,
   "id": "545d795e",
   "metadata": {
    "slideshow": {
     "slide_type": "slide"
    }
   },
   "outputs": [
    {
     "name": "stdout",
     "output_type": "stream",
     "text": [
      "fractional error = 0.009242\n"
     ]
    }
   ],
   "source": [
    "# integrate exp(x) from a, b - exact integral = exp(b) - exp(a)\n",
    "a = 0.; b = 1.\n",
    "nsteps = 3\n",
    "trint = trapzd(np.exp, a, b, nsteps)\n",
    "\n",
    "fexact = np.exp(b) - np.exp(a)\n",
    "ferr = np.abs(trint/fexact - 1.) # fractional error \n",
    "print('fractional error = {:.4g}'.format(ferr))"
   ]
  },
  {
   "cell_type": "markdown",
   "id": "8c975b8a",
   "metadata": {
    "slideshow": {
     "slide_type": "slide"
    }
   },
   "source": [
    "It works! We have a working numerical integration function. \n",
    "\n",
    "\n",
    "### <font color='darkblue'>Practical applications and examples\n",
    "\n",
    "Let's use it to compute something useful like integral of the following function: \n",
    "\n",
    "$$d_c =(1+x)\\int\\limits_0^x \\frac{dx}{E(x)}.$$\n",
    "\n",
    "where $E(x)=\\sqrt{a(1+x)^3+b(1+x)^2+c}$, where $a$, $b$, $c$ are constants. \n"
   ]
  },
  {
   "cell_type": "code",
   "execution_count": 11,
   "id": "81e278da",
   "metadata": {
    "slideshow": {
     "slide_type": "fragment"
    }
   },
   "outputs": [],
   "source": [
    "def dl_func(x, a, b, c):\n",
    "    return 1.0 / np.sqrt(a*(1.+x)**3 + b*(1.+x)**2 + c)"
   ]
  },
  {
   "cell_type": "code",
   "execution_count": 12,
   "id": "ab7bfa83",
   "metadata": {
    "slideshow": {
     "slide_type": "slide"
    }
   },
   "outputs": [
    {
     "name": "stdout",
     "output_type": "stream",
     "text": [
      "27.263162459370243\n"
     ]
    }
   ],
   "source": [
    "a, b, c = 0.3, 0., 0.7\n",
    "args = [a, b, c]\n",
    "\n",
    "x = 11.09\n",
    "nsteps = 1000\n",
    "d_c = (1+x) * trapzd(dl_func, 0., x, nsteps, *args)\n",
    "print(d_c)"
   ]
  },
  {
   "cell_type": "markdown",
   "id": "5e73b403",
   "metadata": {
    "slideshow": {
     "slide_type": "skip"
    }
   },
   "source": [
    "Why is this useful? Because if I multiply this number by the speed of light in units of km/s and divide by what's known as the *Hubble constant* in units of km/s/Mpc, $H_0=70$ km/s/Mpc I will get distance $d_L$ to <a href=\"https://en.wikipedia.org/wiki/List_of_the_most_distant_astronomical_objects\">the most distant known galaxy</a> in Megaparsecs (Mpc is short for megaparsec). "
   ]
  },
  {
   "cell_type": "code",
   "execution_count": 13,
   "id": "da5a541c",
   "metadata": {
    "slideshow": {
     "slide_type": "fragment"
    }
   },
   "outputs": [
    {
     "name": "stdout",
     "output_type": "stream",
     "text": [
      "distance to galaxy at redshift 11.09 is 116761.29 Mpc\n",
      "light would travel this distance in 3.604e+10 years\n"
     ]
    }
   ],
   "source": [
    "clight = 2.99792458e5 # c in km/s\n",
    "H0 = 70 # Hubble constant in km/s/Mpc\n",
    "d_l = d_c * clight / H0\n",
    "\n",
    "print('distance to galaxy at redshift {:.2f} is {:.2f} Mpc'.format(x, d_l))\n",
    "print('light would travel this distance in {:.4g} years'.format(1.e6 * d_l/3.24))"
   ]
  },
  {
   "cell_type": "markdown",
   "id": "d0d6d3b6",
   "metadata": {
    "slideshow": {
     "slide_type": "skip"
    }
   },
   "source": [
    "One Megaparsec is million parsecs. One parsec is the distance light travels in about $\\approx 3.24$ years and is the amount by which apparent position of a star changes when the Earth moves around the Sun in 6 months time due to change of the location from which we view it.  "
   ]
  },
  {
   "cell_type": "markdown",
   "id": "85e88604",
   "metadata": {
    "slideshow": {
     "slide_type": "skip"
    }
   },
   "source": [
    "How can we check this calculation if we don't know the exact answer?  We can compare to the calculation by a similar function implemented by someone we'd trust. \n",
    "\n",
    "<a href=\"https://www.astropy.org/\">Astropy</a> package has a <a href=\"https://docs.astropy.org/en/stable/_modules/astropy/cosmology/core.html#FLRW\">cosmology sub-package</a>, which has many useful functions, including one that computes distance $d_L$."
   ]
  },
  {
   "cell_type": "code",
   "execution_count": 14,
   "id": "fd85e3b7",
   "metadata": {
    "slideshow": {
     "slide_type": "slide"
    }
   },
   "outputs": [],
   "source": [
    "from astropy.cosmology import LambdaCDM\n",
    "import astropy.units as u\n",
    "\n",
    "def d_l_astropy(z, H0, Om0, OmL):\n",
    "    cosmo = LambdaCDM(H0=H0, Om0=Om0, Ode0=OmL)\n",
    "    return cosmo.luminosity_distance(z=z) / u.Mpc"
   ]
  },
  {
   "cell_type": "code",
   "execution_count": 15,
   "id": "2a3c46be",
   "metadata": {
    "slideshow": {
     "slide_type": "fragment"
    }
   },
   "outputs": [
    {
     "name": "stdout",
     "output_type": "stream",
     "text": [
      "distance_trapezoidal = 116761.29 Mpc; distance_astropy = 116761.06 Mpc\n"
     ]
    }
   ],
   "source": [
    "Om0 = 0.3; OmL = 0.7; H0 = 70.\n",
    "\n",
    "d_la = d_l_astropy(x, H0, Om0, OmL)\n",
    "print('distance_trapezoidal = {:.2f} Mpc; distance_astropy = {:.2f} Mpc'.format(d_l, d_la))"
   ]
  },
  {
   "cell_type": "markdown",
   "id": "7ec173f9",
   "metadata": {
    "slideshow": {
     "slide_type": "skip"
    }
   },
   "source": [
    "Results are close but not identical. Let's recompute integral using more trapezoidal intervals. "
   ]
  },
  {
   "cell_type": "code",
   "execution_count": 16,
   "id": "130d751f",
   "metadata": {
    "slideshow": {
     "slide_type": "fragment"
    }
   },
   "outputs": [
    {
     "name": "stdout",
     "output_type": "stream",
     "text": [
      "distance_trapezoidal = 116761.06 Mpc; distance_astropy = 116761.06 Mpc\n"
     ]
    }
   ],
   "source": [
    "nsteps = 10000\n",
    "d_c = (1+x) * trapzd(dl_func, 0., x, nsteps, *args)\n",
    "d_l = d_c * clight / H0\n",
    "print('distance_trapezoidal = {:.2f} Mpc; distance_astropy = {:.2f} Mpc'.format(d_l, d_la))"
   ]
  },
  {
   "cell_type": "markdown",
   "id": "d18afc78",
   "metadata": {
    "slideshow": {
     "slide_type": "skip"
    }
   },
   "source": [
    "Now trapezoidal result matches astropy's function. "
   ]
  },
  {
   "cell_type": "markdown",
   "id": "144c8f8b",
   "metadata": {
    "slideshow": {
     "slide_type": "slide"
    }
   },
   "source": [
    "### <font color='darkblue'>How can we contol the accuracy of integration?\n",
    "\n",
    "First, let's take a look at how the fractional error of integration changes with the number of intervals (and thus step size) that we use. \n",
    "\n",
    "It is convenient to define a \"helper\" function that integrates function <tt>func</tt> using integration function <tt>int_func</tt> over interval $[a,b]$ for $n_s$ different step sizes so we can see how fractional error changes with step size. "
   ]
  },
  {
   "cell_type": "code",
   "execution_count": 18,
   "id": "4f485726",
   "metadata": {
    "slideshow": {
     "slide_type": "fragment"
    }
   },
   "outputs": [],
   "source": [
    "def compute_integral_steps(func, int_func, a, b, ns, *args):\n",
    "    nsteps = np.arange(1,ns) # generate a vector of nstep values from 1 to ns-1\n",
    "    trint = np.zeros(np.shape(nsteps)[0]) # initialize a vector for integration results for each step size\n",
    "\n",
    "    for i, ns in enumerate(nsteps):\n",
    "        trint[i] = int_func(func, a, b, 2**nsteps[i], *args) # compute the integral for each step size\n",
    "     \n",
    "    return trint, np.abs(b-a)/2**nsteps # return vectors of integration results and step sizes"
   ]
  },
  {
   "cell_type": "code",
   "execution_count": 21,
   "id": "5e106f04",
   "metadata": {
    "slideshow": {
     "slide_type": "slide"
    }
   },
   "outputs": [],
   "source": [
    "# integrate exp(x) from a, b - exact integral = exp(b) - exp(a)\n",
    "a = 0.; b = 1.\n",
    "ns = 27\n",
    "\n",
    "trint, hsteps = compute_integral_steps(np.exp, trapzd, a, b, ns)\n",
    "\n",
    "fexact = np.exp(b) - np.exp(a)\n",
    "ferr = np.abs(trint/fexact - 1.) # fractional error "
   ]
  },
  {
   "cell_type": "markdown",
   "id": "b2b5f2ca",
   "metadata": {
    "slideshow": {
     "slide_type": "skip"
    }
   },
   "source": [
    "It takes a few seconds to run for $2^{30}$ intervals, but we are getting integral with fractional accuracy of $\\approx 3\\times 10^{-16}$!\n",
    "\n",
    "Let's plot the fractional error as a function of step size $h$. "
   ]
  },
  {
   "cell_type": "markdown",
   "id": "e812f026",
   "metadata": {
    "slideshow": {
     "slide_type": "skip"
    }
   },
   "source": [
    "Another helper function for generic plots that include a line and (optionally) a set of points."
   ]
  },
  {
   "cell_type": "markdown",
   "id": "c4e39ba8",
   "metadata": {
    "slideshow": {
     "slide_type": "skip"
    }
   },
   "source": [
    "Now let's plot fractional error vs step size $h$. The plot below shows that fractional error increases as square of step size with increasing $h$ (line in the plot shows $\\propto h^2$"
   ]
  },
  {
   "cell_type": "code",
   "execution_count": 22,
   "id": "43236ee8",
   "metadata": {
    "slideshow": {
     "slide_type": "slide"
    }
   },
   "outputs": [
    {
     "data": {
      "image/png": "[encoded data removed]",
      "text/plain": [
       "<Figure size 600x600 with 1 Axes>"
      ]
     },
     "metadata": {
      "needs_background": "light"
     },
     "output_type": "display_data"
    }
   ],
   "source": [
    "from codes.plotting import plot_line_points\n",
    "\n",
    "#model is ferr ~ h^2, we normalize it to the size of error for first step size in the sequence:\n",
    "ferr_model = ferr[0] * (hsteps/hsteps[0])**2\n",
    "\n",
    "plot_line_points(np.log10(hsteps), np.log10(ferr_model), \n",
    "                 xlabel=r'$\\log_{10}\\,h$', ylabel = r'$\\log_{10}\\,\\vert\\rm fractional\\ error\\vert$',\n",
    "                 xp=np.log10(hsteps), yp=np.log10(ferr), points=True, grid=True, psize=25., figsize=3)"
   ]
  },
  {
   "cell_type": "markdown",
   "id": "32dedb3f",
   "metadata": {
    "slideshow": {
     "slide_type": "slide"
    }
   },
   "source": [
    "### <font color='darkblue'>The origin of the \"floor\" in the fractional error at $\\approx 10^{-15}-10^{-16}$"
   ]
  },
  {
   "cell_type": "markdown",
   "id": "3c0a96f9",
   "metadata": {
    "slideshow": {
     "slide_type": "fragment"
    }
   },
   "source": [
    "In the plot above we can see that fractional error decreases as $\\propto h^2$, but at the smallest $h$ values it stops decreasing and actually starts to increase. \n",
    "\n",
    "This is because <a href=\"https://en.wikipedia.org/wiki/Double-precision_floating-point_format\">a finite number of bits</a> (64) is used to represent floating point numbers in the <a href=\"https://en.wikipedia.org/wiki/IEEE_754-2008_revision\">IEEE-754</a> standard used in Python and other languages.\n",
    "\n"
   ]
  },
  {
   "cell_type": "code",
   "execution_count": 23,
   "id": "2fbfa759",
   "metadata": {
    "slideshow": {
     "slide_type": "-"
    }
   },
   "outputs": [
    {
     "name": "stdout",
     "output_type": "stream",
     "text": [
      "sys.float_info(max=1.7976931348623157e+308, max_exp=1024, max_10_exp=308, min=2.2250738585072014e-308, min_exp=-1021, min_10_exp=-307, dig=15, mant_dig=53, epsilon=2.220446049250313e-16, radix=2, rounds=1)\n"
     ]
    }
   ],
   "source": [
    "import sys\n",
    "print(sys.float_info)"
   ]
  },
  {
   "cell_type": "markdown",
   "id": "b7cfb010",
   "metadata": {
    "slideshow": {
     "slide_type": "skip"
    }
   },
   "source": [
    "The spacing between floating numbers around a floating number $x$ will be $\\approx 2\\varepsilon\\vert x\\vert\\approx 2.2\\times 10^{-16}\\vert x\\vert$. \n",
    "\n",
    "*Some floating point numbers can be represented exactly (if they need $\\leq 52$ bits to represent their fraction), while many other need to be* **rounded off.** \n",
    "\n",
    "Calculations with numbers that can be represented exactly are more accurate, but rounded off numbers are generic and cannot be avoided. \n",
    "\n",
    "This limited representable difference is the source of **roundoff errors** in numerical calculations"
   ]
  },
  {
   "cell_type": "code",
   "execution_count": 24,
   "id": "171d478b",
   "metadata": {
    "slideshow": {
     "slide_type": "slide"
    }
   },
   "outputs": [
    {
     "name": "stdout",
     "output_type": "stream",
     "text": [
      "53 1.1102230246251565e-16\n",
      "1.0\n"
     ]
    }
   ],
   "source": [
    "eps = 1.0 \n",
    "i = 0 # start at -1 so first iteration will correspond to i=0\n",
    "\n",
    "while 1.0 + eps != 1.0:\n",
    "    eps = eps / 2\n",
    "    i = i + 1\n",
    "\n",
    "print(i, eps)\n",
    "print(1.+eps)"
   ]
  },
  {
   "cell_type": "code",
   "execution_count": 25,
   "id": "c7d294ea",
   "metadata": {
    "slideshow": {
     "slide_type": "fragment"
    }
   },
   "outputs": [
    {
     "name": "stdout",
     "output_type": "stream",
     "text": [
      "2.220446049250313e-16\n"
     ]
    }
   ],
   "source": [
    "print(np.finfo(float).eps)"
   ]
  },
  {
   "cell_type": "code",
   "execution_count": 28,
   "id": "258bbe07",
   "metadata": {
    "slideshow": {
     "slide_type": "slide"
    }
   },
   "outputs": [],
   "source": [
    "# however... I have two floating point numbers like this. Can we get their difference?\n",
    "a = 1.; b = 2e-16"
   ]
  },
  {
   "cell_type": "markdown",
   "id": "009924fd",
   "metadata": {
    "slideshow": {
     "slide_type": "slide"
    }
   },
   "source": [
    "### <font color='darkblue'>Why does the fractional error of the trapezoidal integration scale as $\\propto h^2$?\n",
    "### <font color='darkblue'>Or does it always?"
   ]
  },
  {
   "cell_type": "code",
   "execution_count": 30,
   "id": "8cd43de7",
   "metadata": {
    "slideshow": {
     "slide_type": "slide"
    }
   },
   "outputs": [],
   "source": [
    "def sin_plus_1(x):\n",
    "    return np.sin(x) + 1."
   ]
  },
  {
   "cell_type": "markdown",
   "id": "bab7475d",
   "metadata": {},
   "source": [
    "First, let's redo the integral of sin(x), but with a different \n"
   ]
  },
  {
   "cell_type": "code",
   "execution_count": 31,
   "id": "ae851795",
   "metadata": {
    "slideshow": {
     "slide_type": "fragment"
    }
   },
   "outputs": [],
   "source": [
    "a = 0.; b = 2.*np.pi \n",
    "ns = 5\n",
    "\n",
    "trint, hsteps = compute_integral_steps(sin_plus_1, trapzd, a, b, ns)\n",
    "\n",
    "fexact = b - a - np.cos(b) + np.cos(a)\n",
    "ferr = np.abs(trint/fexact - 1.)"
   ]
  },
  {
   "cell_type": "code",
   "execution_count": 32,
   "id": "d9db3a6c",
   "metadata": {
    "slideshow": {
     "slide_type": "fragment"
    }
   },
   "outputs": [
    {
     "name": "stdout",
     "output_type": "stream",
     "text": [
      "6.283185307179586 [6.28318531 6.28318531 6.28318531 6.28318531]\n",
      "[0. 0. 0. 0.]\n"
     ]
    }
   ],
   "source": [
    "print(fexact, trint)\n",
    "print(ferr)"
   ]
  },
  {
   "cell_type": "markdown",
   "id": "5b39a134",
   "metadata": {
    "slideshow": {
     "slide_type": "skip"
    }
   },
   "source": [
    "Trapezoidal integration function returns answer *accurate to machine precision* for *all* values of step size!\n",
    "\n",
    "Then consider the following integration function that does trapezoidal integration with two steps $h$ and $h/2$ and combines results in a specific way..."
   ]
  },
  {
   "cell_type": "code",
   "execution_count": 33,
   "id": "3122baea",
   "metadata": {
    "slideshow": {
     "slide_type": "slide"
    }
   },
   "outputs": [],
   "source": [
    "def r1(func, a, b, nsteps):\n",
    "    return (4*trapzd(func, a, b, 2*nsteps) - trapzd(func, a, b, nsteps)) / 3\n",
    "\n",
    "def r2(func, a, b, nsteps):\n",
    "    return (16*r1(func, a, b, 2*nsteps) - r1(func, a, b, nsteps)) / 15\n",
    "\n",
    "def r3(func, a, b, nsteps):\n",
    "    return (64*r2(func, a, b, 2*nsteps) - r2(func, a, b, nsteps)) / 63"
   ]
  },
  {
   "cell_type": "code",
   "execution_count": 39,
   "id": "4b90e7b3",
   "metadata": {
    "slideshow": {
     "slide_type": "fragment"
    }
   },
   "outputs": [
    {
     "name": "stdout",
     "output_type": "stream",
     "text": [
      "1.718281828459045\n"
     ]
    }
   ],
   "source": [
    "# integrate e^x from a, b - exact integral = e^b - e^a\n",
    "a = 0.; b = 1.\n",
    "ns = 15\n",
    "\n",
    "fexact = np.exp(b) - np.exp(a)\n",
    "print(fexact)\n",
    "trint, hsteps = compute_integral_steps(np.exp, r1, a, b, ns)\n",
    "\n",
    "ferr = np.abs(trint/fexact - 1.)"
   ]
  },
  {
   "cell_type": "code",
   "execution_count": 41,
   "id": "abebdec4",
   "metadata": {
    "scrolled": false,
    "slideshow": {
     "slide_type": "slide"
    }
   },
   "outputs": [
    {
     "data": {
      "image/png": "[encoded data removed]",
      "text/plain": [
       "<Figure size 600x600 with 1 Axes>"
      ]
     },
     "metadata": {
      "needs_background": "light"
     },
     "output_type": "display_data"
    }
   ],
   "source": [
    "#model is ferr ~ h^n, we normalize it to the size of error for first step size in the sequence:\n",
    "n = 4\n",
    "ferr_model = ferr[0] * (hsteps/hsteps[0])**n\n",
    "\n",
    "plot_line_points(np.log10(hsteps), np.log10(ferr_model), \n",
    "                 xlabel=r'$\\log_{10}\\,\\rm step\\ size$', ylabel = r'$\\log_{10}\\vert\\rm fractional\\ error\\vert$',\n",
    "                 xp=np.log10(hsteps), yp=np.log10(ferr), points=True, \n",
    "                 legend=r'${\\rm scaling} \\propto h^%d$'%n, plegend = r'$\\rm measured\\ error$',\n",
    "                 legendloc = 'lower right', psize=25, \n",
    "                 plot_title=r'$R_1\\ \\rm frac.\\ error\\ scaling\\ with\\ step\\ size$',\n",
    "                 grid=True, figsize=3, figsave='fracerr_r1.pdf')"
   ]
  },
  {
   "cell_type": "code",
   "execution_count": 47,
   "id": "d2fa7601",
   "metadata": {
    "slideshow": {
     "slide_type": "-"
    }
   },
   "outputs": [],
   "source": [
    "ns = 12\n",
    "\n",
    "trint, hsteps = compute_integral_steps(np.exp, r2, a, b, ns)\n",
    "\n",
    "ferr = np.abs(trint/fexact - 1.)"
   ]
  },
  {
   "cell_type": "code",
   "execution_count": 48,
   "id": "6e8f73c7",
   "metadata": {
    "scrolled": false,
    "slideshow": {
     "slide_type": "slide"
    }
   },
   "outputs": [
    {
     "name": "stderr",
     "output_type": "stream",
     "text": [
      "C:\\Users\\akrav\\AppData\\Local\\Temp\\ipykernel_29312\\3017943118.py:7: RuntimeWarning: divide by zero encountered in log10\n",
      "  xp=np.log10(hsteps), yp=np.log10(ferr), points=True,\n"
     ]
    },
    {
     "data": {
      "image/png": "[encoded data removed]",
      "text/plain": [
       "<Figure size 600x600 with 1 Axes>"
      ]
     },
     "metadata": {
      "needs_background": "light"
     },
     "output_type": "display_data"
    }
   ],
   "source": [
    "#model is ferr ~ h^2, we normalize it to the size of error for first step size in the sequence:\n",
    "n = 6\n",
    "ferr_model = ferr[0] * (hsteps/hsteps[0])**n\n",
    "\n",
    "plot_line_points(np.log10(hsteps), np.log10(ferr_model), \n",
    "                 xlabel=r'$\\log_{10}\\,h$', ylabel = r'$\\vert\\rm fractional\\ error\\vert$',\n",
    "                 xp=np.log10(hsteps), yp=np.log10(ferr), points=True,\n",
    "                 legend=r'${\\rm scaling} \\propto h^%d$'%n, plegend = r'$\\rm measured\\ error$',\n",
    "                 legendloc = 'lower right', psize=25, \n",
    "                 plot_title=r'$R_2\\ \\rm frac.\\ error\\ scaling\\ with\\ step\\ size$',\n",
    "                 grid=True, figsize=3)"
   ]
  },
  {
   "cell_type": "markdown",
   "id": "1b927b94",
   "metadata": {
    "slideshow": {
     "slide_type": "slide"
    }
   },
   "source": [
    "We don't have to stop there and can continue this. After $m$ such steps, the new scheme at a step $m+1$ can be formed as \n",
    "$$\n",
    "R_{m+1}(h)=\\frac{4^{m+1} R_{m}(h/2)-R_{m}(h)}{4^{m+1}-1}.\n",
    "$$\n",
    "\n",
    "where $R_0(h)=T(h)$ is the integral estimate using trapezoidal scheme evaluated with step $h$. This trick is called the Romberg integration method. \n",
    "\n",
    "\n",
    "It works by successive cancellation of the leading terms in the truncation errors, as can be seen in the section on Romberg below (optional for undergraduate students). "
   ]
  },
  {
   "cell_type": "markdown",
   "id": "8b9dab67",
   "metadata": {
    "slideshow": {
     "slide_type": "slide"
    }
   },
   "source": [
    "This method was proposed for numerical integration by German-Norwegian mathematical physicist <a href=\"https://en.wikipedia.org/wiki/Werner_Romberg\">Werner Romberg</a> (got his PhD in Munich in 1933 working with Arnold Sommerfeld) in 1955, but became popular in 1960s with the spread of computers.  \n",
    "\n",
    "<center>\n",
    "<img width=300 src=\"https://astro.uchicago.edu/~andrey/classes/a211/img/Werner_Romberg.jpg\"></img>\n",
    "Werner Romberg (1909-2003)\n",
    "</center>"
   ]
  },
  {
   "cell_type": "markdown",
   "id": "aebba892",
   "metadata": {
    "slideshow": {
     "slide_type": "skip"
    }
   },
   "source": [
    "Werner Romberg had an unusual life and career. For political reasons he fled Germany in 1937,\n",
    "first to Ukraine and then to Norway, where in 1938 he joined the University of Oslo. He spent the war years in\n",
    "Sweden and then returned to Norway. In 1949 he joined the Norwegian Institute of Technology in Trondheim. He returned to Germany only in 1968, when he took a Professor position at the University of Heidelberg."
   ]
  },
  {
   "cell_type": "markdown",
   "id": "bb538f29",
   "metadata": {},
   "source": [
    "## Material below is optional for undergraduate students. \n",
    "\n",
    "### <font color='darkblue'>Algebra showing that $R_1(h)$ is equivalent to approximating $f(x)$ with a quadratic function over integration sub-interval (needs to be fixed)\n",
    "    \n",
    "For example, consider $R_1(h)$ on a single sub-interval $[x_{i}, x_{i+1}]$ of length $h={x_{i+1} - x_i}$ of the entire integration interval. Let's denote mid-point of this sub-interval $x_{i+1/2}$ and function values at all three points as $f_i, f_{i+1/2}, $f_{i+1}$. Then \n",
    "\n",
    "$$T_i(h) = \\frac{1}{2}\\, \\left(f_{i} + f_{i+1}\\right) h$$\n",
    "\n",
    "Over this same interval during computation of $T(h/2)$ we compute the area as the sum of two sub-intervals \n",
    "\n",
    "$$T_h\\left(\\frac{h}{2}\\right) = \\left(f_{i} + f_{i+1/2}\\right)\\,\\frac{h}{4} + \\left[f_{i+1/2} + f_{i+1}\\right]\\,\\frac{h}{4}$$\n",
    "\n",
    "So \n",
    "\n",
    "$$R_1(h) = \\frac{1}{3}\\left[4T\\left(\\frac{h}{2}\\right) - T(h)\\right] = \\frac{h}{6}\\,\\left(f_i + 4f_{i+1/2} + f_{i+1}\\right)$$\n",
    "\n",
    "If we had to find an interpolating quadratic function $a(x-x_i)^2 + b(x-x_i) + c$ that goes through $f_i, f_{i+1/2}, f_{i+1}$ exactly, then $c=f_i$, and\n",
    "\n",
    "$$ah^2/4 + bh/2 + c=f_{i+1/2}$$\n",
    "$$ah^2 + bh + c = f_{i+1},$$ \n",
    "\n",
    "which gives $b=(4f_{i+1/2}-f_{i+1})/h$ and \n",
    "\n",
    "$$a= \\frac{1}{h^2}\\,\\left(2f_{i+1}-4f_{i+1/2}+2f_i\\right).$$ \n",
    "\n",
    "So the integral \n",
    "\n",
    "$$\\int\\limits_{x_i}^{x_{i+1}} \\left[a(x-x_i)^2 + b(x-x_i) + c\\right]\\, dx = \\left\\{x-x_i\\rightarrow \\tilde{x}\\right\\} =\\int\\limits_0^h \\left[a\\tilde{x}^2 + b\\tilde{x} + c\\right]\\, d\\tilde{x} = a\\frac{h^3}{3} + b\\frac{h^2}{2} + ch, $$\n",
    "which is equal to\n",
    "$$-\\frac{4}{18}\\, (4f_{i+1/2}-f_{i+1})h + \\frac{4}{9}(f_{i+1}-f_{i+1/2})h + (4f_{i+1/2}-f_{i+1})\\,\\frac{h}{2} + f_i h $$\n"
   ]
  },
  {
   "cell_type": "markdown",
   "id": "f36c9123",
   "metadata": {
    "slideshow": {
     "slide_type": "slide"
    }
   },
   "source": [
    "### <font color='darkblue'>Truncation error of the trapezoidal scheme\n",
    "    \n",
    "To understand scalling of the fractional error of the trapezoidal scheme (and many other numerical schemes) it is critical to know the Taylor expansion of functions.  "
   ]
  },
  {
   "cell_type": "markdown",
   "id": "9a90165e",
   "metadata": {
    "slideshow": {
     "slide_type": "slide"
    }
   },
   "source": [
    "### <font color='darkblue'>The Taylor series expansion "
   ]
  },
  {
   "cell_type": "markdown",
   "id": "ffb066a1",
   "metadata": {
    "slideshow": {
     "slide_type": "-"
    }
   },
   "source": [
    "Consider <a href=\"https://www.mathsisfun.com/algebra/taylor-series.html\">Taylor series expansion</a> of $f(x)$ arond $x_0$:\n",
    "$$f(x) = \\sum\\limits^\\infty_{n=0} \\frac{f^{(n)}(x_0)(x-x_0)^n}{n!}=f(x_0)+f^\\prime(x_0)\\,(x-x_0)+\\frac{1}{2}f^{\\prime\\prime}(x_0)\\,(x-x_0)^2 + \\frac{1}{6}f^{(3)}(x_0)\\,(x-x_0)^3+ \\mathcal{O}[(x-x_0)^4].$$\n",
    "\n",
    "The term $\\mathcal{O}[(x-x_0)^4]$ is the standard shorthand for ``and terms of order 4 and higher''. If we neglect terms above certain order, we are no longer guaranteed to represent $f(x)$ exactly.\n",
    "\n",
    "For example, to linear order: \n",
    "$$f(x) \\approx f(x_0)+f^\\prime(x_0)\\,(x-x_0).$$\n",
    "\n",
    "The difference between $f(x)$ and approximation using limited number of terms, such as $f(x_0)+f^\\prime(x_0)\\,(x-x_0)$, is called *truncation error*. \n",
    "\n",
    "The code below computes and plots the sum of the 1, 2, 3, and 4 Taylor series for $f(x)=e^x$ around $x_0=1$ and compares them to $e^x$. You can see that with 4 of the first terms of the Taylor series we already start to approximate $e^x$ quite well. "
   ]
  },
  {
   "cell_type": "markdown",
   "id": "29c8fd3f",
   "metadata": {
    "slideshow": {
     "slide_type": "slide"
    }
   },
   "source": [
    "It is possible to use the Taylor expansion to formally derive the trapezoidal integration scheme along with all of its *truncation error terms*. "
   ]
  },
  {
   "cell_type": "markdown",
   "id": "6c4b0cb5",
   "metadata": {
    "slideshow": {
     "slide_type": "skip"
    }
   },
   "source": [
    "The derivation is not too difficult to follow, but it is long and is somewhat tedious (took me 3 pages of algebra to do this). It gives the <a href=\"https://en.wikipedia.org/wiki/Euler%E2%80%93Maclaurin_formula#Approximation_of_integrals\">Euler-Maclaurin formula</a>."
   ]
  },
  {
   "cell_type": "markdown",
   "id": "5d762725",
   "metadata": {
    "slideshow": {
     "slide_type": "fragment"
    }
   },
   "source": [
    "Denoting step size $h=x_{i+1}-x_i$, $x_i=a+ih$, and $f_i=f(x_i)$, $f_{i+1}=f(x_{i+1})$ etc., this formal derivation shows that integral over sub-interval $[x_i,x_{i+1}]$ is\n",
    "\n",
    "$$\n",
    "A_i =\\int\\limits_{x_i}^{x_{i+1}}f(x)dx = \\frac{h}{2}\\left[f_i+f_{i+1}\\right] + \\frac{h^2}{12}\\,\\left[f^{\\prime}_i-f^{\\prime}_{i+1}\\right] -  \\frac{h^4}{720}\\,\\left[f^{\\prime\\prime\\prime}_i-f^{\\prime\\prime\\prime}_{i+1}\\right]+\\mathcal{O}(h^6). \n",
    "$$\n",
    "\n",
    "Note that the first term corresponds to the evaluation of area in sub-interval using the area of trapezoid, while the rest of the terms contain *only even powers of $h$*."
   ]
  },
  {
   "cell_type": "markdown",
   "id": "ff45ee85",
   "metadata": {
    "slideshow": {
     "slide_type": "slide"
    }
   },
   "source": [
    "### <font color='darkblue'>Truncation error of the composite trapezoidal integration \n",
    "\n",
    "If we now combine the individual areas into total integral (note that $f_0=f(a)$, $f_N=f(b)$, etc.:\n",
    "\n",
    "$$A = \\int\\limits_a^b f(x)dx = \\sum\\limits_{i=0}^{N-1} A_i = \\frac{h}{2}\\left[f(a)+f(b)\\right] + h\\sum\\limits_{i=1}^{N-1}f_i + \\frac{h^2}{12}\\,\\left[f^{\\prime}(a)-f^{\\prime}(b)\\right] -  \\frac{h^4}{720}\\,\\left[f^{\\prime\\prime\\prime}(a)-f^{\\prime\\prime\\prime}(b)\\right]+\\mathcal{O}(h^6).\n",
    "$$\n",
    "\n",
    "or $A = T(h) +{\\rm truncation\\ error\\ terms\\ of\\ the\\ trapezoidal\\ scheme}$. "
   ]
  },
  {
   "cell_type": "markdown",
   "id": "d0d57b15",
   "metadata": {
    "slideshow": {
     "slide_type": "fragment"
    }
   },
   "source": [
    "Thus, the error of the trapezoidal scheme is\n",
    "\n",
    "\\begin{eqnarray}\n",
    "\\epsilon = T(h)-A &=& \\frac{h^2}{12}\\,\\left[f^{\\prime}(a)-f^{\\prime}(b)\\right] -  \\frac{h^4}{720}\\,\\left[f^{\\prime\\prime\\prime}(a)-f^{\\prime\\prime\\prime}(b)\\right]+\\mathcal{O}(h^6)\\\\\n",
    "&=&e_1h^2 + e_2h^4 + \\mathcal{O}(h^6+\\ldots +\\mathrm{only\\ even\\ powers\\ of\\ } h).\n",
    "\\end{eqnarray}"
   ]
  },
  {
   "cell_type": "markdown",
   "id": "341f61cd",
   "metadata": {
    "slideshow": {
     "slide_type": "fragment"
    }
   },
   "source": [
    "* Note that if the function derivatives of odd orders are equal at the ends of the integration interval: $f^{\\prime}(a)=f^{\\prime}(b)$, $f^{\\prime\\prime\\prime}(a)=f^{\\prime\\prime\\prime}(b)$ etc., the truncation error is zero! "
   ]
  },
  {
   "cell_type": "markdown",
   "id": "a475c001",
   "metadata": {
    "slideshow": {
     "slide_type": "skip"
    }
   },
   "source": [
    "Question: For what type of functions and integration interval these conditions will be generically true? \n",
    "\n",
    "Answer: periodic functions integrated over a period. In this case, trapezoidal scheme provides result with machine accuracy. "
   ]
  },
  {
   "cell_type": "markdown",
   "id": "aaf1de98",
   "metadata": {
    "slideshow": {
     "slide_type": "skip"
    }
   },
   "source": [
    "* If we know analytic expressions for the function derivatives, we can use the above equation (or its full version with all the terms, called the <a href=\"https://en.wikipedia.org/wiki/Euler%E2%80%93Maclaurin_formula#Approximation_of_integrals\">Euler-Maclaurin formula</a>) to compute value integral for such function to machine precision. "
   ]
  },
  {
   "cell_type": "markdown",
   "id": "94f2b070",
   "metadata": {
    "slideshow": {
     "slide_type": "skip"
    }
   },
   "source": [
    "* Even if we don't know the derivatives, the knowledge of the structure of the error terms can be exploited to obtain results of much higher accuracy. This is done in the *Romberg integration method*. "
   ]
  },
  {
   "cell_type": "markdown",
   "id": "f1266ac0",
   "metadata": {
    "slideshow": {
     "slide_type": "slide"
    }
   },
   "source": [
    "## <font color='darkblue'>Romberg integration method\n",
    "\n",
    "#### This section is optional for undergraduate students\n",
    "\n",
    "We showed that the integral can be expressed as  \n",
    "$$\n",
    "A=\\int\\limits^b_af(x)dx=T(h)+ e_1 h^2 + e_2 h^4 + \\mathcal{O}(h^6),\n",
    "$$\n",
    "where $e_1$, $e_2$, ... are some constants that depend on derivatives of $f(x)$ at $x=a$ and $x=b$. \n",
    "\n",
    "However, we can also express it using trapezoidal scheme with a twice smaller step size:\n",
    "$$\n",
    "A=\\int\\limits^b_af(x)dx=T\\left(\\frac{h}{2}\\right)+ e_1 \\left(\\frac{h}{2}\\right)^2 + e_2 \\left(\\frac{h}{2}\\right)^4 + \\mathcal{O}(h^6)\n",
    "=T\\left(\\frac{h}{2}\\right)+ \\frac{e_1}{4}\\,h^2 + \\frac{e_2}{16}\\,h^4 + \\mathcal{O}(h^6).\n",
    "$$\n"
   ]
  },
  {
   "cell_type": "markdown",
   "id": "61641c40",
   "metadata": {
    "slideshow": {
     "slide_type": "slide"
    }
   },
   "source": [
    "If we multiply the second equation by 4 and subtract the first equation from the result, we get \n",
    "\n",
    "$$3A = 4T\\left(\\frac{h}{2}\\right) - T(h) -\\frac{3e_2}{4}\\,h^4 + \\mathcal{O}(h^6)$$\n",
    "\n",
    "or \n",
    "\n",
    "$$A = \\frac{4T\\left(h/2\\right) - T(h)}{3} -\\frac{e_2}{4}\\,h^4 + \\mathcal{O}(h^6).$$"
   ]
  },
  {
   "cell_type": "markdown",
   "id": "98e35a73",
   "metadata": {
    "slideshow": {
     "slide_type": "fragment"
    }
   },
   "source": [
    "Let's denote $R_0(h) = T(h)$, the equation above shows that construct\n",
    "\n",
    "$$R_1(h) =  \\frac{4R_0\\left(h/2\\right) - R_0(h)}{3} = A +\\frac{e_2}{4}\\,h^4 + \\mathcal{O}(h^6),$$\n",
    "\n",
    "has leading error term of $\\propto h^4$ - that is the integration scheme $R_1(h)$ is *4th-order accurate*. \n",
    "\n",
    "In fact, $R_1(h)$ scheme is known as the *Simpson integration scheme.* This explains the second puzzling integration accuracy result that we saw. "
   ]
  },
  {
   "cell_type": "markdown",
   "id": "a0f74e89",
   "metadata": {
    "slideshow": {
     "slide_type": "skip"
    }
   },
   "source": [
    "The Simpson scheme is so called because the method is most often credited to the English mathematician Thomas Simpson (1710–1761). However, famous astronomer Johannes Kepler used similar formulas over 100 years prior, and this scheme is often called Kepler's rule, or Keplersche Fassregel (Kepler's barrel rule), especially in German literature."
   ]
  },
  {
   "cell_type": "markdown",
   "id": "63f59246",
   "metadata": {
    "slideshow": {
     "slide_type": "slide"
    }
   },
   "source": [
    "We can use the same trick and eliminate the leading truncation error term of $R_1(h)$ as follows:\n",
    "\n",
    "$$R_2(h) = \\frac{16R_1(h/2)-R_1(h)}{15} + e_3h^6 +\\mathcal{O}(h^8),$$\n",
    "\n",
    "which is known as the Boole integration scheme and is *6th order accurate.*"
   ]
  },
  {
   "cell_type": "markdown",
   "id": "1cc1606b",
   "metadata": {
    "slideshow": {
     "slide_type": "skip"
    }
   },
   "source": [
    "The scheme is credited to English mathematician <a href=\"https://en.wikipedia.org/wiki/George_Boole\">George Boole</a> (1815-1864) of the *Boolean logic* fame, and is sometimes mistakenly called Bode's rule. "
   ]
  },
  {
   "cell_type": "markdown",
   "id": "c5d2d4af",
   "metadata": {
    "slideshow": {
     "slide_type": "slide"
    }
   },
   "source": [
    "We don't have to stop there and can continue this. After $m$ such steps, the new scheme at a step $m+1$ can be formed as \n",
    "$$\n",
    "R_{m+1}(h)=\\frac{4^{m+1} R_{m}(h/2)-R_{m}(h)}{4^{m+1}-1}.\n",
    "$$\n",
    "\n",
    "The leading truncation error term of the scheme at step $m$ is $2(m+1)$:\n",
    "\n",
    "$$A = R_{m}(h) + \\mathcal{O}[h^{2(m+1)}].$$"
   ]
  },
  {
   "cell_type": "markdown",
   "id": "81c4ba0b",
   "metadata": {
    "slideshow": {
     "slide_type": "fragment"
    }
   },
   "source": [
    "We can thus use this *formula* to compute a series of increasingly accurate integral estimates by computing $R_0$, $R_1$, $R_2$,... up to $R_m$, where $m$ is some number.  "
   ]
  },
  {
   "cell_type": "markdown",
   "id": "e91f1a00",
   "metadata": {
    "slideshow": {
     "slide_type": "slide"
    }
   },
   "source": [
    "### How do we know when to stop? (i.e. up to what $m$ to compute?)\n",
    "\n",
    "In general, we do not know what the exact value of the integral, to which we could compare as in the test cases above."
   ]
  },
  {
   "cell_type": "markdown",
   "id": "63185833",
   "metadata": {
    "slideshow": {
     "slide_type": "fragment"
    }
   },
   "source": [
    "* We may choose to keep increasing $m$ until the fractional difference between $R_m$ and $R_{m-1}$ ($\\vert 1-R_{m-1}/R_m\\vert$) becomes smaller than $1/2^{52}$. "
   ]
  },
  {
   "cell_type": "markdown",
   "id": "5513fd51",
   "metadata": {
    "slideshow": {
     "slide_type": "fragment"
    }
   },
   "source": [
    "* We may choose to keep increasing $m$ until the absolute difference between $R_m$ and $R_{m-1}$ is smaller than some threshold ($\\vert R_{m-1}-R_m\\vert<\\rm atol$) or fractional difference is smaller than some threshold ($\\vert 1-R_{m-1}/R_m\\vert<\\rm rtol$). "
   ]
  },
  {
   "cell_type": "markdown",
   "id": "637b2b86",
   "metadata": {
    "slideshow": {
     "slide_type": "skip"
    }
   },
   "source": [
    "Note that in the latter case we should guard against cases when $R_m=0$. "
   ]
  },
  {
   "cell_type": "markdown",
   "id": "ca1d4a0c",
   "metadata": {
    "slideshow": {
     "slide_type": "slide"
    }
   },
   "source": [
    "The general method of improving accuracy and order of the scheme by eliminating leading truncation error terms was proposed by English mathematician, physicist, meteorologist, psychologist and pacifist Lewis Fry Richardson in 1922, when he attempted pioneering computations of air flows using a system of differential equations for weather prediction. This general approach is known as *Richardson's extrapolation.*\n",
    "<p>\n",
    "<center>\n",
    "<img width=300 src=\"https://astro.uchicago.edu/~andrey/classes/a211/img/Lewis_Fry_Richardson.png\"></img>\n",
    "Lewis Fry Richardson (1881-1953)\n",
    "</center>"
   ]
  },
  {
   "cell_type": "markdown",
   "id": "6005ab6c",
   "metadata": {
    "slideshow": {
     "slide_type": "slide"
    }
   },
   "source": [
    "### Limitations\n",
    "\n",
    "Romberg integration (or generally Richardson's extrapolation) is a powerful approach that works in majority of cases one encounters in practice (we mostly deal with reasonably behaving functions), but it has limitations for certain functions."
   ]
  },
  {
   "cell_type": "markdown",
   "id": "c95a290c",
   "metadata": {
    "slideshow": {
     "slide_type": "fragment"
    }
   },
   "source": [
    "* The truncation error terms depend on odd derivatives at the boundary. If any of these are large  (for example, if function is discontinuous), the accuracy can degrade drastically. \n",
    "\n",
    "Details depend on specific cases. A general rule is that if you get subpar results with the Romberg integration, examine the function you are integrating (plot it, understand its behavior). You may need to be creative in how to handle integration in such difficult cases by splitting integration into sub-intervals, changing variables of integration etc.\n",
    "\n",
    "For example, it is sometimes advantageous to integrate in $d\\ln x$ rather than in $dx$:\n",
    "\n",
    "$$\\int f(x) dx = \\int f(x) x d\\ln x.$$"
   ]
  },
  {
   "cell_type": "markdown",
   "id": "32c025a0",
   "metadata": {
    "slideshow": {
     "slide_type": "slide"
    }
   },
   "source": [
    "### SciPy's function <a href=\"https://docs.scipy.org/doc/scipy/reference/generated/scipy.integrate.romberg.html\"><tt>scipy.integrate.romberg</tt></a> \n",
    "\n",
    "implements Romberg's integration method. We will use it in calculations armed with the knowledge of what it actually does. You will have an option to implement Romberg integration in hw 4 assignment. "
   ]
  }
 ],
 "metadata": {
  "kernelspec": {
   "display_name": "Python 3 (ipykernel)",
   "language": "python",
   "name": "python3"
  },
  "language_info": {
   "codemirror_mode": {
    "name": "ipython",
    "version": 3
   },
   "file_extension": ".py",
   "mimetype": "text/x-python",
   "name": "python",
   "nbconvert_exporter": "python",
   "pygments_lexer": "ipython3",
   "version": "3.9.7"
  }
 },
 "nbformat": 4,
 "nbformat_minor": 5
}
